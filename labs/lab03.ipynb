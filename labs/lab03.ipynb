{
 "cells": [
  {
   "cell_type": "markdown",
   "id": "a3cc8c91",
   "metadata": {},
   "source": [
    "# Lab 03 - pandas I\n",
    "\n",
    "Name: Nick Satriano\n",
    "Class: CSCI 349 - Intro to Data Mining\n",
    "Semester: Spring 2023\n",
    "Instructor: Brian King"
   ]
  },
  {
   "cell_type": "code",
   "execution_count": 2,
   "id": "cca333e5",
   "metadata": {},
   "outputs": [],
   "source": [
    "import sys\n",
    "import numpy as np\n",
    "import pandas as pd"
   ]
  },
  {
   "cell_type": "markdown",
   "id": "0a72a5c7",
   "metadata": {},
   "source": [
    "#### 1) Report the Python, Numpy and Pandas version numbers."
   ]
  },
  {
   "cell_type": "code",
   "execution_count": 4,
   "id": "25841c21",
   "metadata": {
    "scrolled": true
   },
   "outputs": [
    {
     "name": "stdout",
     "output_type": "stream",
     "text": [
      "Python version:  3.9.16 (main, Jan 11 2023, 16:16:36) [MSC v.1916 64 bit (AMD64)]\n",
      "Numpy version:  1.23.5\n",
      "Pandas version:  1.4.4\n"
     ]
    }
   ],
   "source": [
    "print(\"Python version: \", sys.version)\n",
    "print(\"Numpy version: \", np.__version__)\n",
    "print(\"Pandas version: \", pd.__version__)"
   ]
  },
  {
   "cell_type": "markdown",
   "id": "84652e42",
   "metadata": {},
   "source": [
    "#### 2) Now, show the result of pd.show_versions(). Write a comment in the cell about what this shows."
   ]
  },
  {
   "cell_type": "code",
   "execution_count": 6,
   "id": "7c2b4dc3",
   "metadata": {},
   "outputs": [
    {
     "name": "stdout",
     "output_type": "stream",
     "text": [
      "\n",
      "INSTALLED VERSIONS\n",
      "------------------\n",
      "commit           : ca60aab7340d9989d9428e11a51467658190bb6b\n",
      "python           : 3.9.16.final.0\n",
      "python-bits      : 64\n",
      "OS               : Windows\n",
      "OS-release       : 10\n",
      "Version          : 10.0.22621\n",
      "machine          : AMD64\n",
      "processor        : AMD64 Family 25 Model 80 Stepping 0, AuthenticAMD\n",
      "byteorder        : little\n",
      "LC_ALL           : None\n",
      "LANG             : None\n",
      "LOCALE           : English_United States.1252\n",
      "\n",
      "pandas           : 1.4.4\n",
      "numpy            : 1.23.5\n",
      "pytz             : 2022.7\n",
      "dateutil         : 2.8.2\n",
      "setuptools       : 65.6.3\n",
      "pip              : 22.3.1\n",
      "Cython           : 0.29.32\n",
      "pytest           : 7.1.2\n",
      "hypothesis       : None\n",
      "sphinx           : 5.0.2\n",
      "blosc            : None\n",
      "feather          : None\n",
      "xlsxwriter       : 3.0.3\n",
      "lxml.etree       : 4.9.1\n",
      "html5lib         : None\n",
      "pymysql          : None\n",
      "psycopg2         : None\n",
      "jinja2           : 2.11.3\n",
      "IPython          : 7.31.1\n",
      "pandas_datareader: None\n",
      "bs4              : 4.11.1\n",
      "bottleneck       : 1.3.5\n",
      "brotli           : \n",
      "fastparquet      : None\n",
      "fsspec           : 2022.11.0\n",
      "gcsfs            : None\n",
      "markupsafe       : 2.0.1\n",
      "matplotlib       : 3.6.2\n",
      "numba            : 0.56.4\n",
      "numexpr          : 2.8.4\n",
      "odfpy            : None\n",
      "openpyxl         : 3.0.10\n",
      "pandas_gbq       : None\n",
      "pyarrow          : None\n",
      "pyreadstat       : None\n",
      "pyxlsb           : None\n",
      "s3fs             : None\n",
      "scipy            : 1.9.3\n",
      "snappy           : \n",
      "sqlalchemy       : 1.4.39\n",
      "tables           : 3.7.0\n",
      "tabulate         : 0.8.10\n",
      "xarray           : 2022.11.0\n",
      "xlrd             : 2.0.1\n",
      "xlwt             : None\n",
      "zstandard        : 0.18.0\n"
     ]
    }
   ],
   "source": [
    "pd.show_versions()\n",
    "# This function shows the versions of all dependencies used by pandas."
   ]
  },
  {
   "cell_type": "markdown",
   "id": "974f226b",
   "metadata": {},
   "source": [
    "#### 3) Explain the relationship between numpy and pandas. How are they tied together? How are they different? What core functionality does pandas add to numpy?"
   ]
  },
  {
   "cell_type": "markdown",
   "id": "c5be86b6",
   "metadata": {},
   "source": [
    "pandas contains data structures and handling tools while NumPy provides numerical computing tools. Though they are different in concept, pandas utilizes an array-based input much like NumPy. However, pandas is designed for handling heterogenous data, whereas NumPy is best used for strictly numerical arrays. pandas allows NumPy arrays to contain special data types by wrapping them as a PandasArray."
   ]
  },
  {
   "cell_type": "markdown",
   "id": "026e1310",
   "metadata": {},
   "source": [
    "#### 4) Compare and contrast Series and DataFrame."
   ]
  },
  {
   "cell_type": "markdown",
   "id": "77822e63",
   "metadata": {},
   "source": [
    "A Series is a one-dimensional array which can contain any data type. Series are indexed by their axis labels. A DataFrame is a 2-dimensional, labeled data structure that can contain columns of different types."
   ]
  },
  {
   "cell_type": "markdown",
   "id": "0f139c1b",
   "metadata": {},
   "source": [
    "#### 5) What are the data types that can be used to create a Series object in pandas?"
   ]
  },
  {
   "cell_type": "markdown",
   "id": "d63b5a58",
   "metadata": {},
   "source": [
    "Python dictionaries, ndarrays, and scalar values can be used to create a Series object in pandas."
   ]
  },
  {
   "cell_type": "markdown",
   "id": "c1e143d5",
   "metadata": {},
   "source": [
    "#### 6) What are the data structures that can be used to create a DataFrame object in pandas?"
   ]
  },
  {
   "cell_type": "markdown",
   "id": "629d8191",
   "metadata": {},
   "source": [
    "A DataFrame in pandas can be created from: a dictionary of 1-D ndarrays, a 2-D numpy.ndarray, a structured ndarray, a Series, or another DataFrame."
   ]
  },
  {
   "cell_type": "markdown",
   "id": "6bd442c2",
   "metadata": {},
   "source": [
    "#### 7) When creating a Series object, what role does the index parameter play? Does the index always need to be specified? If not, what happens?"
   ]
  },
  {
   "cell_type": "markdown",
   "id": "bbce8e4e",
   "metadata": {},
   "source": [
    "The index parameter is a list of axis labels for the Series. The index does not always need to be specified, and if it is not, then one is automatically created containing values [0, ..., len(data) - 1]."
   ]
  },
  {
   "cell_type": "markdown",
   "id": "4fac35ec",
   "metadata": {},
   "source": [
    "#### 8) Create a numpy array of 10 random 8-bit integers in the range [10,20) using numpy's randint function. Print the type of x, and show x. "
   ]
  },
  {
   "cell_type": "code",
   "execution_count": 26,
   "id": "9b9dc625",
   "metadata": {},
   "outputs": [
    {
     "name": "stdout",
     "output_type": "stream",
     "text": [
      "<class 'numpy.ndarray'>\n"
     ]
    },
    {
     "data": {
      "text/plain": [
       "array([14, 15, 12, 11, 12, 13, 14, 10, 14, 13], dtype=int8)"
      ]
     },
     "execution_count": 26,
     "metadata": {},
     "output_type": "execute_result"
    }
   ],
   "source": [
    "x = np.array(np.random.randint(10, high = 20, dtype = np.int8, size = 10))\n",
    "print(type(x))\n",
    "x"
   ]
  },
  {
   "cell_type": "code",
   "execution_count": 29,
   "id": "2a32e426",
   "metadata": {},
   "outputs": [
    {
     "name": "stdout",
     "output_type": "stream",
     "text": [
      "<class 'pandas.core.series.Series'>\n"
     ]
    },
    {
     "data": {
      "text/plain": [
       "0     14\n",
       "10    15\n",
       "20    12\n",
       "30    11\n",
       "40    12\n",
       "50    13\n",
       "60    14\n",
       "70    10\n",
       "80    14\n",
       "90    13\n",
       "Name: x2, dtype: int8"
      ]
     },
     "execution_count": 29,
     "metadata": {},
     "output_type": "execute_result"
    }
   ],
   "source": [
    "x2 = pd.Series(x, index=[0, 10, 20, 30, 40, 50, 60, 70, 80, 90], name = \"x2\")\n",
    "print(type(x2))\n",
    "x2"
   ]
  },
  {
   "cell_type": "markdown",
   "id": "8b6479e3",
   "metadata": {},
   "source": [
    "#### 9) Create a DataFrame object called df_x that has x2 as the first variable with the name of \"x2\", and an additional variable named \"x3\" that is 10 random floating point numbers in the range [100,200). Show the types of your dataframe using print(df_x.dtypes), and show the contents of your dataframe. Your index should remain as 0, 10, 20, … , 90."
   ]
  },
  {
   "cell_type": "code",
   "execution_count": 42,
   "id": "e49eda6d",
   "metadata": {},
   "outputs": [
    {
     "name": "stdout",
     "output_type": "stream",
     "text": [
      "x2       int8\n",
      "x3    float64\n",
      "dtype: object\n"
     ]
    },
    {
     "data": {
      "text/html": [
       "<div>\n",
       "<style scoped>\n",
       "    .dataframe tbody tr th:only-of-type {\n",
       "        vertical-align: middle;\n",
       "    }\n",
       "\n",
       "    .dataframe tbody tr th {\n",
       "        vertical-align: top;\n",
       "    }\n",
       "\n",
       "    .dataframe thead th {\n",
       "        text-align: right;\n",
       "    }\n",
       "</style>\n",
       "<table border=\"1\" class=\"dataframe\">\n",
       "  <thead>\n",
       "    <tr style=\"text-align: right;\">\n",
       "      <th></th>\n",
       "      <th>x2</th>\n",
       "      <th>x3</th>\n",
       "    </tr>\n",
       "  </thead>\n",
       "  <tbody>\n",
       "    <tr>\n",
       "      <th>0</th>\n",
       "      <td>14</td>\n",
       "      <td>156.0</td>\n",
       "    </tr>\n",
       "    <tr>\n",
       "      <th>10</th>\n",
       "      <td>15</td>\n",
       "      <td>124.0</td>\n",
       "    </tr>\n",
       "    <tr>\n",
       "      <th>20</th>\n",
       "      <td>12</td>\n",
       "      <td>161.0</td>\n",
       "    </tr>\n",
       "    <tr>\n",
       "      <th>30</th>\n",
       "      <td>11</td>\n",
       "      <td>131.0</td>\n",
       "    </tr>\n",
       "    <tr>\n",
       "      <th>40</th>\n",
       "      <td>12</td>\n",
       "      <td>199.0</td>\n",
       "    </tr>\n",
       "    <tr>\n",
       "      <th>50</th>\n",
       "      <td>13</td>\n",
       "      <td>182.0</td>\n",
       "    </tr>\n",
       "    <tr>\n",
       "      <th>60</th>\n",
       "      <td>14</td>\n",
       "      <td>126.0</td>\n",
       "    </tr>\n",
       "    <tr>\n",
       "      <th>70</th>\n",
       "      <td>10</td>\n",
       "      <td>188.0</td>\n",
       "    </tr>\n",
       "    <tr>\n",
       "      <th>80</th>\n",
       "      <td>14</td>\n",
       "      <td>124.0</td>\n",
       "    </tr>\n",
       "    <tr>\n",
       "      <th>90</th>\n",
       "      <td>13</td>\n",
       "      <td>139.0</td>\n",
       "    </tr>\n",
       "  </tbody>\n",
       "</table>\n",
       "</div>"
      ],
      "text/plain": [
       "    x2     x3\n",
       "0   14  156.0\n",
       "10  15  124.0\n",
       "20  12  161.0\n",
       "30  11  131.0\n",
       "40  12  199.0\n",
       "50  13  182.0\n",
       "60  14  126.0\n",
       "70  10  188.0\n",
       "80  14  124.0\n",
       "90  13  139.0"
      ]
     },
     "execution_count": 42,
     "metadata": {},
     "output_type": "execute_result"
    }
   ],
   "source": [
    "df_x = pd.DataFrame(x2)\n",
    "x3 = np.array(np.random.randint(100, high = 200, size = 10), dtype=float)\n",
    "x3 = pd.Series(x3)\n",
    "df_x[\"x3\"] = x3.values\n",
    "print(df_x.dtypes)\n",
    "df_x"
   ]
  },
  {
   "cell_type": "markdown",
   "id": "d2fafb02",
   "metadata": {},
   "source": [
    "#### 10) Consider the copy() method of a DataFrame object. What is this method for? Explain the difference between a shallow copy and a deep copy of a DataFrame? Why would I use a shallow copy?"
   ]
  },
  {
   "cell_type": "markdown",
   "id": "57439fe1",
   "metadata": {},
   "source": [
    "The copy method is used to make a copy of the DataFrame object. If a shallow copy is specified while calling copy(), then a new DataFrame object is created without copying the original object’s data or index. If copy() is specified as a deep copy, then the new object will be created using the original object's data and indices. We would want to use a shallow copy when we want to manipulate the copied data without changing the original data."
   ]
  },
  {
   "cell_type": "code",
   "execution_count": 43,
   "id": "9db1c7ca",
   "metadata": {},
   "outputs": [],
   "source": [
    "days = [\"Mon\",\"Tue\",\"Wed\",\"Thu\",\"Fri\"]\n",
    "scores_1 = [9.5, 8.75, 8, 10, 7.75]\n",
    "scores_2 = [9, 8, 10, 8.75, 7.25]"
   ]
  },
  {
   "cell_type": "markdown",
   "id": "429c6f4a",
   "metadata": {},
   "source": [
    "#### 11) Convert scores_1 and scores_2 into two Series objects. Use days as your index. You should name each Series object using the name parameter as \"week_1\", and \"week_2\". Do not show the result, only store the variables."
   ]
  },
  {
   "cell_type": "code",
   "execution_count": 44,
   "id": "b403ecb0",
   "metadata": {},
   "outputs": [],
   "source": [
    "scores_1 = pd.Series(scores_1, index = days, name = \"week_1\")\n",
    "scores_2 = pd.Series(scores_2, index = days, name = \"week_2\")"
   ]
  },
  {
   "cell_type": "markdown",
   "id": "457ae436",
   "metadata": {},
   "source": [
    "#### 12) Create a pandas DataFrame called scores that represents the above data. Show your data frame."
   ]
  },
  {
   "cell_type": "code",
   "execution_count": 56,
   "id": "d10ca26b",
   "metadata": {},
   "outputs": [
    {
     "data": {
      "text/html": [
       "<div>\n",
       "<style scoped>\n",
       "    .dataframe tbody tr th:only-of-type {\n",
       "        vertical-align: middle;\n",
       "    }\n",
       "\n",
       "    .dataframe tbody tr th {\n",
       "        vertical-align: top;\n",
       "    }\n",
       "\n",
       "    .dataframe thead th {\n",
       "        text-align: right;\n",
       "    }\n",
       "</style>\n",
       "<table border=\"1\" class=\"dataframe\">\n",
       "  <thead>\n",
       "    <tr style=\"text-align: right;\">\n",
       "      <th></th>\n",
       "      <th>Mon</th>\n",
       "      <th>Tue</th>\n",
       "      <th>Wed</th>\n",
       "      <th>Thu</th>\n",
       "      <th>Fri</th>\n",
       "    </tr>\n",
       "  </thead>\n",
       "  <tbody>\n",
       "    <tr>\n",
       "      <th>week_1</th>\n",
       "      <td>9.5</td>\n",
       "      <td>8.75</td>\n",
       "      <td>8.0</td>\n",
       "      <td>10.00</td>\n",
       "      <td>7.75</td>\n",
       "    </tr>\n",
       "    <tr>\n",
       "      <th>week_2</th>\n",
       "      <td>9.0</td>\n",
       "      <td>8.00</td>\n",
       "      <td>10.0</td>\n",
       "      <td>8.75</td>\n",
       "      <td>7.25</td>\n",
       "    </tr>\n",
       "  </tbody>\n",
       "</table>\n",
       "</div>"
      ],
      "text/plain": [
       "        Mon   Tue   Wed    Thu   Fri\n",
       "week_1  9.5  8.75   8.0  10.00  7.75\n",
       "week_2  9.0  8.00  10.0   8.75  7.25"
      ]
     },
     "execution_count": 56,
     "metadata": {},
     "output_type": "execute_result"
    }
   ],
   "source": [
    "scores = pd.DataFrame([scores_1, scores_2])\n",
    "scores"
   ]
  },
  {
   "cell_type": "markdown",
   "id": "22f129d2",
   "metadata": {},
   "source": [
    "#### 13) Use the pd.concat function to add the following data to the end of scores. [8.5,8,9.75,9,8.25]. The row label on the new week is \"week_3\". Show your updated data frame."
   ]
  },
  {
   "cell_type": "code",
   "execution_count": 58,
   "id": "6d87be7c",
   "metadata": {},
   "outputs": [
    {
     "data": {
      "text/html": [
       "<div>\n",
       "<style scoped>\n",
       "    .dataframe tbody tr th:only-of-type {\n",
       "        vertical-align: middle;\n",
       "    }\n",
       "\n",
       "    .dataframe tbody tr th {\n",
       "        vertical-align: top;\n",
       "    }\n",
       "\n",
       "    .dataframe thead th {\n",
       "        text-align: right;\n",
       "    }\n",
       "</style>\n",
       "<table border=\"1\" class=\"dataframe\">\n",
       "  <thead>\n",
       "    <tr style=\"text-align: right;\">\n",
       "      <th></th>\n",
       "      <th>Mon</th>\n",
       "      <th>Tue</th>\n",
       "      <th>Wed</th>\n",
       "      <th>Thu</th>\n",
       "      <th>Fri</th>\n",
       "    </tr>\n",
       "  </thead>\n",
       "  <tbody>\n",
       "    <tr>\n",
       "      <th>week_1</th>\n",
       "      <td>9.5</td>\n",
       "      <td>8.75</td>\n",
       "      <td>8.00</td>\n",
       "      <td>10.00</td>\n",
       "      <td>7.75</td>\n",
       "    </tr>\n",
       "    <tr>\n",
       "      <th>week_2</th>\n",
       "      <td>9.0</td>\n",
       "      <td>8.00</td>\n",
       "      <td>10.00</td>\n",
       "      <td>8.75</td>\n",
       "      <td>7.25</td>\n",
       "    </tr>\n",
       "    <tr>\n",
       "      <th>week_3</th>\n",
       "      <td>8.5</td>\n",
       "      <td>8.00</td>\n",
       "      <td>9.75</td>\n",
       "      <td>9.00</td>\n",
       "      <td>8.25</td>\n",
       "    </tr>\n",
       "  </tbody>\n",
       "</table>\n",
       "</div>"
      ],
      "text/plain": [
       "        Mon   Tue    Wed    Thu   Fri\n",
       "week_1  9.5  8.75   8.00  10.00  7.75\n",
       "week_2  9.0  8.00  10.00   8.75  7.25\n",
       "week_3  8.5  8.00   9.75   9.00  8.25"
      ]
     },
     "execution_count": 58,
     "metadata": {},
     "output_type": "execute_result"
    }
   ],
   "source": [
    "# Citation: https://pandas.pydata.org/docs/reference/api/pandas.concat.html\n",
    "scores_3 = pd.DataFrame([[8.5, 8, 9.75, 9, 8.25]], columns = days, index = [\"week_3\"])\n",
    "scores = pd.concat([scores, scores_3], axis = 0)\n",
    "scores"
   ]
  },
  {
   "cell_type": "markdown",
   "id": "06319316",
   "metadata": {},
   "source": [
    "#### 14) Write yourself a quick one sentence reference for each access method listed, with one example for each using the scores DataFrame."
   ]
  },
  {
   "cell_type": "markdown",
   "id": "b359f020",
   "metadata": {},
   "source": [
    ".at: Access a single value for a specified row/column label pair.\n"
   ]
  },
  {
   "cell_type": "code",
   "execution_count": 60,
   "id": "eda3ad8b",
   "metadata": {},
   "outputs": [
    {
     "data": {
      "text/plain": [
       "9.5"
      ]
     },
     "execution_count": 60,
     "metadata": {},
     "output_type": "execute_result"
    }
   ],
   "source": [
    "# Citation: https://pandas.pydata.org/docs/reference/api/pandas.DataFrame.at.html \n",
    "scores.at[\"week_1\", \"Mon\"]"
   ]
  },
  {
   "cell_type": "markdown",
   "id": "ea7d92a2",
   "metadata": {},
   "source": [
    ".iat: Access a single value for a row/column pair by integer position."
   ]
  },
  {
   "cell_type": "code",
   "execution_count": 61,
   "id": "b9cb4167",
   "metadata": {},
   "outputs": [
    {
     "data": {
      "text/plain": [
       "9.0"
      ]
     },
     "execution_count": 61,
     "metadata": {},
     "output_type": "execute_result"
    }
   ],
   "source": [
    "# Citation: https://pandas.pydata.org/docs/reference/api/pandas.DataFrame.iat.html\n",
    "scores.iat[2, 3]"
   ]
  },
  {
   "cell_type": "markdown",
   "id": "e10b149a",
   "metadata": {},
   "source": [
    ".loc: Access a group of rows and columns by label(s) or a boolean array."
   ]
  },
  {
   "cell_type": "code",
   "execution_count": 63,
   "id": "a057256e",
   "metadata": {},
   "outputs": [
    {
     "data": {
      "text/plain": [
       "Mon     9.00\n",
       "Tue     8.00\n",
       "Wed    10.00\n",
       "Thu     8.75\n",
       "Fri     7.25\n",
       "Name: week_2, dtype: float64"
      ]
     },
     "execution_count": 63,
     "metadata": {},
     "output_type": "execute_result"
    }
   ],
   "source": [
    "# Citation: https://pandas.pydata.org/docs/reference/api/pandas.DataFrame.loc.html\n",
    "scores.loc[\"week_2\"]"
   ]
  },
  {
   "cell_type": "markdown",
   "id": "fab13a91",
   "metadata": {},
   "source": [
    ".iloc: Purely integer-location based indexing for selection by position."
   ]
  },
  {
   "cell_type": "code",
   "execution_count": 64,
   "id": "e5e6fafa",
   "metadata": {},
   "outputs": [
    {
     "data": {
      "text/plain": [
       "Mon    8.50\n",
       "Tue    8.00\n",
       "Wed    9.75\n",
       "Thu    9.00\n",
       "Fri    8.25\n",
       "Name: week_3, dtype: float64"
      ]
     },
     "execution_count": 64,
     "metadata": {},
     "output_type": "execute_result"
    }
   ],
   "source": [
    "# Citation: https://pandas.pydata.org/docs/reference/api/pandas.DataFrame.iloc.html\n",
    "scores.iloc[2]"
   ]
  },
  {
   "cell_type": "code",
   "execution_count": 65,
   "id": "f0ba9814",
   "metadata": {},
   "outputs": [
    {
     "data": {
      "text/plain": [
       "Mon     9.50\n",
       "Tue     8.75\n",
       "Wed     8.00\n",
       "Thu    10.00\n",
       "Fri     7.75\n",
       "Name: week_1, dtype: float64"
      ]
     },
     "execution_count": 65,
     "metadata": {},
     "output_type": "execute_result"
    }
   ],
   "source": [
    "scores.iloc[0]"
   ]
  },
  {
   "cell_type": "code",
   "execution_count": 66,
   "id": "c18454d2",
   "metadata": {},
   "outputs": [
    {
     "data": {
      "text/html": [
       "<div>\n",
       "<style scoped>\n",
       "    .dataframe tbody tr th:only-of-type {\n",
       "        vertical-align: middle;\n",
       "    }\n",
       "\n",
       "    .dataframe tbody tr th {\n",
       "        vertical-align: top;\n",
       "    }\n",
       "\n",
       "    .dataframe thead th {\n",
       "        text-align: right;\n",
       "    }\n",
       "</style>\n",
       "<table border=\"1\" class=\"dataframe\">\n",
       "  <thead>\n",
       "    <tr style=\"text-align: right;\">\n",
       "      <th></th>\n",
       "      <th>Mon</th>\n",
       "      <th>Tue</th>\n",
       "      <th>Wed</th>\n",
       "      <th>Thu</th>\n",
       "      <th>Fri</th>\n",
       "    </tr>\n",
       "  </thead>\n",
       "  <tbody>\n",
       "    <tr>\n",
       "      <th>week_1</th>\n",
       "      <td>9.5</td>\n",
       "      <td>8.75</td>\n",
       "      <td>8.0</td>\n",
       "      <td>10.0</td>\n",
       "      <td>7.75</td>\n",
       "    </tr>\n",
       "  </tbody>\n",
       "</table>\n",
       "</div>"
      ],
      "text/plain": [
       "        Mon   Tue  Wed   Thu   Fri\n",
       "week_1  9.5  8.75  8.0  10.0  7.75"
      ]
     },
     "execution_count": 66,
     "metadata": {},
     "output_type": "execute_result"
    }
   ],
   "source": [
    "scores.iloc[0:1]"
   ]
  },
  {
   "cell_type": "code",
   "execution_count": 67,
   "id": "c3813b14",
   "metadata": {},
   "outputs": [
    {
     "data": {
      "text/html": [
       "<div>\n",
       "<style scoped>\n",
       "    .dataframe tbody tr th:only-of-type {\n",
       "        vertical-align: middle;\n",
       "    }\n",
       "\n",
       "    .dataframe tbody tr th {\n",
       "        vertical-align: top;\n",
       "    }\n",
       "\n",
       "    .dataframe thead th {\n",
       "        text-align: right;\n",
       "    }\n",
       "</style>\n",
       "<table border=\"1\" class=\"dataframe\">\n",
       "  <thead>\n",
       "    <tr style=\"text-align: right;\">\n",
       "      <th></th>\n",
       "      <th>Mon</th>\n",
       "    </tr>\n",
       "  </thead>\n",
       "  <tbody>\n",
       "    <tr>\n",
       "      <th>week_1</th>\n",
       "      <td>9.5</td>\n",
       "    </tr>\n",
       "    <tr>\n",
       "      <th>week_2</th>\n",
       "      <td>9.0</td>\n",
       "    </tr>\n",
       "    <tr>\n",
       "      <th>week_3</th>\n",
       "      <td>8.5</td>\n",
       "    </tr>\n",
       "  </tbody>\n",
       "</table>\n",
       "</div>"
      ],
      "text/plain": [
       "        Mon\n",
       "week_1  9.5\n",
       "week_2  9.0\n",
       "week_3  8.5"
      ]
     },
     "execution_count": 67,
     "metadata": {},
     "output_type": "execute_result"
    }
   ],
   "source": [
    "scores.iloc[:,0:1]"
   ]
  },
  {
   "cell_type": "code",
   "execution_count": 68,
   "id": "35021da7",
   "metadata": {},
   "outputs": [
    {
     "data": {
      "text/html": [
       "<div>\n",
       "<style scoped>\n",
       "    .dataframe tbody tr th:only-of-type {\n",
       "        vertical-align: middle;\n",
       "    }\n",
       "\n",
       "    .dataframe tbody tr th {\n",
       "        vertical-align: top;\n",
       "    }\n",
       "\n",
       "    .dataframe thead th {\n",
       "        text-align: right;\n",
       "    }\n",
       "</style>\n",
       "<table border=\"1\" class=\"dataframe\">\n",
       "  <thead>\n",
       "    <tr style=\"text-align: right;\">\n",
       "      <th></th>\n",
       "      <th>Mon</th>\n",
       "      <th>Tue</th>\n",
       "      <th>Wed</th>\n",
       "      <th>Thu</th>\n",
       "      <th>Fri</th>\n",
       "    </tr>\n",
       "  </thead>\n",
       "  <tbody>\n",
       "    <tr>\n",
       "      <th>week_1</th>\n",
       "      <td>9.5</td>\n",
       "      <td>8.75</td>\n",
       "      <td>8.0</td>\n",
       "      <td>10.0</td>\n",
       "      <td>7.75</td>\n",
       "    </tr>\n",
       "  </tbody>\n",
       "</table>\n",
       "</div>"
      ],
      "text/plain": [
       "        Mon   Tue  Wed   Thu   Fri\n",
       "week_1  9.5  8.75  8.0  10.0  7.75"
      ]
     },
     "execution_count": 68,
     "metadata": {},
     "output_type": "execute_result"
    }
   ],
   "source": [
    "scores[0:1]"
   ]
  },
  {
   "cell_type": "code",
   "execution_count": 69,
   "id": "92048042",
   "metadata": {},
   "outputs": [
    {
     "data": {
      "text/plain": [
       "week_1    9.5\n",
       "week_2    9.0\n",
       "week_3    8.5\n",
       "Name: Mon, dtype: float64"
      ]
     },
     "execution_count": 69,
     "metadata": {},
     "output_type": "execute_result"
    }
   ],
   "source": [
    "scores.Mon"
   ]
  },
  {
   "cell_type": "code",
   "execution_count": 70,
   "id": "0c0dc8d3",
   "metadata": {},
   "outputs": [
    {
     "data": {
      "text/plain": [
       "week_1    9.5\n",
       "week_2    9.0\n",
       "week_3    8.5\n",
       "Name: Mon, dtype: float64"
      ]
     },
     "execution_count": 70,
     "metadata": {},
     "output_type": "execute_result"
    }
   ],
   "source": [
    "scores[\"Mon\"]"
   ]
  },
  {
   "cell_type": "code",
   "execution_count": 71,
   "id": "7724485e",
   "metadata": {},
   "outputs": [
    {
     "data": {
      "text/plain": [
       "week_1    9.5\n",
       "week_2    9.0\n",
       "week_3    8.5\n",
       "Name: Mon, dtype: float64"
      ]
     },
     "execution_count": 71,
     "metadata": {},
     "output_type": "execute_result"
    }
   ],
   "source": [
    "scores.loc[:,\"Mon\"]"
   ]
  },
  {
   "cell_type": "code",
   "execution_count": 72,
   "id": "2dda5f0a",
   "metadata": {},
   "outputs": [
    {
     "data": {
      "text/html": [
       "<div>\n",
       "<style scoped>\n",
       "    .dataframe tbody tr th:only-of-type {\n",
       "        vertical-align: middle;\n",
       "    }\n",
       "\n",
       "    .dataframe tbody tr th {\n",
       "        vertical-align: top;\n",
       "    }\n",
       "\n",
       "    .dataframe thead th {\n",
       "        text-align: right;\n",
       "    }\n",
       "</style>\n",
       "<table border=\"1\" class=\"dataframe\">\n",
       "  <thead>\n",
       "    <tr style=\"text-align: right;\">\n",
       "      <th></th>\n",
       "      <th>Mon</th>\n",
       "    </tr>\n",
       "  </thead>\n",
       "  <tbody>\n",
       "    <tr>\n",
       "      <th>week_1</th>\n",
       "      <td>9.5</td>\n",
       "    </tr>\n",
       "    <tr>\n",
       "      <th>week_2</th>\n",
       "      <td>9.0</td>\n",
       "    </tr>\n",
       "    <tr>\n",
       "      <th>week_3</th>\n",
       "      <td>8.5</td>\n",
       "    </tr>\n",
       "  </tbody>\n",
       "</table>\n",
       "</div>"
      ],
      "text/plain": [
       "        Mon\n",
       "week_1  9.5\n",
       "week_2  9.0\n",
       "week_3  8.5"
      ]
     },
     "execution_count": 72,
     "metadata": {},
     "output_type": "execute_result"
    }
   ],
   "source": [
    "scores.loc[:,[\"Mon\"]]"
   ]
  },
  {
   "cell_type": "markdown",
   "id": "302882fa",
   "metadata": {},
   "source": [
    "#### 15) Show at least two different techniques to select scores for Tuesday using the string \"Tue\" as a Series. "
   ]
  },
  {
   "cell_type": "code",
   "execution_count": 84,
   "id": "3563bd92",
   "metadata": {
    "scrolled": true
   },
   "outputs": [
    {
     "data": {
      "text/plain": [
       "week_1    8.75\n",
       "week_2    8.00\n",
       "week_3    8.00\n",
       "Name: Tue, dtype: float64"
      ]
     },
     "execution_count": 84,
     "metadata": {},
     "output_type": "execute_result"
    }
   ],
   "source": [
    "scores[\"Tue\"]"
   ]
  },
  {
   "cell_type": "code",
   "execution_count": 85,
   "id": "8a27565c",
   "metadata": {},
   "outputs": [
    {
     "data": {
      "text/plain": [
       "week_1    8.75\n",
       "week_2    8.00\n",
       "week_3    8.00\n",
       "Name: Tue, dtype: float64"
      ]
     },
     "execution_count": 85,
     "metadata": {},
     "output_type": "execute_result"
    }
   ],
   "source": [
    "scores.loc[:, \"Tue\"]"
   ]
  },
  {
   "cell_type": "markdown",
   "id": "67535d27",
   "metadata": {},
   "source": [
    "#### 16) Show how to retrieve the scores for Tuesday using the named attribute Tue. "
   ]
  },
  {
   "cell_type": "code",
   "execution_count": 79,
   "id": "3fb08792",
   "metadata": {},
   "outputs": [
    {
     "data": {
      "text/plain": [
       "week_1    8.75\n",
       "week_2    8.00\n",
       "week_3    8.00\n",
       "Name: Tue, dtype: float64"
      ]
     },
     "execution_count": 79,
     "metadata": {},
     "output_type": "execute_result"
    }
   ],
   "source": [
    "scores.Tue"
   ]
  },
  {
   "cell_type": "markdown",
   "id": "269ea4fc",
   "metadata": {},
   "source": [
    "#### 17) Show at least three techniques to select scores for Wednesday using an integer. The return type can be either a DataFrame or a Series."
   ]
  },
  {
   "cell_type": "code",
   "execution_count": 97,
   "id": "763d99c1",
   "metadata": {},
   "outputs": [
    {
     "data": {
      "text/html": [
       "<div>\n",
       "<style scoped>\n",
       "    .dataframe tbody tr th:only-of-type {\n",
       "        vertical-align: middle;\n",
       "    }\n",
       "\n",
       "    .dataframe tbody tr th {\n",
       "        vertical-align: top;\n",
       "    }\n",
       "\n",
       "    .dataframe thead th {\n",
       "        text-align: right;\n",
       "    }\n",
       "</style>\n",
       "<table border=\"1\" class=\"dataframe\">\n",
       "  <thead>\n",
       "    <tr style=\"text-align: right;\">\n",
       "      <th></th>\n",
       "      <th>Wed</th>\n",
       "    </tr>\n",
       "  </thead>\n",
       "  <tbody>\n",
       "    <tr>\n",
       "      <th>week_1</th>\n",
       "      <td>8.00</td>\n",
       "    </tr>\n",
       "    <tr>\n",
       "      <th>week_2</th>\n",
       "      <td>10.00</td>\n",
       "    </tr>\n",
       "    <tr>\n",
       "      <th>week_3</th>\n",
       "      <td>9.75</td>\n",
       "    </tr>\n",
       "  </tbody>\n",
       "</table>\n",
       "</div>"
      ],
      "text/plain": [
       "          Wed\n",
       "week_1   8.00\n",
       "week_2  10.00\n",
       "week_3   9.75"
      ]
     },
     "execution_count": 97,
     "metadata": {},
     "output_type": "execute_result"
    }
   ],
   "source": [
    "scores.iloc[:, 2:3]"
   ]
  },
  {
   "cell_type": "code",
   "execution_count": 98,
   "id": "c53e3731",
   "metadata": {},
   "outputs": [
    {
     "data": {
      "text/plain": [
       "'Wed'"
      ]
     },
     "execution_count": 98,
     "metadata": {},
     "output_type": "execute_result"
    }
   ],
   "source": [
    "# Citation: ChatGPT\n",
    "scores.columns[2]"
   ]
  },
  {
   "cell_type": "code",
   "execution_count": 96,
   "id": "563bd227",
   "metadata": {},
   "outputs": [
    {
     "data": {
      "text/plain": [
       "'Wed'"
      ]
     },
     "execution_count": 96,
     "metadata": {},
     "output_type": "execute_result"
    }
   ],
   "source": [
    "# Citation: ChatGPT\n",
    "scores.columns.values[2]"
   ]
  },
  {
   "cell_type": "markdown",
   "id": "6c279373",
   "metadata": {},
   "source": [
    "#### 18) Select the data for the first week using the string \"week_1\". Your result should return a Series representing the scores for week 1."
   ]
  },
  {
   "cell_type": "code",
   "execution_count": 102,
   "id": "6158f3fb",
   "metadata": {},
   "outputs": [
    {
     "data": {
      "text/plain": [
       "Mon     9.50\n",
       "Tue     8.75\n",
       "Wed     8.00\n",
       "Thu    10.00\n",
       "Fri     7.75\n",
       "Name: week_1, dtype: float64"
      ]
     },
     "execution_count": 102,
     "metadata": {},
     "output_type": "execute_result"
    }
   ],
   "source": [
    "scores.loc[\"week_1\"]"
   ]
  },
  {
   "cell_type": "markdown",
   "id": "b62a3cb4",
   "metadata": {},
   "source": [
    "#### 19) Select the data for the first week using the string \"week_1\". Your result should return a DataFrame, representing the subset of the scores DataFrame for week 1 only."
   ]
  },
  {
   "cell_type": "code",
   "execution_count": 103,
   "id": "429f54fb",
   "metadata": {},
   "outputs": [
    {
     "data": {
      "text/html": [
       "<div>\n",
       "<style scoped>\n",
       "    .dataframe tbody tr th:only-of-type {\n",
       "        vertical-align: middle;\n",
       "    }\n",
       "\n",
       "    .dataframe tbody tr th {\n",
       "        vertical-align: top;\n",
       "    }\n",
       "\n",
       "    .dataframe thead th {\n",
       "        text-align: right;\n",
       "    }\n",
       "</style>\n",
       "<table border=\"1\" class=\"dataframe\">\n",
       "  <thead>\n",
       "    <tr style=\"text-align: right;\">\n",
       "      <th></th>\n",
       "      <th>Mon</th>\n",
       "      <th>Tue</th>\n",
       "      <th>Wed</th>\n",
       "      <th>Thu</th>\n",
       "      <th>Fri</th>\n",
       "    </tr>\n",
       "  </thead>\n",
       "  <tbody>\n",
       "    <tr>\n",
       "      <th>week_1</th>\n",
       "      <td>9.5</td>\n",
       "      <td>8.75</td>\n",
       "      <td>8.0</td>\n",
       "      <td>10.0</td>\n",
       "      <td>7.75</td>\n",
       "    </tr>\n",
       "  </tbody>\n",
       "</table>\n",
       "</div>"
      ],
      "text/plain": [
       "        Mon   Tue  Wed   Thu   Fri\n",
       "week_1  9.5  8.75  8.0  10.0  7.75"
      ]
     },
     "execution_count": 103,
     "metadata": {},
     "output_type": "execute_result"
    }
   ],
   "source": [
    "scores.loc[[\"week_1\"]]"
   ]
  },
  {
   "cell_type": "markdown",
   "id": "316c3242",
   "metadata": {},
   "source": [
    "#### 20) Select the data for the first week using a slice."
   ]
  },
  {
   "cell_type": "code",
   "execution_count": 104,
   "id": "8af45813",
   "metadata": {},
   "outputs": [
    {
     "data": {
      "text/html": [
       "<div>\n",
       "<style scoped>\n",
       "    .dataframe tbody tr th:only-of-type {\n",
       "        vertical-align: middle;\n",
       "    }\n",
       "\n",
       "    .dataframe tbody tr th {\n",
       "        vertical-align: top;\n",
       "    }\n",
       "\n",
       "    .dataframe thead th {\n",
       "        text-align: right;\n",
       "    }\n",
       "</style>\n",
       "<table border=\"1\" class=\"dataframe\">\n",
       "  <thead>\n",
       "    <tr style=\"text-align: right;\">\n",
       "      <th></th>\n",
       "      <th>Mon</th>\n",
       "      <th>Tue</th>\n",
       "      <th>Wed</th>\n",
       "      <th>Thu</th>\n",
       "      <th>Fri</th>\n",
       "    </tr>\n",
       "  </thead>\n",
       "  <tbody>\n",
       "    <tr>\n",
       "      <th>week_1</th>\n",
       "      <td>9.5</td>\n",
       "      <td>8.75</td>\n",
       "      <td>8.0</td>\n",
       "      <td>10.0</td>\n",
       "      <td>7.75</td>\n",
       "    </tr>\n",
       "  </tbody>\n",
       "</table>\n",
       "</div>"
      ],
      "text/plain": [
       "        Mon   Tue  Wed   Thu   Fri\n",
       "week_1  9.5  8.75  8.0  10.0  7.75"
      ]
     },
     "execution_count": 104,
     "metadata": {},
     "output_type": "execute_result"
    }
   ],
   "source": [
    "scores.loc[:\"week_1\"]"
   ]
  },
  {
   "cell_type": "markdown",
   "id": "60c11217",
   "metadata": {},
   "source": [
    "#### 21) Use .iloc to select Monday and Friday of the first and third week."
   ]
  },
  {
   "cell_type": "code",
   "execution_count": 106,
   "id": "103d13da",
   "metadata": {},
   "outputs": [
    {
     "data": {
      "text/html": [
       "<div>\n",
       "<style scoped>\n",
       "    .dataframe tbody tr th:only-of-type {\n",
       "        vertical-align: middle;\n",
       "    }\n",
       "\n",
       "    .dataframe tbody tr th {\n",
       "        vertical-align: top;\n",
       "    }\n",
       "\n",
       "    .dataframe thead th {\n",
       "        text-align: right;\n",
       "    }\n",
       "</style>\n",
       "<table border=\"1\" class=\"dataframe\">\n",
       "  <thead>\n",
       "    <tr style=\"text-align: right;\">\n",
       "      <th></th>\n",
       "      <th>Mon</th>\n",
       "      <th>Fri</th>\n",
       "    </tr>\n",
       "  </thead>\n",
       "  <tbody>\n",
       "    <tr>\n",
       "      <th>week_1</th>\n",
       "      <td>9.5</td>\n",
       "      <td>7.75</td>\n",
       "    </tr>\n",
       "    <tr>\n",
       "      <th>week_3</th>\n",
       "      <td>8.5</td>\n",
       "      <td>8.25</td>\n",
       "    </tr>\n",
       "  </tbody>\n",
       "</table>\n",
       "</div>"
      ],
      "text/plain": [
       "        Mon   Fri\n",
       "week_1  9.5  7.75\n",
       "week_3  8.5  8.25"
      ]
     },
     "execution_count": 106,
     "metadata": {},
     "output_type": "execute_result"
    }
   ],
   "source": [
    "# Citation: ChatGPT\n",
    "scores.iloc[[0,2], [0,4]]"
   ]
  },
  {
   "cell_type": "markdown",
   "id": "13076306",
   "metadata": {},
   "source": [
    "#### 22)  Repeat the previous exercise, but use the .loc selector. You should have the same result."
   ]
  },
  {
   "cell_type": "code",
   "execution_count": 116,
   "id": "f5fc9919",
   "metadata": {},
   "outputs": [
    {
     "data": {
      "text/html": [
       "<div>\n",
       "<style scoped>\n",
       "    .dataframe tbody tr th:only-of-type {\n",
       "        vertical-align: middle;\n",
       "    }\n",
       "\n",
       "    .dataframe tbody tr th {\n",
       "        vertical-align: top;\n",
       "    }\n",
       "\n",
       "    .dataframe thead th {\n",
       "        text-align: right;\n",
       "    }\n",
       "</style>\n",
       "<table border=\"1\" class=\"dataframe\">\n",
       "  <thead>\n",
       "    <tr style=\"text-align: right;\">\n",
       "      <th></th>\n",
       "      <th>Mon</th>\n",
       "      <th>Fri</th>\n",
       "    </tr>\n",
       "  </thead>\n",
       "  <tbody>\n",
       "    <tr>\n",
       "      <th>week_1</th>\n",
       "      <td>9.5</td>\n",
       "      <td>7.75</td>\n",
       "    </tr>\n",
       "    <tr>\n",
       "      <th>week_3</th>\n",
       "      <td>8.5</td>\n",
       "      <td>8.25</td>\n",
       "    </tr>\n",
       "  </tbody>\n",
       "</table>\n",
       "</div>"
      ],
      "text/plain": [
       "        Mon   Fri\n",
       "week_1  9.5  7.75\n",
       "week_3  8.5  8.25"
      ]
     },
     "execution_count": 116,
     "metadata": {},
     "output_type": "execute_result"
    }
   ],
   "source": [
    "scores.loc[[\"week_1\", \"week_3\"], [\"Mon\", \"Fri\"]]"
   ]
  },
  {
   "cell_type": "markdown",
   "id": "4812726e",
   "metadata": {},
   "source": [
    "#### 23) Report the mean score for each day."
   ]
  },
  {
   "cell_type": "code",
   "execution_count": 108,
   "id": "7d5e5797",
   "metadata": {},
   "outputs": [
    {
     "data": {
      "text/plain": [
       "Mon    9.00\n",
       "Tue    8.25\n",
       "Wed    9.25\n",
       "Thu    9.25\n",
       "Fri    7.75\n",
       "dtype: float64"
      ]
     },
     "execution_count": 108,
     "metadata": {},
     "output_type": "execute_result"
    }
   ],
   "source": [
    "scores.mean()"
   ]
  },
  {
   "cell_type": "markdown",
   "id": "819d2533",
   "metadata": {},
   "source": [
    "#### 24) Report the mean score for each week"
   ]
  },
  {
   "cell_type": "code",
   "execution_count": 115,
   "id": "5e3e4897",
   "metadata": {},
   "outputs": [
    {
     "data": {
      "text/plain": [
       "week_1    8.8\n",
       "week_2    8.6\n",
       "week_3    8.7\n",
       "dtype: float64"
      ]
     },
     "execution_count": 115,
     "metadata": {},
     "output_type": "execute_result"
    }
   ],
   "source": [
    "# Citation: https://pandas.pydata.org/docs/reference/api/pandas.DataFrame.mean.html\n",
    "scores.mean(axis = 1)"
   ]
  },
  {
   "cell_type": "markdown",
   "id": "943306bb",
   "metadata": {},
   "source": [
    "#### 25) For each week, report how much each day's score for that week differed from the mean for the week."
   ]
  },
  {
   "cell_type": "code",
   "execution_count": 117,
   "id": "1f4fcdcf",
   "metadata": {},
   "outputs": [
    {
     "data": {
      "text/html": [
       "<div>\n",
       "<style scoped>\n",
       "    .dataframe tbody tr th:only-of-type {\n",
       "        vertical-align: middle;\n",
       "    }\n",
       "\n",
       "    .dataframe tbody tr th {\n",
       "        vertical-align: top;\n",
       "    }\n",
       "\n",
       "    .dataframe thead th {\n",
       "        text-align: right;\n",
       "    }\n",
       "</style>\n",
       "<table border=\"1\" class=\"dataframe\">\n",
       "  <thead>\n",
       "    <tr style=\"text-align: right;\">\n",
       "      <th></th>\n",
       "      <th>Mon</th>\n",
       "      <th>Tue</th>\n",
       "      <th>Wed</th>\n",
       "      <th>Thu</th>\n",
       "      <th>Fri</th>\n",
       "    </tr>\n",
       "  </thead>\n",
       "  <tbody>\n",
       "    <tr>\n",
       "      <th>week_1</th>\n",
       "      <td>0.7</td>\n",
       "      <td>-0.05</td>\n",
       "      <td>-0.80</td>\n",
       "      <td>1.20</td>\n",
       "      <td>-1.05</td>\n",
       "    </tr>\n",
       "    <tr>\n",
       "      <th>week_2</th>\n",
       "      <td>0.4</td>\n",
       "      <td>-0.60</td>\n",
       "      <td>1.40</td>\n",
       "      <td>0.15</td>\n",
       "      <td>-1.35</td>\n",
       "    </tr>\n",
       "    <tr>\n",
       "      <th>week_3</th>\n",
       "      <td>-0.2</td>\n",
       "      <td>-0.70</td>\n",
       "      <td>1.05</td>\n",
       "      <td>0.30</td>\n",
       "      <td>-0.45</td>\n",
       "    </tr>\n",
       "  </tbody>\n",
       "</table>\n",
       "</div>"
      ],
      "text/plain": [
       "        Mon   Tue   Wed   Thu   Fri\n",
       "week_1  0.7 -0.05 -0.80  1.20 -1.05\n",
       "week_2  0.4 -0.60  1.40  0.15 -1.35\n",
       "week_3 -0.2 -0.70  1.05  0.30 -0.45"
      ]
     },
     "execution_count": 117,
     "metadata": {},
     "output_type": "execute_result"
    }
   ],
   "source": [
    "mean_scores = scores.mean(axis = 1)\n",
    "diff_scores = scores.sub(mean_scores, axis = 0)\n",
    "diff_scores"
   ]
  },
  {
   "cell_type": "markdown",
   "id": "16158ec4",
   "metadata": {},
   "source": [
    "#### 26) Report the maximum score for each week. Your result should be a Series."
   ]
  },
  {
   "cell_type": "code",
   "execution_count": 118,
   "id": "f41ab39b",
   "metadata": {},
   "outputs": [
    {
     "data": {
      "text/plain": [
       "week_1    10.00\n",
       "week_2    10.00\n",
       "week_3     9.75\n",
       "dtype: float64"
      ]
     },
     "execution_count": 118,
     "metadata": {},
     "output_type": "execute_result"
    }
   ],
   "source": [
    "scores.max(axis = 1)"
   ]
  },
  {
   "cell_type": "markdown",
   "id": "c6dc6379",
   "metadata": {},
   "source": [
    "#### 27) For each week, report which day had the largest score. Again, you should be reporting your result as a Series. "
   ]
  },
  {
   "cell_type": "code",
   "execution_count": 119,
   "id": "e88a449b",
   "metadata": {},
   "outputs": [
    {
     "data": {
      "text/plain": [
       "week_1    Thu\n",
       "week_2    Wed\n",
       "week_3    Wed\n",
       "dtype: object"
      ]
     },
     "execution_count": 119,
     "metadata": {},
     "output_type": "execute_result"
    }
   ],
   "source": [
    "# Citation: https://pandas.pydata.org/docs/reference/api/pandas.DataFrame.idxmax.html\n",
    "scores.idxmax(axis = 1)"
   ]
  },
  {
   "cell_type": "markdown",
   "id": "7ef1ef62",
   "metadata": {},
   "source": [
    "#### 28) Report the week that had the highest total quiz score. Your answer should only be the name of the week from the index."
   ]
  },
  {
   "cell_type": "code",
   "execution_count": 159,
   "id": "6cade277",
   "metadata": {},
   "outputs": [
    {
     "data": {
      "text/plain": [
       "'week_1'"
      ]
     },
     "execution_count": 159,
     "metadata": {},
     "output_type": "execute_result"
    }
   ],
   "source": [
    "scores.max(axis=1).idxmax()"
   ]
  },
  {
   "cell_type": "markdown",
   "id": "3ae7db5c",
   "metadata": {},
   "source": [
    "#### 29)  How many days over the entire dataset had a score >= 9.25?"
   ]
  },
  {
   "cell_type": "code",
   "execution_count": 163,
   "id": "d773e117",
   "metadata": {},
   "outputs": [
    {
     "data": {
      "text/plain": [
       "4"
      ]
     },
     "execution_count": 163,
     "metadata": {},
     "output_type": "execute_result"
    }
   ],
   "source": [
    "# Citation: chatGPT\n",
    "(scores >= 9.25).sum().sum()"
   ]
  },
  {
   "cell_type": "markdown",
   "id": "acd9c6ed",
   "metadata": {},
   "source": [
    "#### 30) Report the number of days of each week that had a score >= 9.25."
   ]
  },
  {
   "cell_type": "code",
   "execution_count": 167,
   "id": "f9548145",
   "metadata": {},
   "outputs": [
    {
     "data": {
      "text/plain": [
       "week_1    2\n",
       "week_2    1\n",
       "week_3    1\n",
       "dtype: int64"
      ]
     },
     "execution_count": 167,
     "metadata": {},
     "output_type": "execute_result"
    }
   ],
   "source": [
    "(scores >= 9.25).sum(axis = 1)"
   ]
  },
  {
   "cell_type": "markdown",
   "id": "ce5b267a",
   "metadata": {},
   "source": [
    "#### 31) Report the average score for each week with the lowest score for each week dropped."
   ]
  },
  {
   "cell_type": "code",
   "execution_count": 184,
   "id": "ce99e55a",
   "metadata": {},
   "outputs": [
    {
     "data": {
      "text/plain": [
       "week_1    9.0625\n",
       "week_2    8.9375\n",
       "week_3    8.8750\n",
       "dtype: float64"
      ]
     },
     "execution_count": 184,
     "metadata": {},
     "output_type": "execute_result"
    }
   ],
   "source": [
    "(scores.sum(axis = 1) - scores.min(axis = 1) ) / (scores.shape[1] - 1)"
   ]
  },
  {
   "cell_type": "markdown",
   "id": "0d800706",
   "metadata": {},
   "source": [
    "#### 32) Report the scores rescaled to fall between 0 and 100, instead of 0 to 10 as they are now."
   ]
  },
  {
   "cell_type": "code",
   "execution_count": 185,
   "id": "29023bd3",
   "metadata": {},
   "outputs": [
    {
     "data": {
      "text/html": [
       "<div>\n",
       "<style scoped>\n",
       "    .dataframe tbody tr th:only-of-type {\n",
       "        vertical-align: middle;\n",
       "    }\n",
       "\n",
       "    .dataframe tbody tr th {\n",
       "        vertical-align: top;\n",
       "    }\n",
       "\n",
       "    .dataframe thead th {\n",
       "        text-align: right;\n",
       "    }\n",
       "</style>\n",
       "<table border=\"1\" class=\"dataframe\">\n",
       "  <thead>\n",
       "    <tr style=\"text-align: right;\">\n",
       "      <th></th>\n",
       "      <th>Mon</th>\n",
       "      <th>Tue</th>\n",
       "      <th>Wed</th>\n",
       "      <th>Thu</th>\n",
       "      <th>Fri</th>\n",
       "    </tr>\n",
       "  </thead>\n",
       "  <tbody>\n",
       "    <tr>\n",
       "      <th>week_1</th>\n",
       "      <td>95.0</td>\n",
       "      <td>87.5</td>\n",
       "      <td>80.0</td>\n",
       "      <td>100.0</td>\n",
       "      <td>77.5</td>\n",
       "    </tr>\n",
       "    <tr>\n",
       "      <th>week_2</th>\n",
       "      <td>90.0</td>\n",
       "      <td>80.0</td>\n",
       "      <td>100.0</td>\n",
       "      <td>87.5</td>\n",
       "      <td>72.5</td>\n",
       "    </tr>\n",
       "    <tr>\n",
       "      <th>week_3</th>\n",
       "      <td>85.0</td>\n",
       "      <td>80.0</td>\n",
       "      <td>97.5</td>\n",
       "      <td>90.0</td>\n",
       "      <td>82.5</td>\n",
       "    </tr>\n",
       "  </tbody>\n",
       "</table>\n",
       "</div>"
      ],
      "text/plain": [
       "         Mon   Tue    Wed    Thu   Fri\n",
       "week_1  95.0  87.5   80.0  100.0  77.5\n",
       "week_2  90.0  80.0  100.0   87.5  72.5\n",
       "week_3  85.0  80.0   97.5   90.0  82.5"
      ]
     },
     "execution_count": 185,
     "metadata": {},
     "output_type": "execute_result"
    }
   ],
   "source": [
    "scores * 10"
   ]
  },
  {
   "cell_type": "markdown",
   "id": "93732a3b",
   "metadata": {},
   "source": [
    "#### 33) How would you convert your scores DataFrame to a Numpy array? Demonstrate it by showing the type of your conversion using Python's type function."
   ]
  },
  {
   "cell_type": "code",
   "execution_count": 187,
   "id": "1cdc96ca",
   "metadata": {},
   "outputs": [
    {
     "data": {
      "text/plain": [
       "numpy.ndarray"
      ]
     },
     "execution_count": 187,
     "metadata": {},
     "output_type": "execute_result"
    }
   ],
   "source": [
    "type(scores.values)"
   ]
  }
 ],
 "metadata": {
  "kernelspec": {
   "display_name": "Python 3 (ipykernel)",
   "language": "python",
   "name": "python3"
  },
  "language_info": {
   "codemirror_mode": {
    "name": "ipython",
    "version": 3
   },
   "file_extension": ".py",
   "mimetype": "text/x-python",
   "name": "python",
   "nbconvert_exporter": "python",
   "pygments_lexer": "ipython3",
   "version": "3.9.16"
  }
 },
 "nbformat": 4,
 "nbformat_minor": 5
}
