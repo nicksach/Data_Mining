{
 "cells": [
  {
   "cell_type": "markdown",
   "id": "bb4fcf1a",
   "metadata": {},
   "source": [
    "# Lab 11 - TensorFlow / Keras\n",
    "\n",
    "**Name:** Nick Satriano and Jake Luther  \n",
    "**Class:** CSCI 349 - Intro to Data Mining  \n",
    "**Semester:** Spring 2023  \n",
    "**Instructor:** Brian King"
   ]
  },
  {
   "cell_type": "markdown",
   "id": "d7be41fc",
   "metadata": {},
   "source": [
    "### Exercise 1 – Interview questions about deep learning and keras"
   ]
  },
  {
   "cell_type": "markdown",
   "id": "ceec7776",
   "metadata": {},
   "source": [
    "**1) What is an artificial neural network (ANN)?**"
   ]
  },
  {
   "cell_type": "markdown",
   "id": "d14458ff",
   "metadata": {},
   "source": [
    "An artificial neural network is a system of nodes that mimic the way in which a human brain is structured. There are several layers of these nodes: an input layer, some number of hidden layers, and an output layer.\n",
    "\n",
    "These nodes are connected to one other, each represent an artifical neuron, and they each have an associated weight and threshold. When a node produces an output value that is greater than the threshold, the node is then activated and it sends data to the next layer of the neural network.\n",
    "\n",
    "*citation: https://www.ibm.com/topics/neural-networks*"
   ]
  },
  {
   "cell_type": "markdown",
   "id": "7bf6fc5a",
   "metadata": {},
   "source": [
    "**2) What is deep learning? How does it relate to ANN?**"
   ]
  },
  {
   "cell_type": "markdown",
   "id": "5f395341",
   "metadata": {},
   "source": [
    "Deep learning refers to the depth of the layers of an ANN. When an ANN has more than 3 layers, it is considered to be a deep learning algorithm.\n",
    "\n",
    "*citation: https://www.ibm.com/topics/neural-networks*"
   ]
  },
  {
   "cell_type": "markdown",
   "id": "21f31e58",
   "metadata": {},
   "source": [
    "**3) Name a couple of examples where deep learning has made a tremendous impact.**"
   ]
  },
  {
   "cell_type": "markdown",
   "id": "72fa9370",
   "metadata": {},
   "source": [
    "Deep learning has impacted computer vision in an extreme manner. The current capabilities for image classification and object detection have allowed for the (somewhat) safe and widespread implementation of autonomous vehicles, facial recognition technologies, and medical imaging analysis.\n",
    "\n",
    "To cite another example, deep learning has had a tremendous impact in language processing. Chatbots, like ChatGPT, have become much more powerful and are capable of generating some freakishly human-like and intelligent responses to human inputs.\n",
    "\n",
    "*citation: ChatGPT*"
   ]
  },
  {
   "cell_type": "markdown",
   "id": "d2e5f72d",
   "metadata": {},
   "source": [
    "**4) Briefly, what is the feedforward algorithm with a neural net?**"
   ]
  },
  {
   "cell_type": "markdown",
   "id": "d740115e",
   "metadata": {},
   "source": [
    "A feedforward algorithm is one that flows in one direction only: from the input layer to the output layer.\n",
    "\n",
    "*citation: https://www.ibm.com/topics/neural-networks*"
   ]
  },
  {
   "cell_type": "markdown",
   "id": "91461518",
   "metadata": {},
   "source": [
    "**5) In the context of machine learning, what is a loss function?**"
   ]
  },
  {
   "cell_type": "markdown",
   "id": "73d091d5",
   "metadata": {},
   "source": [
    "A loss function evaluates the accuracy of a model as it is being trained. This is commonly known as the mean squared error (MSE).\n",
    "\n",
    "*citation: https://www.ibm.com/topics/neural-networks*"
   ]
  },
  {
   "cell_type": "markdown",
   "id": "f0ad33e3",
   "metadata": {},
   "source": [
    "**6) What is gradient descent? And how is the loss function a critical part of gradient descent?**"
   ]
  },
  {
   "cell_type": "markdown",
   "id": "01e95a2a",
   "metadata": {},
   "source": [
    "Gradient descent is the process through which an algorithm adjusts its weights, which allows the model to determine which direction it must take to reduce the loss function."
   ]
  },
  {
   "cell_type": "markdown",
   "id": "e6befad4",
   "metadata": {},
   "source": [
    "**7) Training a neural net involves the backpropagation algorithm. In a few sentences, describe what this algorithm\n",
    "does.**"
   ]
  },
  {
   "cell_type": "markdown",
   "id": "f78ad6d2",
   "metadata": {},
   "source": [
    "The backpropagation algorithm allows data to flow from the output layer of the neural net to the input layer. Backpropagation makes it possible to calculate and find the error with each neuron. This process allows us to adjust and fit the parameters of the model accurately and effectively.\n",
    "\n",
    "*citation: https://www.ibm.com/topics/neural-networks*"
   ]
  },
  {
   "cell_type": "markdown",
   "id": "67eacaa7",
   "metadata": {},
   "source": [
    "**8) What is the difference between batch gradient descent and stochastic gradient descent?**"
   ]
  },
  {
   "cell_type": "markdown",
   "id": "71f6ccc7",
   "metadata": {},
   "source": [
    "Batch gradient descent involves calculating the gradient of the cost function with respect to the model parameters for the entire training dataset in one go. The model parameters are then updated once per iteration based on this calculated gradient. The term \"batch\" refers to the fact that the entire training dataset is used in each iteration.\n",
    "\n",
    "Stochastic gradient descent, on the other hand, involves calculating the gradient of the cost function with respect to the model parameters for each training example separately and updating the model parameters after each example. The term \"stochastic\" refers to the random nature of the selection of each training example.\n",
    "\n",
    "*citation: ChatGPT*"
   ]
  },
  {
   "cell_type": "markdown",
   "id": "275956b4",
   "metadata": {},
   "source": [
    "**9) In the context of neural network training, explain the terms epoch and batch.**"
   ]
  },
  {
   "cell_type": "markdown",
   "id": "e5e7d2c2",
   "metadata": {},
   "source": [
    "An epoch is a complete pass through the entire training dataset during training. In other words, one epoch is when the entire training set is seen once by the model.\n",
    "\n",
    "A batch is a subset of the training dataset that is used to update the model's parameters. During training, the model receives input data in batches, processes it, computes the loss, and updates the parameters based on the gradients of the loss function with respect to the parameters. The size of the batch, or batch size, is a hyperparameter that determines how many samples the model processes at a time\n",
    "\n",
    "*citation: ChatGPT*"
   ]
  },
  {
   "cell_type": "markdown",
   "id": "47fceb64",
   "metadata": {},
   "source": [
    "**10) In the context of machine learning, what is a hyperparameter?**"
   ]
  },
  {
   "cell_type": "markdown",
   "id": "cfd050b3",
   "metadata": {},
   "source": [
    "A hyperparameter is a parameter whose value is set before the training process of a machine learning model begins, and which influences the behavior and performance of the model."
   ]
  },
  {
   "cell_type": "markdown",
   "id": "b1dcbd23",
   "metadata": {},
   "source": [
    "**11) In the context of neural nets training, what are examples of hyperparameters that can affect model performance?**"
   ]
  },
  {
   "cell_type": "markdown",
   "id": "0bb1e208",
   "metadata": {},
   "source": [
    "Here are some examples of hyperparameters that can affect model performance:\n",
    "- *Learning rate:* determines how quickly the model learns from the data during training\n",
    "- *Number of epochs:* determines how many times the model will be trained on the entire training dataset\n",
    "- *Batch size:* determines how many samples are used to update the model weights in each training iteration\n",
    "- *Number of layers:* determines the depth of the neural network architecture\n",
    "- *Number of neurons per layer:* determines the width of the neural network architecture\n",
    "- *Activation functions:* determines the non-linear activation functions used in the network's layers\n",
    "\n",
    "*citation: https://www.analyticsvidhya.com/blog/2022/05/impact-of-hyperparameters-on-a-deep-learning-model/*"
   ]
  },
  {
   "cell_type": "markdown",
   "id": "e0c52eef",
   "metadata": {},
   "source": [
    "**12) What is an activation function?**"
   ]
  },
  {
   "cell_type": "markdown",
   "id": "8ef1d1ba",
   "metadata": {},
   "source": [
    "An activation function is a mathematical function applied to the output of each neuron in a neural network. It determines whether the neuron should be \"activated\" or not based on the input it receives.\n",
    "\n",
    "*citation: https://www.ibm.com/topics/neural-networks*"
   ]
  },
  {
   "cell_type": "markdown",
   "id": "2615f685",
   "metadata": {},
   "source": [
    "**13) Most agree that the most popular activation functions are sigmoid, hyperbolic tangent (tanh), softmax, and ReLu (rectified linear unit). Compare and contrast each, using whatever resources you want. Again, 1-2 sentences for each Is sufficient.**"
   ]
  },
  {
   "cell_type": "markdown",
   "id": "d6a848f4",
   "metadata": {},
   "source": [
    "- *Sigmoid:* it maps any input to a value between 0 and 1, and is useful for models that need to output probabilities. It has a problem of vanishing gradients and is rarely used in deep neural networks.  \n",
    "- *Hyperbolic tangent:* it maps any input to a value between -1 and 1, and is also useful for models that need to output probabilities. It suffers from the same vanishing gradient problem as sigmoid.  \n",
    "- *Softmax:* it maps the inputs to a probability distribution over multiple classes. It is used for multiclass classification problems and ensures that the sum of the probabilities is equal to 1.  \n",
    "- *ReLU:* it is defined as max(0, x), and is a non-linear activation function that is widely used in deep neural networks. It is computationally efficient and has been shown to perform well in practice. However, it can suffer from the \"dying ReLU\" problem, where a large number of neurons can output zero, effectively killing the gradient and making the neuron \"dead\".\n",
    "\n",
    "*citation: ChatGPT*"
   ]
  },
  {
   "cell_type": "markdown",
   "id": "1ed1459d",
   "metadata": {},
   "source": [
    "**14) Why is ReLu so popular for large, deep learning networks?**"
   ]
  },
  {
   "cell_type": "markdown",
   "id": "011d28af",
   "metadata": {},
   "source": [
    "ReLu (Rectified Linear Unit) is popular for large, deep learning networks because it overcomes the vanishing gradient problem, which can occur with sigmoid and tanh activation functions. The vanishing gradient problem refers to the situation where the gradients during backpropagation become very small, leading to slow or no learning in deeper layers of the network."
   ]
  },
  {
   "cell_type": "markdown",
   "id": "2195c6c2",
   "metadata": {},
   "source": [
    "**15) Why is softmax most appropriate for the output layer, especially for classification problems?**"
   ]
  },
  {
   "cell_type": "markdown",
   "id": "5b6efc1d",
   "metadata": {},
   "source": [
    "The softmax activation function is most appropriate for the output layer of neural networks in classification problems because it converts the output into a probability distribution over the classes. This means that the outputs of the softmax function represent the probabilities of each class, which can be used to make predictions on the most likely class. Additionally, the softmax function ensures that the probabilities sum up to 1, which is a necessary condition for a probability distribution.\n",
    "\n",
    "*citation: ChatGPT*"
   ]
  },
  {
   "cell_type": "markdown",
   "id": "9843b4f9",
   "metadata": {},
   "source": [
    "**16) What does ReLu sometimes suffer from, and how does a Leaky ReLu activation address it?**"
   ]
  },
  {
   "cell_type": "markdown",
   "id": "68f1e51b",
   "metadata": {},
   "source": [
    "ReLu can sometimes lead to a \"dying ReLu\" problem, where neurons can become stuck at zero and stop learning. A Leaky ReLu activation function is a modified version of ReLu that addresses this problem. The Leaky ReLu allows a small, non-zero gradient for negative inputs, which helps to prevent the \"dying ReLu\" problem and can also improve the overall performance of the neural network.\n",
    "\n",
    "*citation: https://medium.com/@danqing/a-practical-guide-to-relu-b83ca804f1f7*"
   ]
  },
  {
   "cell_type": "markdown",
   "id": "f6df0c2f",
   "metadata": {},
   "source": [
    "**17) What is Tensorflow? Who created it?**"
   ]
  },
  {
   "cell_type": "markdown",
   "id": "887f3304",
   "metadata": {},
   "source": [
    "TensorFlow is a machine learning framework designed and developed by Google.\n",
    "\n",
    "*citation: https://www.tensorflow.org/about*"
   ]
  },
  {
   "cell_type": "markdown",
   "id": "29feacef",
   "metadata": {},
   "source": [
    "**18) What are tensors?**"
   ]
  },
  {
   "cell_type": "markdown",
   "id": "970b91d5",
   "metadata": {},
   "source": [
    "Tensors are mathematical objects representing arrays of data with multiple dimensions."
   ]
  },
  {
   "cell_type": "markdown",
   "id": "dff81416",
   "metadata": {},
   "source": [
    "**19) What is keras? Who created it?**"
   ]
  },
  {
   "cell_type": "markdown",
   "id": "116e1abb",
   "metadata": {},
   "source": [
    "Keras is a neural network API written in Python. It allows for fast experimentation with deep neural networks, and it focuses on being user-friendly. Keras was originally developed by Francois Chollet and was released in March of 2015.\n",
    "\n",
    "*citation: https://keras.io/about/*"
   ]
  },
  {
   "cell_type": "markdown",
   "id": "1c316892",
   "metadata": {},
   "source": [
    "**20) Explain the relationship between keras and tensorflow. How are they similar? Different?**"
   ]
  },
  {
   "cell_type": "markdown",
   "id": "73647d91",
   "metadata": {},
   "source": [
    "Keras acts as a simplified interface for training neural networks, while TensorFlow is a lower-level library for computation that allows for the utilization of complex mathematical operations which are at the basis of creating and training neural networks.\n",
    "\n",
    "Keras is integrated into TensorFlow as a part of the TensorFlow library. This allows developers to access the high-level interface of Keras while also leveraging the low-level, mathematical functionalities of TensorFlow."
   ]
  },
  {
   "cell_type": "markdown",
   "id": "330d96b7",
   "metadata": {},
   "source": [
    "**21) Describe at a very top level what the Functional API is.**"
   ]
  },
  {
   "cell_type": "markdown",
   "id": "aa9c6303",
   "metadata": {},
   "source": [
    "The Functional API is an interface in Keras that allows for building complex models with multiple input/output layers, shared layers, and other advanced architectures. It provides a way to define a computational graph of layers and how they are connected, giving more flexibility and control over the model architecture compared to the Sequential API.\n",
    "\n",
    "*citation: https://keras.io/api/*"
   ]
  },
  {
   "cell_type": "markdown",
   "id": "3faaf3f6",
   "metadata": {},
   "source": [
    "**22) What is the Sequential class, and how does it compare / contrast to the Functional API?**"
   ]
  },
  {
   "cell_type": "markdown",
   "id": "8b0b28c3",
   "metadata": {},
   "source": [
    "The Sequential class in Keras is a way to create a neural network model by simply adding one layer at a time, in sequence. In contrast, the Functional API allows for more complex, non-linear architectures.\n",
    "\n",
    "*citation: https://keras.io/api/*"
   ]
  },
  {
   "cell_type": "markdown",
   "id": "9a7fb027",
   "metadata": {},
   "source": [
    "**23) What is a layer? How is a layer added to a model?**"
   ]
  },
  {
   "cell_type": "markdown",
   "id": "06aee990",
   "metadata": {},
   "source": [
    "In a neural network, a layer is a set of neurons that process a set of input data and produce a set of output values. Layers are added to a model in Keras using the add() method.\n",
    "\n",
    "*citation: https://keras.io/api/layers/*"
   ]
  },
  {
   "cell_type": "markdown",
   "id": "79a2cd16",
   "metadata": {},
   "source": [
    "**24) What is a Dense layer?**"
   ]
  },
  {
   "cell_type": "markdown",
   "id": "1116a387",
   "metadata": {},
   "source": [
    "A Dense layer is a fully connected layer, meaning that all the neurons in a Dense layer receive input from all the neurons in the previous layer.\n",
    "\n",
    "*citation: https://keras.io/api/layers/core_layers/dense/*"
   ]
  },
  {
   "cell_type": "markdown",
   "id": "79e2429a",
   "metadata": {},
   "source": [
    "**25) What does the compile method do for a model, and what two parameters are required to compile every model?**"
   ]
  },
  {
   "cell_type": "markdown",
   "id": "ec45b1b3",
   "metadata": {},
   "source": [
    "The compile method is used to configure a model for training. The two parameters that are required to compile every model are: optimizer and loss.\n",
    "\n",
    "*citation: https://keras.io/api/models/model_training_apis/*"
   ]
  },
  {
   "cell_type": "markdown",
   "id": "370abd26",
   "metadata": {},
   "source": [
    "### Exercise 2 - The return of iris"
   ]
  },
  {
   "cell_type": "code",
   "execution_count": 123,
   "id": "6ee86b22",
   "metadata": {},
   "outputs": [
    {
     "name": "stdout",
     "output_type": "stream",
     "text": [
      "2.10.0\n",
      "2.10.0\n"
     ]
    }
   ],
   "source": [
    "import numpy as np\n",
    "import pandas as pd\n",
    "import matplotlib.pyplot as plt \n",
    "import seaborn as sns\n",
    "import plotly\n",
    "import plotly.graph_objects as go \n",
    "import plotly.express as px\n",
    "from sklearn.model_selection import train_test_split, KFold\n",
    "from sklearn.metrics import classification_report, confusion_matrix, ConfusionMatrixDisplay\n",
    "import sklearn.utils as utils\n",
    "from sklearn.preprocessing import LabelEncoder\n",
    "from sklearn.tree import DecisionTreeClassifier\n",
    "import tensorflow as tf\n",
    "from tensorflow import keras\n",
    "from keras.models import Model, Sequential\n",
    "from keras.layers import Input, Dense, Activation\n",
    "from tensorflow.keras.optimizers import SGD\n",
    "print(tf.__version__)\n",
    "print(keras.__version__)"
   ]
  },
  {
   "cell_type": "markdown",
   "id": "19443866",
   "metadata": {},
   "source": [
    "**1) Read in and preprocess the data.**"
   ]
  },
  {
   "cell_type": "code",
   "execution_count": 6,
   "id": "63cba060",
   "metadata": {},
   "outputs": [
    {
     "name": "stdout",
     "output_type": "stream",
     "text": [
      "<class 'pandas.core.frame.DataFrame'>\n",
      "RangeIndex: 150 entries, 0 to 149\n",
      "Data columns (total 5 columns):\n",
      " #   Column        Non-Null Count  Dtype   \n",
      "---  ------        --------------  -----   \n",
      " 0   sepal_length  150 non-null    float64 \n",
      " 1   sepal_width   150 non-null    float64 \n",
      " 2   petal_length  150 non-null    float64 \n",
      " 3   petal_width   150 non-null    float64 \n",
      " 4   species       150 non-null    category\n",
      "dtypes: category(1), float64(4)\n",
      "memory usage: 5.1 KB\n"
     ]
    }
   ],
   "source": [
    "df_iris = sns.load_dataset('iris')\n",
    "df_iris['species'] = df_iris['species'].astype('category')\n",
    "\n",
    "df_iris.info()"
   ]
  },
  {
   "cell_type": "code",
   "execution_count": 9,
   "id": "1c49b973",
   "metadata": {},
   "outputs": [
    {
     "name": "stdout",
     "output_type": "stream",
     "text": [
      "<class 'pandas.core.frame.DataFrame'>\n",
      "RangeIndex: 150 entries, 0 to 149\n",
      "Data columns (total 4 columns):\n",
      " #   Column        Non-Null Count  Dtype  \n",
      "---  ------        --------------  -----  \n",
      " 0   sepal_length  150 non-null    float64\n",
      " 1   sepal_width   150 non-null    float64\n",
      " 2   petal_length  150 non-null    float64\n",
      " 3   petal_width   150 non-null    float64\n",
      "dtypes: float64(4)\n",
      "memory usage: 4.8 KB\n"
     ]
    }
   ],
   "source": [
    "X = df_iris.iloc[:,:-1]\n",
    "\n",
    "X.info()"
   ]
  },
  {
   "cell_type": "code",
   "execution_count": 10,
   "id": "78cee506",
   "metadata": {},
   "outputs": [
    {
     "name": "stdout",
     "output_type": "stream",
     "text": [
      "<class 'pandas.core.series.Series'>\n",
      "RangeIndex: 150 entries, 0 to 149\n",
      "Series name: species\n",
      "Non-Null Count  Dtype   \n",
      "--------------  -----   \n",
      "150 non-null    category\n",
      "dtypes: category(1)\n",
      "memory usage: 410.0 bytes\n"
     ]
    }
   ],
   "source": [
    "y = df_iris['species']\n",
    "\n",
    "y.info()"
   ]
  },
  {
   "cell_type": "markdown",
   "id": "9560dbeb",
   "metadata": {},
   "source": [
    "**2) Shuffle the data in your data frames.**"
   ]
  },
  {
   "cell_type": "code",
   "execution_count": 12,
   "id": "7be9edf1",
   "metadata": {},
   "outputs": [],
   "source": [
    "X, y = utils.shuffle(X, y, random_state=0)"
   ]
  },
  {
   "cell_type": "markdown",
   "id": "7da7ee07",
   "metadata": {},
   "source": [
    "**3) Use train_test_split to split your data, but this time, let's use an even smaller split, using a 50/50 split, initializing with a random state of 0.**"
   ]
  },
  {
   "cell_type": "code",
   "execution_count": 44,
   "id": "6f5c0a0e",
   "metadata": {},
   "outputs": [
    {
     "data": {
      "text/html": [
       "<div>\n",
       "<style scoped>\n",
       "    .dataframe tbody tr th:only-of-type {\n",
       "        vertical-align: middle;\n",
       "    }\n",
       "\n",
       "    .dataframe tbody tr th {\n",
       "        vertical-align: top;\n",
       "    }\n",
       "\n",
       "    .dataframe thead th {\n",
       "        text-align: right;\n",
       "    }\n",
       "</style>\n",
       "<table border=\"1\" class=\"dataframe\">\n",
       "  <thead>\n",
       "    <tr style=\"text-align: right;\">\n",
       "      <th></th>\n",
       "      <th>sepal_length</th>\n",
       "      <th>sepal_width</th>\n",
       "      <th>petal_length</th>\n",
       "      <th>petal_width</th>\n",
       "    </tr>\n",
       "  </thead>\n",
       "  <tbody>\n",
       "    <tr>\n",
       "      <th>107</th>\n",
       "      <td>7.3</td>\n",
       "      <td>2.9</td>\n",
       "      <td>6.3</td>\n",
       "      <td>1.8</td>\n",
       "    </tr>\n",
       "    <tr>\n",
       "      <th>47</th>\n",
       "      <td>4.6</td>\n",
       "      <td>3.2</td>\n",
       "      <td>1.4</td>\n",
       "      <td>0.2</td>\n",
       "    </tr>\n",
       "    <tr>\n",
       "      <th>129</th>\n",
       "      <td>7.2</td>\n",
       "      <td>3.0</td>\n",
       "      <td>5.8</td>\n",
       "      <td>1.6</td>\n",
       "    </tr>\n",
       "    <tr>\n",
       "      <th>40</th>\n",
       "      <td>5.0</td>\n",
       "      <td>3.5</td>\n",
       "      <td>1.3</td>\n",
       "      <td>0.3</td>\n",
       "    </tr>\n",
       "    <tr>\n",
       "      <th>48</th>\n",
       "      <td>5.3</td>\n",
       "      <td>3.7</td>\n",
       "      <td>1.5</td>\n",
       "      <td>0.2</td>\n",
       "    </tr>\n",
       "    <tr>\n",
       "      <th>...</th>\n",
       "      <td>...</td>\n",
       "      <td>...</td>\n",
       "      <td>...</td>\n",
       "      <td>...</td>\n",
       "    </tr>\n",
       "    <tr>\n",
       "      <th>71</th>\n",
       "      <td>6.1</td>\n",
       "      <td>2.8</td>\n",
       "      <td>4.0</td>\n",
       "      <td>1.3</td>\n",
       "    </tr>\n",
       "    <tr>\n",
       "      <th>143</th>\n",
       "      <td>6.8</td>\n",
       "      <td>3.2</td>\n",
       "      <td>5.9</td>\n",
       "      <td>2.3</td>\n",
       "    </tr>\n",
       "    <tr>\n",
       "      <th>125</th>\n",
       "      <td>7.2</td>\n",
       "      <td>3.2</td>\n",
       "      <td>6.0</td>\n",
       "      <td>1.8</td>\n",
       "    </tr>\n",
       "    <tr>\n",
       "      <th>65</th>\n",
       "      <td>6.7</td>\n",
       "      <td>3.1</td>\n",
       "      <td>4.4</td>\n",
       "      <td>1.4</td>\n",
       "    </tr>\n",
       "    <tr>\n",
       "      <th>144</th>\n",
       "      <td>6.7</td>\n",
       "      <td>3.3</td>\n",
       "      <td>5.7</td>\n",
       "      <td>2.5</td>\n",
       "    </tr>\n",
       "  </tbody>\n",
       "</table>\n",
       "<p>75 rows × 4 columns</p>\n",
       "</div>"
      ],
      "text/plain": [
       "     sepal_length  sepal_width  petal_length  petal_width\n",
       "107           7.3          2.9           6.3          1.8\n",
       "47            4.6          3.2           1.4          0.2\n",
       "129           7.2          3.0           5.8          1.6\n",
       "40            5.0          3.5           1.3          0.3\n",
       "48            5.3          3.7           1.5          0.2\n",
       "..            ...          ...           ...          ...\n",
       "71            6.1          2.8           4.0          1.3\n",
       "143           6.8          3.2           5.9          2.3\n",
       "125           7.2          3.2           6.0          1.8\n",
       "65            6.7          3.1           4.4          1.4\n",
       "144           6.7          3.3           5.7          2.5\n",
       "\n",
       "[75 rows x 4 columns]"
      ]
     },
     "execution_count": 44,
     "metadata": {},
     "output_type": "execute_result"
    }
   ],
   "source": [
    "X_train, X_test, y_train, y_test = train_test_split(X, y, test_size=0.5, random_state=0)\n",
    "\n",
    "X_train"
   ]
  },
  {
   "cell_type": "markdown",
   "id": "d79e15c4",
   "metadata": {},
   "source": [
    "**4) How many inputs will your network need to have?**"
   ]
  },
  {
   "cell_type": "markdown",
   "id": "9075f626",
   "metadata": {},
   "source": [
    "The network will need 4 inputs since there are four attributes in the dataset: sepal length, sepal width, petal length, and petal width."
   ]
  },
  {
   "cell_type": "markdown",
   "id": "1c032e2d",
   "metadata": {},
   "source": [
    "**5) How do you represent a multi-class target variable in a model like a neural net? For the iris data, what does the final layer of your neural net structure need to look like?**"
   ]
  },
  {
   "cell_type": "markdown",
   "id": "b2ccf352",
   "metadata": {},
   "source": [
    "To represent a multi-class target variable in a model like a neural net, we must create a binary vector for each class, where each element in the vector corresponds to whether that observation belongs to that class or not.\n",
    "\n",
    "For the iris data, the final layer of the neutal net structure will need to have 3 output nodes, each representing one of the three classes of iris: setosa, versicolor, and virginica.\n",
    "\n",
    "*Assisted by: ChatGPT*"
   ]
  },
  {
   "cell_type": "markdown",
   "id": "02e4d599",
   "metadata": {},
   "source": [
    "**6) Write the code to convert the iris target variables to a set of binarized variables derived from the target class variable.**"
   ]
  },
  {
   "cell_type": "code",
   "execution_count": 43,
   "id": "8e85f304",
   "metadata": {},
   "outputs": [
    {
     "data": {
      "text/html": [
       "<div>\n",
       "<style scoped>\n",
       "    .dataframe tbody tr th:only-of-type {\n",
       "        vertical-align: middle;\n",
       "    }\n",
       "\n",
       "    .dataframe tbody tr th {\n",
       "        vertical-align: top;\n",
       "    }\n",
       "\n",
       "    .dataframe thead th {\n",
       "        text-align: right;\n",
       "    }\n",
       "</style>\n",
       "<table border=\"1\" class=\"dataframe\">\n",
       "  <thead>\n",
       "    <tr style=\"text-align: right;\">\n",
       "      <th></th>\n",
       "      <th>setosa</th>\n",
       "      <th>versicolor</th>\n",
       "      <th>virginica</th>\n",
       "    </tr>\n",
       "  </thead>\n",
       "  <tbody>\n",
       "    <tr>\n",
       "      <th>107</th>\n",
       "      <td>0</td>\n",
       "      <td>0</td>\n",
       "      <td>1</td>\n",
       "    </tr>\n",
       "    <tr>\n",
       "      <th>47</th>\n",
       "      <td>1</td>\n",
       "      <td>0</td>\n",
       "      <td>0</td>\n",
       "    </tr>\n",
       "    <tr>\n",
       "      <th>129</th>\n",
       "      <td>0</td>\n",
       "      <td>0</td>\n",
       "      <td>1</td>\n",
       "    </tr>\n",
       "    <tr>\n",
       "      <th>40</th>\n",
       "      <td>1</td>\n",
       "      <td>0</td>\n",
       "      <td>0</td>\n",
       "    </tr>\n",
       "    <tr>\n",
       "      <th>48</th>\n",
       "      <td>1</td>\n",
       "      <td>0</td>\n",
       "      <td>0</td>\n",
       "    </tr>\n",
       "    <tr>\n",
       "      <th>...</th>\n",
       "      <td>...</td>\n",
       "      <td>...</td>\n",
       "      <td>...</td>\n",
       "    </tr>\n",
       "    <tr>\n",
       "      <th>71</th>\n",
       "      <td>0</td>\n",
       "      <td>1</td>\n",
       "      <td>0</td>\n",
       "    </tr>\n",
       "    <tr>\n",
       "      <th>143</th>\n",
       "      <td>0</td>\n",
       "      <td>0</td>\n",
       "      <td>1</td>\n",
       "    </tr>\n",
       "    <tr>\n",
       "      <th>125</th>\n",
       "      <td>0</td>\n",
       "      <td>0</td>\n",
       "      <td>1</td>\n",
       "    </tr>\n",
       "    <tr>\n",
       "      <th>65</th>\n",
       "      <td>0</td>\n",
       "      <td>1</td>\n",
       "      <td>0</td>\n",
       "    </tr>\n",
       "    <tr>\n",
       "      <th>144</th>\n",
       "      <td>0</td>\n",
       "      <td>0</td>\n",
       "      <td>1</td>\n",
       "    </tr>\n",
       "  </tbody>\n",
       "</table>\n",
       "<p>75 rows × 3 columns</p>\n",
       "</div>"
      ],
      "text/plain": [
       "     setosa  versicolor  virginica\n",
       "107       0           0          1\n",
       "47        1           0          0\n",
       "129       0           0          1\n",
       "40        1           0          0\n",
       "48        1           0          0\n",
       "..      ...         ...        ...\n",
       "71        0           1          0\n",
       "143       0           0          1\n",
       "125       0           0          1\n",
       "65        0           1          0\n",
       "144       0           0          1\n",
       "\n",
       "[75 rows x 3 columns]"
      ]
     },
     "execution_count": 43,
     "metadata": {},
     "output_type": "execute_result"
    }
   ],
   "source": [
    "y_train_bin = pd.get_dummies(y_train)\n",
    "y_test_bin = pd.get_dummies(y_test)\n",
    "\n",
    "y_train_bin"
   ]
  },
  {
   "cell_type": "markdown",
   "id": "84b7faa2",
   "metadata": {},
   "source": [
    "**7) Create your input node using 'Input'.**"
   ]
  },
  {
   "cell_type": "code",
   "execution_count": 23,
   "id": "8f8d0d93",
   "metadata": {},
   "outputs": [],
   "source": [
    "# citation: https://keras.io/guides/functional_api/\n",
    "inputs = keras.Input(shape=(4,))"
   ]
  },
  {
   "cell_type": "markdown",
   "id": "07a87003",
   "metadata": {},
   "source": [
    "**8) Add the hidden layer(s), and specify the input as you move along that each layer should receive.**"
   ]
  },
  {
   "cell_type": "code",
   "execution_count": 25,
   "id": "c49abad0",
   "metadata": {},
   "outputs": [],
   "source": [
    "layer = Dense(12, activation='sigmoid')(inputs)"
   ]
  },
  {
   "cell_type": "markdown",
   "id": "81fef445",
   "metadata": {},
   "source": [
    "**9) Add one more Dense layer representing the output layer.**"
   ]
  },
  {
   "cell_type": "code",
   "execution_count": 27,
   "id": "e4a3c7a7",
   "metadata": {},
   "outputs": [],
   "source": [
    "output_layer = Dense(3, activation='softmax')(layer)"
   ]
  },
  {
   "cell_type": "markdown",
   "id": "db43886e",
   "metadata": {},
   "source": [
    "**10) Create an instance of Model. Specify the inputs, the outputs, and name the model \"simple_iris_model\". Then, report a summary of your model using the summary() function.**"
   ]
  },
  {
   "cell_type": "code",
   "execution_count": 47,
   "id": "d92af8b0",
   "metadata": {},
   "outputs": [
    {
     "name": "stdout",
     "output_type": "stream",
     "text": [
      "Model: \"simple_iris_model\"\n",
      "_________________________________________________________________\n",
      " Layer (type)                Output Shape              Param #   \n",
      "=================================================================\n",
      " input_1 (InputLayer)        [(None, 4)]               0         \n",
      "                                                                 \n",
      " dense_1 (Dense)             (None, 12)                60        \n",
      "                                                                 \n",
      " dense_3 (Dense)             (None, 3)                 39        \n",
      "                                                                 \n",
      "=================================================================\n",
      "Total params: 99\n",
      "Trainable params: 99\n",
      "Non-trainable params: 0\n",
      "_________________________________________________________________\n"
     ]
    }
   ],
   "source": [
    "simple_iris_model = keras.Model(inputs=inputs, outputs=output_layer, name='simple_iris_model')\n",
    "\n",
    "simple_iris_model.summary()"
   ]
  },
  {
   "cell_type": "markdown",
   "id": "5a04f164",
   "metadata": {},
   "source": [
    "**11) Now, compile your model.**"
   ]
  },
  {
   "cell_type": "code",
   "execution_count": 48,
   "id": "afd56bb6",
   "metadata": {},
   "outputs": [],
   "source": [
    "simple_iris_model.compile(\n",
    "    optimizer = tf.keras.optimizers.Adam(learning_rate=1e-3),\n",
    "    loss = 'categorical_crossentropy',\n",
    "    metrics = ['accuracy']\n",
    ")"
   ]
  },
  {
   "cell_type": "markdown",
   "id": "1b65bcc4",
   "metadata": {},
   "source": [
    "**12) Use the fit method to train your model with X_train and your binarized y_train data.**"
   ]
  },
  {
   "cell_type": "code",
   "execution_count": 64,
   "id": "31cfa32e",
   "metadata": {},
   "outputs": [
    {
     "name": "stdout",
     "output_type": "stream",
     "text": [
      "Epoch 1/100\n",
      "75/75 [==============================] - 0s 3ms/step - loss: 0.0396 - accuracy: 0.9867 - val_loss: 0.0912 - val_accuracy: 0.9733\n",
      "Epoch 2/100\n",
      "75/75 [==============================] - 0s 2ms/step - loss: 0.0379 - accuracy: 0.9867 - val_loss: 0.0972 - val_accuracy: 0.9600\n",
      "Epoch 3/100\n",
      "75/75 [==============================] - 0s 2ms/step - loss: 0.0331 - accuracy: 0.9867 - val_loss: 0.1014 - val_accuracy: 0.9600\n",
      "Epoch 4/100\n",
      "75/75 [==============================] - 0s 2ms/step - loss: 0.0438 - accuracy: 0.9733 - val_loss: 0.0939 - val_accuracy: 0.9733\n",
      "Epoch 5/100\n",
      "75/75 [==============================] - 0s 2ms/step - loss: 0.0402 - accuracy: 0.9867 - val_loss: 0.0990 - val_accuracy: 0.9467\n",
      "Epoch 6/100\n",
      "75/75 [==============================] - 0s 2ms/step - loss: 0.0348 - accuracy: 0.9867 - val_loss: 0.0897 - val_accuracy: 0.9733\n",
      "Epoch 7/100\n",
      "75/75 [==============================] - 0s 2ms/step - loss: 0.0375 - accuracy: 0.9867 - val_loss: 0.0972 - val_accuracy: 0.9600\n",
      "Epoch 8/100\n",
      "75/75 [==============================] - 0s 2ms/step - loss: 0.0378 - accuracy: 0.9733 - val_loss: 0.0939 - val_accuracy: 0.9600\n",
      "Epoch 9/100\n",
      "75/75 [==============================] - 0s 2ms/step - loss: 0.0362 - accuracy: 0.9733 - val_loss: 0.0904 - val_accuracy: 0.9733\n",
      "Epoch 10/100\n",
      "75/75 [==============================] - 0s 2ms/step - loss: 0.0346 - accuracy: 0.9867 - val_loss: 0.0890 - val_accuracy: 0.9733\n",
      "Epoch 11/100\n",
      "75/75 [==============================] - 0s 2ms/step - loss: 0.0335 - accuracy: 0.9867 - val_loss: 0.0894 - val_accuracy: 0.9733\n",
      "Epoch 12/100\n",
      "75/75 [==============================] - 0s 2ms/step - loss: 0.0325 - accuracy: 1.0000 - val_loss: 0.0887 - val_accuracy: 0.9733\n",
      "Epoch 13/100\n",
      "75/75 [==============================] - 0s 2ms/step - loss: 0.0348 - accuracy: 0.9867 - val_loss: 0.0902 - val_accuracy: 0.9733\n",
      "Epoch 14/100\n",
      "75/75 [==============================] - 0s 2ms/step - loss: 0.0370 - accuracy: 0.9733 - val_loss: 0.0903 - val_accuracy: 0.9733\n",
      "Epoch 15/100\n",
      "75/75 [==============================] - 0s 2ms/step - loss: 0.0363 - accuracy: 0.9867 - val_loss: 0.0888 - val_accuracy: 0.9733\n",
      "Epoch 16/100\n",
      "75/75 [==============================] - 0s 2ms/step - loss: 0.0322 - accuracy: 1.0000 - val_loss: 0.0881 - val_accuracy: 0.9733\n",
      "Epoch 17/100\n",
      "75/75 [==============================] - 0s 2ms/step - loss: 0.0358 - accuracy: 0.9867 - val_loss: 0.0889 - val_accuracy: 0.9867\n",
      "Epoch 18/100\n",
      "75/75 [==============================] - 0s 2ms/step - loss: 0.0327 - accuracy: 0.9867 - val_loss: 0.0878 - val_accuracy: 0.9733\n",
      "Epoch 19/100\n",
      "75/75 [==============================] - 0s 2ms/step - loss: 0.0335 - accuracy: 0.9867 - val_loss: 0.0888 - val_accuracy: 0.9733\n",
      "Epoch 20/100\n",
      "75/75 [==============================] - 0s 2ms/step - loss: 0.0338 - accuracy: 0.9867 - val_loss: 0.0876 - val_accuracy: 0.9733\n",
      "Epoch 21/100\n",
      "75/75 [==============================] - 0s 2ms/step - loss: 0.0344 - accuracy: 0.9733 - val_loss: 0.0874 - val_accuracy: 0.9733\n",
      "Epoch 22/100\n",
      "75/75 [==============================] - 0s 3ms/step - loss: 0.0341 - accuracy: 0.9867 - val_loss: 0.0881 - val_accuracy: 0.9867\n",
      "Epoch 23/100\n",
      "75/75 [==============================] - 0s 3ms/step - loss: 0.0349 - accuracy: 0.9867 - val_loss: 0.0890 - val_accuracy: 0.9733\n",
      "Epoch 24/100\n",
      "75/75 [==============================] - 0s 3ms/step - loss: 0.0330 - accuracy: 0.9867 - val_loss: 0.0907 - val_accuracy: 0.9600\n",
      "Epoch 25/100\n",
      "75/75 [==============================] - 0s 3ms/step - loss: 0.0332 - accuracy: 1.0000 - val_loss: 0.0891 - val_accuracy: 0.9600\n",
      "Epoch 26/100\n",
      "75/75 [==============================] - 0s 2ms/step - loss: 0.0324 - accuracy: 0.9867 - val_loss: 0.0874 - val_accuracy: 0.9733\n",
      "Epoch 27/100\n",
      "75/75 [==============================] - 0s 3ms/step - loss: 0.0338 - accuracy: 1.0000 - val_loss: 0.0878 - val_accuracy: 0.9867\n",
      "Epoch 28/100\n",
      "75/75 [==============================] - 0s 3ms/step - loss: 0.0320 - accuracy: 0.9867 - val_loss: 0.0891 - val_accuracy: 0.9600\n",
      "Epoch 29/100\n",
      "75/75 [==============================] - 0s 3ms/step - loss: 0.0324 - accuracy: 0.9867 - val_loss: 0.0866 - val_accuracy: 0.9733\n",
      "Epoch 30/100\n",
      "75/75 [==============================] - 0s 3ms/step - loss: 0.0330 - accuracy: 0.9867 - val_loss: 0.0897 - val_accuracy: 0.9600\n",
      "Epoch 31/100\n",
      "75/75 [==============================] - 0s 3ms/step - loss: 0.0337 - accuracy: 0.9867 - val_loss: 0.0874 - val_accuracy: 0.9733\n",
      "Epoch 32/100\n",
      "75/75 [==============================] - 0s 3ms/step - loss: 0.0303 - accuracy: 0.9867 - val_loss: 0.0865 - val_accuracy: 0.9733\n",
      "Epoch 33/100\n",
      "75/75 [==============================] - 0s 3ms/step - loss: 0.0333 - accuracy: 0.9867 - val_loss: 0.0864 - val_accuracy: 0.9733\n",
      "Epoch 34/100\n",
      "75/75 [==============================] - 0s 3ms/step - loss: 0.0332 - accuracy: 0.9867 - val_loss: 0.0862 - val_accuracy: 0.9733\n",
      "Epoch 35/100\n",
      "75/75 [==============================] - 0s 3ms/step - loss: 0.0316 - accuracy: 0.9867 - val_loss: 0.0860 - val_accuracy: 0.9733\n",
      "Epoch 36/100\n",
      "75/75 [==============================] - 0s 3ms/step - loss: 0.0317 - accuracy: 0.9867 - val_loss: 0.0860 - val_accuracy: 0.9733\n",
      "Epoch 37/100\n",
      "75/75 [==============================] - 0s 3ms/step - loss: 0.0330 - accuracy: 0.9867 - val_loss: 0.0860 - val_accuracy: 0.9733\n",
      "Epoch 38/100\n",
      "75/75 [==============================] - 0s 3ms/step - loss: 0.0319 - accuracy: 0.9867 - val_loss: 0.0870 - val_accuracy: 0.9733\n",
      "Epoch 39/100\n",
      "75/75 [==============================] - 0s 3ms/step - loss: 0.0317 - accuracy: 0.9867 - val_loss: 0.0890 - val_accuracy: 0.9600\n",
      "Epoch 40/100\n",
      "75/75 [==============================] - 0s 3ms/step - loss: 0.0308 - accuracy: 0.9867 - val_loss: 0.0858 - val_accuracy: 0.9733\n",
      "Epoch 41/100\n",
      "75/75 [==============================] - 0s 3ms/step - loss: 0.0327 - accuracy: 1.0000 - val_loss: 0.0858 - val_accuracy: 0.9733\n",
      "Epoch 42/100\n",
      "75/75 [==============================] - 0s 3ms/step - loss: 0.0299 - accuracy: 0.9867 - val_loss: 0.0864 - val_accuracy: 0.9733\n",
      "Epoch 43/100\n",
      "75/75 [==============================] - 0s 3ms/step - loss: 0.0287 - accuracy: 1.0000 - val_loss: 0.0860 - val_accuracy: 0.9733\n",
      "Epoch 44/100\n",
      "75/75 [==============================] - 0s 3ms/step - loss: 0.0322 - accuracy: 0.9867 - val_loss: 0.0908 - val_accuracy: 0.9600\n",
      "Epoch 45/100\n",
      "75/75 [==============================] - 0s 3ms/step - loss: 0.0306 - accuracy: 0.9867 - val_loss: 0.0858 - val_accuracy: 0.9733\n",
      "Epoch 46/100\n",
      "75/75 [==============================] - 0s 3ms/step - loss: 0.0337 - accuracy: 0.9867 - val_loss: 0.0857 - val_accuracy: 0.9867\n",
      "Epoch 47/100\n",
      "75/75 [==============================] - 0s 3ms/step - loss: 0.0306 - accuracy: 0.9867 - val_loss: 0.0917 - val_accuracy: 0.9600\n",
      "Epoch 48/100\n",
      "75/75 [==============================] - 0s 3ms/step - loss: 0.0311 - accuracy: 0.9867 - val_loss: 0.0866 - val_accuracy: 0.9733\n",
      "Epoch 49/100\n",
      "75/75 [==============================] - 0s 3ms/step - loss: 0.0303 - accuracy: 0.9867 - val_loss: 0.0889 - val_accuracy: 0.9600\n",
      "Epoch 50/100\n",
      "75/75 [==============================] - 0s 3ms/step - loss: 0.0301 - accuracy: 0.9867 - val_loss: 0.0893 - val_accuracy: 0.9600\n",
      "Epoch 51/100\n",
      "75/75 [==============================] - 0s 3ms/step - loss: 0.0295 - accuracy: 1.0000 - val_loss: 0.0851 - val_accuracy: 0.9733\n",
      "Epoch 52/100\n",
      "75/75 [==============================] - 0s 3ms/step - loss: 0.0315 - accuracy: 0.9867 - val_loss: 0.0847 - val_accuracy: 0.9733\n",
      "Epoch 53/100\n",
      "75/75 [==============================] - 0s 3ms/step - loss: 0.0304 - accuracy: 1.0000 - val_loss: 0.0846 - val_accuracy: 0.9733\n",
      "Epoch 54/100\n",
      "75/75 [==============================] - 0s 3ms/step - loss: 0.0288 - accuracy: 0.9867 - val_loss: 0.0862 - val_accuracy: 0.9733\n",
      "Epoch 55/100\n",
      "75/75 [==============================] - 0s 3ms/step - loss: 0.0296 - accuracy: 0.9867 - val_loss: 0.0847 - val_accuracy: 0.9733\n",
      "Epoch 56/100\n",
      "75/75 [==============================] - 0s 3ms/step - loss: 0.0300 - accuracy: 1.0000 - val_loss: 0.0846 - val_accuracy: 0.9733\n",
      "Epoch 57/100\n",
      "75/75 [==============================] - 0s 3ms/step - loss: 0.0328 - accuracy: 0.9733 - val_loss: 0.0844 - val_accuracy: 0.9733\n",
      "Epoch 58/100\n",
      "75/75 [==============================] - 0s 3ms/step - loss: 0.0289 - accuracy: 0.9867 - val_loss: 0.0843 - val_accuracy: 0.9733\n"
     ]
    },
    {
     "name": "stdout",
     "output_type": "stream",
     "text": [
      "Epoch 59/100\n",
      "75/75 [==============================] - 0s 3ms/step - loss: 0.0296 - accuracy: 0.9867 - val_loss: 0.0842 - val_accuracy: 0.9733\n",
      "Epoch 60/100\n",
      "75/75 [==============================] - 0s 3ms/step - loss: 0.0283 - accuracy: 0.9867 - val_loss: 0.0845 - val_accuracy: 0.9733\n",
      "Epoch 61/100\n",
      "75/75 [==============================] - 0s 3ms/step - loss: 0.0267 - accuracy: 1.0000 - val_loss: 0.0887 - val_accuracy: 0.9600\n",
      "Epoch 62/100\n",
      "75/75 [==============================] - 0s 3ms/step - loss: 0.0314 - accuracy: 0.9867 - val_loss: 0.0840 - val_accuracy: 0.9733\n",
      "Epoch 63/100\n",
      "75/75 [==============================] - 0s 3ms/step - loss: 0.0310 - accuracy: 0.9867 - val_loss: 0.0873 - val_accuracy: 0.9600\n",
      "Epoch 64/100\n",
      "75/75 [==============================] - 0s 3ms/step - loss: 0.0297 - accuracy: 0.9867 - val_loss: 0.0840 - val_accuracy: 0.9733\n",
      "Epoch 65/100\n",
      "75/75 [==============================] - 0s 3ms/step - loss: 0.0290 - accuracy: 0.9867 - val_loss: 0.0865 - val_accuracy: 0.9600\n",
      "Epoch 66/100\n",
      "75/75 [==============================] - 0s 3ms/step - loss: 0.0304 - accuracy: 0.9867 - val_loss: 0.0838 - val_accuracy: 0.9733\n",
      "Epoch 67/100\n",
      "75/75 [==============================] - 0s 3ms/step - loss: 0.0304 - accuracy: 0.9867 - val_loss: 0.0837 - val_accuracy: 0.9733\n",
      "Epoch 68/100\n",
      "75/75 [==============================] - 0s 3ms/step - loss: 0.0307 - accuracy: 0.9867 - val_loss: 0.0837 - val_accuracy: 0.9733\n",
      "Epoch 69/100\n",
      "75/75 [==============================] - 0s 3ms/step - loss: 0.0301 - accuracy: 0.9867 - val_loss: 0.0836 - val_accuracy: 0.9733\n",
      "Epoch 70/100\n",
      "75/75 [==============================] - 0s 3ms/step - loss: 0.0282 - accuracy: 0.9867 - val_loss: 0.0909 - val_accuracy: 0.9600\n",
      "Epoch 71/100\n",
      "75/75 [==============================] - 0s 3ms/step - loss: 0.0292 - accuracy: 1.0000 - val_loss: 0.0835 - val_accuracy: 0.9733\n",
      "Epoch 72/100\n",
      "75/75 [==============================] - 0s 2ms/step - loss: 0.0279 - accuracy: 0.9867 - val_loss: 0.0847 - val_accuracy: 0.9733\n",
      "Epoch 73/100\n",
      "75/75 [==============================] - 0s 3ms/step - loss: 0.0287 - accuracy: 1.0000 - val_loss: 0.0834 - val_accuracy: 0.9733\n",
      "Epoch 74/100\n",
      "75/75 [==============================] - 0s 3ms/step - loss: 0.0281 - accuracy: 0.9867 - val_loss: 0.0861 - val_accuracy: 0.9600\n",
      "Epoch 75/100\n",
      "75/75 [==============================] - 0s 3ms/step - loss: 0.0290 - accuracy: 0.9867 - val_loss: 0.0894 - val_accuracy: 0.9600\n",
      "Epoch 76/100\n",
      "75/75 [==============================] - 0s 3ms/step - loss: 0.0285 - accuracy: 0.9867 - val_loss: 0.0832 - val_accuracy: 0.9733\n",
      "Epoch 77/100\n",
      "75/75 [==============================] - 0s 3ms/step - loss: 0.0275 - accuracy: 0.9867 - val_loss: 0.0845 - val_accuracy: 0.9733\n",
      "Epoch 78/100\n",
      "75/75 [==============================] - 0s 4ms/step - loss: 0.0288 - accuracy: 0.9867 - val_loss: 0.0862 - val_accuracy: 0.9600\n",
      "Epoch 79/100\n",
      "75/75 [==============================] - 0s 2ms/step - loss: 0.0291 - accuracy: 0.9867 - val_loss: 0.0880 - val_accuracy: 0.9600\n",
      "Epoch 80/100\n",
      "75/75 [==============================] - 0s 2ms/step - loss: 0.0291 - accuracy: 0.9867 - val_loss: 0.0876 - val_accuracy: 0.9600\n",
      "Epoch 81/100\n",
      "75/75 [==============================] - 0s 2ms/step - loss: 0.0299 - accuracy: 0.9867 - val_loss: 0.0831 - val_accuracy: 0.9733\n",
      "Epoch 82/100\n",
      "75/75 [==============================] - 0s 2ms/step - loss: 0.0279 - accuracy: 1.0000 - val_loss: 0.0830 - val_accuracy: 0.9733\n",
      "Epoch 83/100\n",
      "75/75 [==============================] - 0s 2ms/step - loss: 0.0301 - accuracy: 0.9867 - val_loss: 0.0896 - val_accuracy: 0.9600\n",
      "Epoch 84/100\n",
      "75/75 [==============================] - 0s 3ms/step - loss: 0.0279 - accuracy: 1.0000 - val_loss: 0.0873 - val_accuracy: 0.9600\n",
      "Epoch 85/100\n",
      "75/75 [==============================] - 0s 3ms/step - loss: 0.0265 - accuracy: 1.0000 - val_loss: 0.0833 - val_accuracy: 0.9733\n",
      "Epoch 86/100\n",
      "75/75 [==============================] - 0s 2ms/step - loss: 0.0279 - accuracy: 0.9867 - val_loss: 0.0885 - val_accuracy: 0.9600\n",
      "Epoch 87/100\n",
      "75/75 [==============================] - 0s 3ms/step - loss: 0.0281 - accuracy: 1.0000 - val_loss: 0.0883 - val_accuracy: 0.9600\n",
      "Epoch 88/100\n",
      "75/75 [==============================] - 0s 2ms/step - loss: 0.0289 - accuracy: 0.9867 - val_loss: 0.0828 - val_accuracy: 0.9733\n",
      "Epoch 89/100\n",
      "75/75 [==============================] - 0s 2ms/step - loss: 0.0271 - accuracy: 1.0000 - val_loss: 0.0829 - val_accuracy: 0.9733\n",
      "Epoch 90/100\n",
      "75/75 [==============================] - 0s 2ms/step - loss: 0.0284 - accuracy: 0.9867 - val_loss: 0.0825 - val_accuracy: 0.9733\n",
      "Epoch 91/100\n",
      "75/75 [==============================] - 0s 2ms/step - loss: 0.0261 - accuracy: 1.0000 - val_loss: 0.0844 - val_accuracy: 0.9733\n",
      "Epoch 92/100\n",
      "75/75 [==============================] - 0s 2ms/step - loss: 0.0280 - accuracy: 0.9867 - val_loss: 0.0881 - val_accuracy: 0.9600\n",
      "Epoch 93/100\n",
      "75/75 [==============================] - 0s 3ms/step - loss: 0.0270 - accuracy: 1.0000 - val_loss: 0.0851 - val_accuracy: 0.9733\n",
      "Epoch 94/100\n",
      "75/75 [==============================] - 0s 2ms/step - loss: 0.0276 - accuracy: 0.9867 - val_loss: 0.0838 - val_accuracy: 0.9733\n",
      "Epoch 95/100\n",
      "75/75 [==============================] - 0s 2ms/step - loss: 0.0280 - accuracy: 1.0000 - val_loss: 0.0852 - val_accuracy: 0.9600\n",
      "Epoch 96/100\n",
      "75/75 [==============================] - 0s 2ms/step - loss: 0.0297 - accuracy: 0.9867 - val_loss: 0.0822 - val_accuracy: 0.9733\n",
      "Epoch 97/100\n",
      "75/75 [==============================] - 0s 2ms/step - loss: 0.0269 - accuracy: 0.9867 - val_loss: 0.0829 - val_accuracy: 0.9733\n",
      "Epoch 98/100\n",
      "75/75 [==============================] - 0s 3ms/step - loss: 0.0250 - accuracy: 1.0000 - val_loss: 0.0849 - val_accuracy: 0.9733\n",
      "Epoch 99/100\n",
      "75/75 [==============================] - 0s 3ms/step - loss: 0.0290 - accuracy: 0.9867 - val_loss: 0.0854 - val_accuracy: 0.9600\n",
      "Epoch 100/100\n",
      "75/75 [==============================] - 0s 2ms/step - loss: 0.0263 - accuracy: 1.0000 - val_loss: 0.0821 - val_accuracy: 0.9733\n"
     ]
    }
   ],
   "source": [
    "history = simple_iris_model.fit(\n",
    "    X_train, y_train_bin,\n",
    "    epochs = 100,\n",
    "    batch_size = 1,\n",
    "    verbose = 1,\n",
    "    validation_data = (X_test, y_test_bin)\n",
    ")"
   ]
  },
  {
   "cell_type": "markdown",
   "id": "95704da4",
   "metadata": {},
   "source": [
    "**13) Visualize the loss on training and test data.**"
   ]
  },
  {
   "cell_type": "code",
   "execution_count": 65,
   "id": "d422c4c3",
   "metadata": {},
   "outputs": [
    {
     "name": "stdout",
     "output_type": "stream",
     "text": [
      "dict_keys(['loss', 'accuracy', 'val_loss', 'val_accuracy'])\n"
     ]
    },
    {
     "data": {
      "image/png": "[encoded data removed]",
      "text/plain": [
       "<Figure size 640x480 with 1 Axes>"
      ]
     },
     "metadata": {},
     "output_type": "display_data"
    },
    {
     "data": {
      "image/png": "[encoded data removed]",
      "text/plain": [
       "<Figure size 640x480 with 1 Axes>"
      ]
     },
     "metadata": {},
     "output_type": "display_data"
    }
   ],
   "source": [
    "print(history.history.keys())\n",
    "\n",
    "# summarize history for accuracy\n",
    "plt.plot(history.history['accuracy'])\n",
    "plt.plot(history.history['val_accuracy'])\n",
    "plt.title('model accuracy')\n",
    "plt.ylabel('accuracy')\n",
    "plt.xlabel('epoch')\n",
    "plt.legend(['train', 'test'], loc='upper left')\n",
    "plt.show()\n",
    "\n",
    "# summarize history for loss\n",
    "plt.plot(history.history['loss'])\n",
    "plt.plot(history.history['val_loss'])\n",
    "plt.title('model loss')\n",
    "plt.ylabel('loss')\n",
    "plt.xlabel('epoch')\n",
    "plt.legend(['train', 'test'], loc='upper left')\n",
    "plt.show()"
   ]
  },
  {
   "cell_type": "markdown",
   "id": "96a43823",
   "metadata": {},
   "source": [
    "**15) Try to change some parameters with the model.**"
   ]
  },
  {
   "cell_type": "code",
   "execution_count": 69,
   "id": "2671d50a",
   "metadata": {},
   "outputs": [
    {
     "name": "stdout",
     "output_type": "stream",
     "text": [
      "Epoch 1/100\n",
      "75/75 [==============================] - 1s 5ms/step - loss: 1.1218 - accuracy: 0.3733 - val_loss: 1.1136 - val_accuracy: 0.2933\n",
      "Epoch 2/100\n",
      "75/75 [==============================] - 0s 2ms/step - loss: 1.0899 - accuracy: 0.3733 - val_loss: 1.1042 - val_accuracy: 0.2933\n",
      "Epoch 3/100\n",
      "75/75 [==============================] - 0s 2ms/step - loss: 1.0769 - accuracy: 0.3733 - val_loss: 1.0921 - val_accuracy: 0.2933\n",
      "Epoch 4/100\n",
      "75/75 [==============================] - 0s 2ms/step - loss: 1.0524 - accuracy: 0.3733 - val_loss: 1.0598 - val_accuracy: 0.2933\n",
      "Epoch 5/100\n",
      "75/75 [==============================] - 0s 3ms/step - loss: 1.0304 - accuracy: 0.3733 - val_loss: 1.0284 - val_accuracy: 0.3467\n",
      "Epoch 6/100\n",
      "75/75 [==============================] - 0s 3ms/step - loss: 1.0000 - accuracy: 0.4133 - val_loss: 1.0012 - val_accuracy: 0.3067\n",
      "Epoch 7/100\n",
      "75/75 [==============================] - 0s 2ms/step - loss: 0.9620 - accuracy: 0.5200 - val_loss: 0.9620 - val_accuracy: 0.2933\n",
      "Epoch 8/100\n",
      "75/75 [==============================] - 0s 2ms/step - loss: 0.9260 - accuracy: 0.4400 - val_loss: 0.9213 - val_accuracy: 0.3467\n",
      "Epoch 9/100\n",
      "75/75 [==============================] - 0s 2ms/step - loss: 0.8793 - accuracy: 0.5200 - val_loss: 0.8665 - val_accuracy: 0.4933\n",
      "Epoch 10/100\n",
      "75/75 [==============================] - 0s 2ms/step - loss: 0.8325 - accuracy: 0.7200 - val_loss: 0.8066 - val_accuracy: 0.6667\n",
      "Epoch 11/100\n",
      "75/75 [==============================] - 0s 2ms/step - loss: 0.7772 - accuracy: 0.8000 - val_loss: 0.7710 - val_accuracy: 0.5867\n",
      "Epoch 12/100\n",
      "75/75 [==============================] - 0s 2ms/step - loss: 0.7195 - accuracy: 0.7467 - val_loss: 0.6915 - val_accuracy: 0.9333\n",
      "Epoch 13/100\n",
      "75/75 [==============================] - 0s 2ms/step - loss: 0.6498 - accuracy: 0.8933 - val_loss: 0.6373 - val_accuracy: 0.8800\n",
      "Epoch 14/100\n",
      "75/75 [==============================] - 0s 2ms/step - loss: 0.5797 - accuracy: 0.9600 - val_loss: 0.5816 - val_accuracy: 0.8400\n",
      "Epoch 15/100\n",
      "75/75 [==============================] - 0s 3ms/step - loss: 0.5151 - accuracy: 0.8933 - val_loss: 0.5049 - val_accuracy: 0.9200\n",
      "Epoch 16/100\n",
      "75/75 [==============================] - 0s 2ms/step - loss: 0.4501 - accuracy: 0.9467 - val_loss: 0.4484 - val_accuracy: 0.9733\n",
      "Epoch 17/100\n",
      "75/75 [==============================] - 0s 2ms/step - loss: 0.4006 - accuracy: 0.9600 - val_loss: 0.4155 - val_accuracy: 0.9733\n",
      "Epoch 18/100\n",
      "75/75 [==============================] - 0s 2ms/step - loss: 0.3724 - accuracy: 0.9067 - val_loss: 0.3879 - val_accuracy: 0.9733\n",
      "Epoch 19/100\n",
      "75/75 [==============================] - 0s 2ms/step - loss: 0.3254 - accuracy: 0.9600 - val_loss: 0.3377 - val_accuracy: 0.8533\n",
      "Epoch 20/100\n",
      "75/75 [==============================] - 0s 3ms/step - loss: 0.2864 - accuracy: 1.0000 - val_loss: 0.3565 - val_accuracy: 0.8667\n",
      "Epoch 21/100\n",
      "75/75 [==============================] - 0s 3ms/step - loss: 0.2660 - accuracy: 0.9600 - val_loss: 0.3553 - val_accuracy: 0.8667\n",
      "Epoch 22/100\n",
      "75/75 [==============================] - 0s 3ms/step - loss: 0.2450 - accuracy: 0.9733 - val_loss: 0.2690 - val_accuracy: 0.9467\n",
      "Epoch 23/100\n",
      "75/75 [==============================] - 0s 3ms/step - loss: 0.2261 - accuracy: 0.9867 - val_loss: 0.2587 - val_accuracy: 0.9600\n",
      "Epoch 24/100\n",
      "75/75 [==============================] - 0s 2ms/step - loss: 0.2025 - accuracy: 0.9867 - val_loss: 0.2353 - val_accuracy: 0.9467\n",
      "Epoch 25/100\n",
      "75/75 [==============================] - 0s 3ms/step - loss: 0.1944 - accuracy: 0.9733 - val_loss: 0.2310 - val_accuracy: 0.9733\n",
      "Epoch 26/100\n",
      "75/75 [==============================] - 0s 3ms/step - loss: 0.1812 - accuracy: 0.9867 - val_loss: 0.2195 - val_accuracy: 0.9733\n",
      "Epoch 27/100\n",
      "75/75 [==============================] - 0s 2ms/step - loss: 0.1489 - accuracy: 1.0000 - val_loss: 0.2622 - val_accuracy: 0.8933\n",
      "Epoch 28/100\n",
      "75/75 [==============================] - 0s 2ms/step - loss: 0.1853 - accuracy: 0.9600 - val_loss: 0.2061 - val_accuracy: 0.9467\n",
      "Epoch 29/100\n",
      "75/75 [==============================] - 0s 2ms/step - loss: 0.1767 - accuracy: 0.9467 - val_loss: 0.1908 - val_accuracy: 0.9600\n",
      "Epoch 30/100\n",
      "75/75 [==============================] - 0s 2ms/step - loss: 0.1465 - accuracy: 0.9867 - val_loss: 0.1847 - val_accuracy: 0.9733\n",
      "Epoch 31/100\n",
      "75/75 [==============================] - 0s 2ms/step - loss: 0.1567 - accuracy: 0.9733 - val_loss: 0.1833 - val_accuracy: 0.9733\n",
      "Epoch 32/100\n",
      "75/75 [==============================] - 0s 3ms/step - loss: 0.1395 - accuracy: 0.9733 - val_loss: 0.1810 - val_accuracy: 0.9600\n",
      "Epoch 33/100\n",
      "75/75 [==============================] - 0s 2ms/step - loss: 0.1306 - accuracy: 0.9867 - val_loss: 0.1716 - val_accuracy: 0.9467\n",
      "Epoch 34/100\n",
      "75/75 [==============================] - 0s 3ms/step - loss: 0.1161 - accuracy: 0.9733 - val_loss: 0.1958 - val_accuracy: 0.9200\n",
      "Epoch 35/100\n",
      "75/75 [==============================] - 0s 2ms/step - loss: 0.1198 - accuracy: 0.9867 - val_loss: 0.1712 - val_accuracy: 0.9467\n",
      "Epoch 36/100\n",
      "75/75 [==============================] - 0s 3ms/step - loss: 0.1149 - accuracy: 0.9867 - val_loss: 0.1541 - val_accuracy: 0.9600\n",
      "Epoch 37/100\n",
      "75/75 [==============================] - 0s 2ms/step - loss: 0.1112 - accuracy: 0.9733 - val_loss: 0.1553 - val_accuracy: 0.9733\n",
      "Epoch 38/100\n",
      "75/75 [==============================] - 0s 2ms/step - loss: 0.1030 - accuracy: 0.9733 - val_loss: 0.1581 - val_accuracy: 0.9467\n",
      "Epoch 39/100\n",
      "75/75 [==============================] - 0s 2ms/step - loss: 0.1129 - accuracy: 0.9867 - val_loss: 0.1466 - val_accuracy: 0.9600\n",
      "Epoch 40/100\n",
      "75/75 [==============================] - 0s 3ms/step - loss: 0.0976 - accuracy: 0.9867 - val_loss: 0.1689 - val_accuracy: 0.9200\n",
      "Epoch 41/100\n",
      "75/75 [==============================] - 0s 2ms/step - loss: 0.0962 - accuracy: 0.9867 - val_loss: 0.1622 - val_accuracy: 0.9200\n",
      "Epoch 42/100\n",
      "75/75 [==============================] - 0s 2ms/step - loss: 0.0973 - accuracy: 0.9600 - val_loss: 0.1365 - val_accuracy: 0.9733\n",
      "Epoch 43/100\n",
      "75/75 [==============================] - 0s 2ms/step - loss: 0.0945 - accuracy: 0.9733 - val_loss: 0.1367 - val_accuracy: 0.9600\n",
      "Epoch 44/100\n",
      "75/75 [==============================] - 0s 2ms/step - loss: 0.0877 - accuracy: 0.9867 - val_loss: 0.1348 - val_accuracy: 0.9600\n",
      "Epoch 45/100\n",
      "75/75 [==============================] - 0s 2ms/step - loss: 0.0862 - accuracy: 0.9867 - val_loss: 0.1352 - val_accuracy: 0.9733\n",
      "Epoch 46/100\n",
      "75/75 [==============================] - 0s 2ms/step - loss: 0.0848 - accuracy: 0.9733 - val_loss: 0.1348 - val_accuracy: 0.9467\n",
      "Epoch 47/100\n",
      "75/75 [==============================] - 0s 2ms/step - loss: 0.0765 - accuracy: 1.0000 - val_loss: 0.1838 - val_accuracy: 0.9067\n",
      "Epoch 48/100\n",
      "75/75 [==============================] - 0s 2ms/step - loss: 0.0904 - accuracy: 0.9600 - val_loss: 0.1227 - val_accuracy: 0.9733\n",
      "Epoch 49/100\n",
      "75/75 [==============================] - 0s 2ms/step - loss: 0.0813 - accuracy: 0.9867 - val_loss: 0.1339 - val_accuracy: 0.9600\n",
      "Epoch 50/100\n",
      "75/75 [==============================] - 0s 2ms/step - loss: 0.0806 - accuracy: 0.9867 - val_loss: 0.1502 - val_accuracy: 0.9200\n",
      "Epoch 51/100\n",
      "75/75 [==============================] - 0s 2ms/step - loss: 0.0739 - accuracy: 1.0000 - val_loss: 0.1707 - val_accuracy: 0.9067\n",
      "Epoch 52/100\n",
      "75/75 [==============================] - 0s 2ms/step - loss: 0.0716 - accuracy: 0.9867 - val_loss: 0.1161 - val_accuracy: 0.9733\n",
      "Epoch 53/100\n",
      "75/75 [==============================] - 0s 2ms/step - loss: 0.0766 - accuracy: 0.9733 - val_loss: 0.1239 - val_accuracy: 0.9733\n",
      "Epoch 54/100\n",
      "75/75 [==============================] - 0s 2ms/step - loss: 0.0715 - accuracy: 0.9867 - val_loss: 0.1344 - val_accuracy: 0.9333\n",
      "Epoch 55/100\n",
      "75/75 [==============================] - 0s 2ms/step - loss: 0.0771 - accuracy: 0.9600 - val_loss: 0.1175 - val_accuracy: 0.9733\n",
      "Epoch 56/100\n",
      "75/75 [==============================] - 0s 3ms/step - loss: 0.0847 - accuracy: 0.9733 - val_loss: 0.1197 - val_accuracy: 0.9600\n",
      "Epoch 57/100\n",
      "75/75 [==============================] - 0s 2ms/step - loss: 0.0627 - accuracy: 0.9867 - val_loss: 0.1350 - val_accuracy: 0.9200\n",
      "Epoch 58/100\n",
      "75/75 [==============================] - 0s 2ms/step - loss: 0.0728 - accuracy: 0.9733 - val_loss: 0.1225 - val_accuracy: 0.9600\n"
     ]
    },
    {
     "name": "stdout",
     "output_type": "stream",
     "text": [
      "Epoch 59/100\n",
      "75/75 [==============================] - 0s 3ms/step - loss: 0.0698 - accuracy: 0.9733 - val_loss: 0.1078 - val_accuracy: 0.9733\n",
      "Epoch 60/100\n",
      "75/75 [==============================] - 0s 2ms/step - loss: 0.0664 - accuracy: 0.9733 - val_loss: 0.1087 - val_accuracy: 0.9600\n",
      "Epoch 61/100\n",
      "75/75 [==============================] - 0s 3ms/step - loss: 0.0710 - accuracy: 0.9733 - val_loss: 0.1065 - val_accuracy: 0.9733\n",
      "Epoch 62/100\n",
      "75/75 [==============================] - 0s 3ms/step - loss: 0.0592 - accuracy: 0.9733 - val_loss: 0.1331 - val_accuracy: 0.9200\n",
      "Epoch 63/100\n",
      "75/75 [==============================] - 0s 3ms/step - loss: 0.0640 - accuracy: 0.9733 - val_loss: 0.1054 - val_accuracy: 0.9600\n",
      "Epoch 64/100\n",
      "75/75 [==============================] - 0s 3ms/step - loss: 0.0629 - accuracy: 0.9867 - val_loss: 0.1108 - val_accuracy: 0.9733\n",
      "Epoch 65/100\n",
      "75/75 [==============================] - 0s 3ms/step - loss: 0.0605 - accuracy: 0.9733 - val_loss: 0.1030 - val_accuracy: 0.9733\n",
      "Epoch 66/100\n",
      "75/75 [==============================] - 0s 3ms/step - loss: 0.0645 - accuracy: 0.9867 - val_loss: 0.1203 - val_accuracy: 0.9467\n",
      "Epoch 67/100\n",
      "75/75 [==============================] - 0s 3ms/step - loss: 0.0578 - accuracy: 0.9867 - val_loss: 0.1229 - val_accuracy: 0.9333\n",
      "Epoch 68/100\n",
      "75/75 [==============================] - 0s 3ms/step - loss: 0.0485 - accuracy: 0.9867 - val_loss: 0.2110 - val_accuracy: 0.9333\n",
      "Epoch 69/100\n",
      "75/75 [==============================] - 0s 3ms/step - loss: 0.0716 - accuracy: 0.9733 - val_loss: 0.1002 - val_accuracy: 0.9733\n",
      "Epoch 70/100\n",
      "75/75 [==============================] - 0s 3ms/step - loss: 0.0569 - accuracy: 0.9733 - val_loss: 0.1391 - val_accuracy: 0.9467\n",
      "Epoch 71/100\n",
      "75/75 [==============================] - 0s 3ms/step - loss: 0.0579 - accuracy: 0.9867 - val_loss: 0.1045 - val_accuracy: 0.9600\n",
      "Epoch 72/100\n",
      "75/75 [==============================] - 0s 3ms/step - loss: 0.0680 - accuracy: 0.9733 - val_loss: 0.0997 - val_accuracy: 0.9600\n",
      "Epoch 73/100\n",
      "75/75 [==============================] - 0s 3ms/step - loss: 0.0540 - accuracy: 0.9867 - val_loss: 0.0995 - val_accuracy: 0.9733\n",
      "Epoch 74/100\n",
      "75/75 [==============================] - 0s 3ms/step - loss: 0.0548 - accuracy: 0.9867 - val_loss: 0.1038 - val_accuracy: 0.9600\n",
      "Epoch 75/100\n",
      "75/75 [==============================] - 0s 3ms/step - loss: 0.0503 - accuracy: 0.9867 - val_loss: 0.1014 - val_accuracy: 0.9733\n",
      "Epoch 76/100\n",
      "75/75 [==============================] - 0s 3ms/step - loss: 0.0523 - accuracy: 0.9867 - val_loss: 0.0984 - val_accuracy: 0.9600\n",
      "Epoch 77/100\n",
      "75/75 [==============================] - 0s 3ms/step - loss: 0.0610 - accuracy: 0.9600 - val_loss: 0.0969 - val_accuracy: 0.9733\n",
      "Epoch 78/100\n",
      "75/75 [==============================] - 0s 3ms/step - loss: 0.0543 - accuracy: 0.9867 - val_loss: 0.0952 - val_accuracy: 0.9733\n",
      "Epoch 79/100\n",
      "75/75 [==============================] - 0s 3ms/step - loss: 0.0664 - accuracy: 0.9733 - val_loss: 0.0999 - val_accuracy: 0.9600\n",
      "Epoch 80/100\n",
      "75/75 [==============================] - 0s 3ms/step - loss: 0.0458 - accuracy: 1.0000 - val_loss: 0.1083 - val_accuracy: 0.9600\n",
      "Epoch 81/100\n",
      "75/75 [==============================] - 0s 3ms/step - loss: 0.0682 - accuracy: 0.9600 - val_loss: 0.1212 - val_accuracy: 0.9467\n",
      "Epoch 82/100\n",
      "75/75 [==============================] - 0s 3ms/step - loss: 0.0458 - accuracy: 1.0000 - val_loss: 0.1045 - val_accuracy: 0.9600\n",
      "Epoch 83/100\n",
      "75/75 [==============================] - 0s 3ms/step - loss: 0.0479 - accuracy: 0.9867 - val_loss: 0.1236 - val_accuracy: 0.9200\n",
      "Epoch 84/100\n",
      "75/75 [==============================] - 0s 3ms/step - loss: 0.0683 - accuracy: 0.9733 - val_loss: 0.1870 - val_accuracy: 0.9200\n",
      "Epoch 85/100\n",
      "75/75 [==============================] - 0s 3ms/step - loss: 0.0646 - accuracy: 0.9733 - val_loss: 0.0959 - val_accuracy: 0.9733\n",
      "Epoch 86/100\n",
      "75/75 [==============================] - 0s 3ms/step - loss: 0.0472 - accuracy: 0.9867 - val_loss: 0.1371 - val_accuracy: 0.9200\n",
      "Epoch 87/100\n",
      "75/75 [==============================] - 0s 3ms/step - loss: 0.0479 - accuracy: 0.9867 - val_loss: 0.0987 - val_accuracy: 0.9600\n",
      "Epoch 88/100\n",
      "75/75 [==============================] - 0s 3ms/step - loss: 0.0410 - accuracy: 0.9867 - val_loss: 0.1473 - val_accuracy: 0.9067\n",
      "Epoch 89/100\n",
      "75/75 [==============================] - 0s 3ms/step - loss: 0.0596 - accuracy: 0.9733 - val_loss: 0.0950 - val_accuracy: 0.9733\n",
      "Epoch 90/100\n",
      "75/75 [==============================] - 0s 3ms/step - loss: 0.0601 - accuracy: 0.9733 - val_loss: 0.1239 - val_accuracy: 0.9200\n",
      "Epoch 91/100\n",
      "75/75 [==============================] - 0s 3ms/step - loss: 0.0570 - accuracy: 0.9867 - val_loss: 0.0914 - val_accuracy: 0.9733\n",
      "Epoch 92/100\n",
      "75/75 [==============================] - 0s 3ms/step - loss: 0.0442 - accuracy: 0.9867 - val_loss: 0.0987 - val_accuracy: 0.9600\n",
      "Epoch 93/100\n",
      "75/75 [==============================] - 0s 3ms/step - loss: 0.0516 - accuracy: 0.9733 - val_loss: 0.0946 - val_accuracy: 0.9600\n",
      "Epoch 94/100\n",
      "75/75 [==============================] - 0s 3ms/step - loss: 0.0446 - accuracy: 0.9867 - val_loss: 0.1068 - val_accuracy: 0.9467\n",
      "Epoch 95/100\n",
      "75/75 [==============================] - 0s 3ms/step - loss: 0.0695 - accuracy: 0.9733 - val_loss: 0.1083 - val_accuracy: 0.9467\n",
      "Epoch 96/100\n",
      "75/75 [==============================] - 0s 3ms/step - loss: 0.0498 - accuracy: 0.9867 - val_loss: 0.0893 - val_accuracy: 0.9733\n",
      "Epoch 97/100\n",
      "75/75 [==============================] - 0s 3ms/step - loss: 0.0452 - accuracy: 0.9867 - val_loss: 0.0892 - val_accuracy: 0.9733\n",
      "Epoch 98/100\n",
      "75/75 [==============================] - 0s 3ms/step - loss: 0.0517 - accuracy: 0.9867 - val_loss: 0.1174 - val_accuracy: 0.9200\n",
      "Epoch 99/100\n",
      "75/75 [==============================] - 0s 3ms/step - loss: 0.0569 - accuracy: 0.9733 - val_loss: 0.1851 - val_accuracy: 0.9467\n",
      "Epoch 100/100\n",
      "75/75 [==============================] - 0s 2ms/step - loss: 0.0686 - accuracy: 0.9733 - val_loss: 0.0904 - val_accuracy: 0.9733\n"
     ]
    }
   ],
   "source": [
    "# creating a new model with different parameters\n",
    "inputs = Input(shape=(4,))\n",
    "layer = Dense(16, activation='relu')(inputs)\n",
    "layer = Dense(8, activation='relu')(layer)\n",
    "outputs = Dense(3, activation='softmax')(layer)\n",
    "simple_iris_model_2 = Model(inputs=inputs, outputs=outputs, name=\"simple_iris_model_2\")\n",
    "\n",
    "# compiling the model\n",
    "simple_iris_model_2.compile(\n",
    "    optimizer = tf.keras.optimizers.Adam(learning_rate=1e-3),\n",
    "    loss = 'categorical_crossentropy',\n",
    "    metrics = ['accuracy']\n",
    ")\n",
    "\n",
    "# creating the history for the new model\n",
    "history_2 = simple_iris_model_2.fit(\n",
    "    X_train, y_train_bin,\n",
    "    epochs = 100,\n",
    "    batch_size = 1,\n",
    "    verbose = 1,\n",
    "    validation_data = (X_test, y_test_bin)\n",
    ")"
   ]
  },
  {
   "cell_type": "code",
   "execution_count": 71,
   "id": "77694e7a",
   "metadata": {},
   "outputs": [
    {
     "name": "stdout",
     "output_type": "stream",
     "text": [
      "dict_keys(['loss', 'accuracy', 'val_loss', 'val_accuracy'])\n"
     ]
    },
    {
     "data": {
      "image/png": "[encoded data removed]",
      "text/plain": [
       "<Figure size 640x480 with 1 Axes>"
      ]
     },
     "metadata": {},
     "output_type": "display_data"
    },
    {
     "data": {
      "image/png": "[encoded data removed]",
      "text/plain": [
       "<Figure size 640x480 with 1 Axes>"
      ]
     },
     "metadata": {},
     "output_type": "display_data"
    }
   ],
   "source": [
    "# creating visualizations for the new model\n",
    "print(history_2.history.keys())\n",
    "\n",
    "# summarize history for accuracy\n",
    "plt.plot(history_2.history['accuracy'])\n",
    "plt.plot(history_2.history['val_accuracy'])\n",
    "plt.title('model accuracy')\n",
    "plt.ylabel('accuracy')\n",
    "plt.xlabel('epoch')\n",
    "plt.legend(['train', 'test'], loc='upper left')\n",
    "plt.show()\n",
    "\n",
    "# summarize history for loss\n",
    "plt.plot(history_2.history['loss'])\n",
    "plt.plot(history_2.history['val_loss'])\n",
    "plt.title('model loss')\n",
    "plt.ylabel('loss')\n",
    "plt.xlabel('epoch')\n",
    "plt.legend(['train', 'test'], loc='upper left')\n",
    "plt.show()"
   ]
  },
  {
   "cell_type": "markdown",
   "id": "7fdfbfcb",
   "metadata": {},
   "source": [
    "**16) This time, copy the same model, but use an SGD optimizer. Also, instantiate your optimizer.**"
   ]
  },
  {
   "cell_type": "code",
   "execution_count": 73,
   "id": "2e548060",
   "metadata": {},
   "outputs": [
    {
     "name": "stdout",
     "output_type": "stream",
     "text": [
      "Epoch 1/100\n",
      "75/75 [==============================] - 1s 4ms/step - loss: 0.9495 - accuracy: 0.5333 - val_loss: 0.8667 - val_accuracy: 0.6000\n",
      "Epoch 2/100\n",
      "75/75 [==============================] - 0s 2ms/step - loss: 0.6069 - accuracy: 0.7333 - val_loss: 0.6678 - val_accuracy: 0.6000\n",
      "Epoch 3/100\n",
      "75/75 [==============================] - 0s 2ms/step - loss: 0.4927 - accuracy: 0.7867 - val_loss: 0.4495 - val_accuracy: 0.9467\n",
      "Epoch 4/100\n",
      "75/75 [==============================] - 0s 2ms/step - loss: 0.4040 - accuracy: 0.8533 - val_loss: 0.3980 - val_accuracy: 0.9733\n",
      "Epoch 5/100\n",
      "75/75 [==============================] - 0s 2ms/step - loss: 0.3845 - accuracy: 0.8400 - val_loss: 0.6064 - val_accuracy: 0.6000\n",
      "Epoch 6/100\n",
      "75/75 [==============================] - 0s 2ms/step - loss: 0.3478 - accuracy: 0.8267 - val_loss: 0.6174 - val_accuracy: 0.6133\n",
      "Epoch 7/100\n",
      "75/75 [==============================] - 0s 2ms/step - loss: 0.3101 - accuracy: 0.8933 - val_loss: 0.3030 - val_accuracy: 0.9600\n",
      "Epoch 8/100\n",
      "75/75 [==============================] - 0s 2ms/step - loss: 0.2600 - accuracy: 0.9333 - val_loss: 0.3677 - val_accuracy: 0.8400\n",
      "Epoch 9/100\n",
      "75/75 [==============================] - 0s 2ms/step - loss: 0.2570 - accuracy: 0.8933 - val_loss: 0.2810 - val_accuracy: 0.8933\n",
      "Epoch 10/100\n",
      "75/75 [==============================] - 0s 2ms/step - loss: 0.2463 - accuracy: 0.8800 - val_loss: 0.2615 - val_accuracy: 0.9067\n",
      "Epoch 11/100\n",
      "75/75 [==============================] - 0s 2ms/step - loss: 0.2470 - accuracy: 0.9067 - val_loss: 0.5006 - val_accuracy: 0.6533\n",
      "Epoch 12/100\n",
      "75/75 [==============================] - 0s 2ms/step - loss: 0.2125 - accuracy: 0.9467 - val_loss: 0.2548 - val_accuracy: 0.8800\n",
      "Epoch 13/100\n",
      "75/75 [==============================] - 0s 2ms/step - loss: 0.1813 - accuracy: 0.9200 - val_loss: 0.2101 - val_accuracy: 0.9333\n",
      "Epoch 14/100\n",
      "75/75 [==============================] - 0s 2ms/step - loss: 0.1526 - accuracy: 0.9600 - val_loss: 0.2949 - val_accuracy: 0.8800\n",
      "Epoch 15/100\n",
      "75/75 [==============================] - 0s 2ms/step - loss: 0.2034 - accuracy: 0.9333 - val_loss: 0.2066 - val_accuracy: 0.9200\n",
      "Epoch 16/100\n",
      "75/75 [==============================] - 0s 2ms/step - loss: 0.2158 - accuracy: 0.8933 - val_loss: 0.1918 - val_accuracy: 0.9200\n",
      "Epoch 17/100\n",
      "75/75 [==============================] - 0s 2ms/step - loss: 0.1239 - accuracy: 0.9733 - val_loss: 0.5991 - val_accuracy: 0.6800\n",
      "Epoch 18/100\n",
      "75/75 [==============================] - 0s 2ms/step - loss: 0.2962 - accuracy: 0.8400 - val_loss: 0.1769 - val_accuracy: 0.9467\n",
      "Epoch 19/100\n",
      "75/75 [==============================] - 0s 2ms/step - loss: 0.1195 - accuracy: 0.9467 - val_loss: 0.1821 - val_accuracy: 0.9467\n",
      "Epoch 20/100\n",
      "75/75 [==============================] - 0s 2ms/step - loss: 0.1737 - accuracy: 0.9467 - val_loss: 0.1510 - val_accuracy: 0.9467\n",
      "Epoch 21/100\n",
      "75/75 [==============================] - 0s 2ms/step - loss: 0.1194 - accuracy: 0.9467 - val_loss: 0.1415 - val_accuracy: 0.9600\n",
      "Epoch 22/100\n",
      "75/75 [==============================] - 0s 2ms/step - loss: 0.0975 - accuracy: 0.9867 - val_loss: 0.1648 - val_accuracy: 0.9467\n",
      "Epoch 23/100\n",
      "75/75 [==============================] - 0s 2ms/step - loss: 0.0985 - accuracy: 0.9733 - val_loss: 0.1253 - val_accuracy: 0.9733\n",
      "Epoch 24/100\n",
      "75/75 [==============================] - 0s 2ms/step - loss: 0.1648 - accuracy: 0.9467 - val_loss: 0.4607 - val_accuracy: 0.8000\n",
      "Epoch 25/100\n",
      "75/75 [==============================] - 0s 2ms/step - loss: 0.2344 - accuracy: 0.8667 - val_loss: 0.3608 - val_accuracy: 0.8267\n",
      "Epoch 26/100\n",
      "75/75 [==============================] - 0s 2ms/step - loss: 0.1218 - accuracy: 0.9467 - val_loss: 0.1271 - val_accuracy: 0.9600\n",
      "Epoch 27/100\n",
      "75/75 [==============================] - 0s 2ms/step - loss: 0.0996 - accuracy: 0.9733 - val_loss: 0.5545 - val_accuracy: 0.7867\n",
      "Epoch 28/100\n",
      "75/75 [==============================] - 0s 2ms/step - loss: 0.1034 - accuracy: 0.9733 - val_loss: 0.1338 - val_accuracy: 0.9467\n",
      "Epoch 29/100\n",
      "75/75 [==============================] - 0s 2ms/step - loss: 0.0765 - accuracy: 0.9867 - val_loss: 0.1289 - val_accuracy: 0.9333\n",
      "Epoch 30/100\n",
      "75/75 [==============================] - 0s 2ms/step - loss: 0.0791 - accuracy: 0.9733 - val_loss: 0.1568 - val_accuracy: 0.9067\n",
      "Epoch 31/100\n",
      "75/75 [==============================] - 0s 2ms/step - loss: 0.1807 - accuracy: 0.9067 - val_loss: 0.2018 - val_accuracy: 0.9067\n",
      "Epoch 32/100\n",
      "75/75 [==============================] - 0s 2ms/step - loss: 0.0607 - accuracy: 0.9867 - val_loss: 0.3083 - val_accuracy: 0.8533\n",
      "Epoch 33/100\n",
      "75/75 [==============================] - 0s 2ms/step - loss: 0.0926 - accuracy: 0.9600 - val_loss: 0.4449 - val_accuracy: 0.8400\n",
      "Epoch 34/100\n",
      "75/75 [==============================] - 0s 2ms/step - loss: 0.0585 - accuracy: 1.0000 - val_loss: 0.2208 - val_accuracy: 0.8933\n",
      "Epoch 35/100\n",
      "75/75 [==============================] - 0s 2ms/step - loss: 0.0573 - accuracy: 0.9867 - val_loss: 0.4020 - val_accuracy: 0.8533\n",
      "Epoch 36/100\n",
      "75/75 [==============================] - 0s 2ms/step - loss: 0.2630 - accuracy: 0.9067 - val_loss: 0.1719 - val_accuracy: 0.9467\n",
      "Epoch 37/100\n",
      "75/75 [==============================] - 0s 2ms/step - loss: 0.1768 - accuracy: 0.9600 - val_loss: 0.1537 - val_accuracy: 0.9467\n",
      "Epoch 38/100\n",
      "75/75 [==============================] - 0s 3ms/step - loss: 0.0832 - accuracy: 0.9867 - val_loss: 0.1390 - val_accuracy: 0.9200\n",
      "Epoch 39/100\n",
      "75/75 [==============================] - 0s 2ms/step - loss: 0.0641 - accuracy: 0.9867 - val_loss: 0.1280 - val_accuracy: 0.9600\n",
      "Epoch 40/100\n",
      "75/75 [==============================] - 0s 3ms/step - loss: 0.0900 - accuracy: 0.9600 - val_loss: 0.1072 - val_accuracy: 0.9600\n",
      "Epoch 41/100\n",
      "75/75 [==============================] - 0s 2ms/step - loss: 0.0774 - accuracy: 0.9733 - val_loss: 0.1043 - val_accuracy: 0.9733\n",
      "Epoch 42/100\n",
      "75/75 [==============================] - 0s 2ms/step - loss: 0.1000 - accuracy: 0.9600 - val_loss: 0.1619 - val_accuracy: 0.9467\n",
      "Epoch 43/100\n",
      "75/75 [==============================] - 0s 2ms/step - loss: 0.0878 - accuracy: 0.9733 - val_loss: 0.1010 - val_accuracy: 0.9733\n",
      "Epoch 44/100\n",
      "75/75 [==============================] - 0s 2ms/step - loss: 0.2433 - accuracy: 0.8800 - val_loss: 0.5688 - val_accuracy: 0.7733\n",
      "Epoch 45/100\n",
      "75/75 [==============================] - 0s 3ms/step - loss: 0.1699 - accuracy: 0.9067 - val_loss: 0.2086 - val_accuracy: 0.9067\n",
      "Epoch 46/100\n",
      "75/75 [==============================] - 0s 3ms/step - loss: 0.1216 - accuracy: 0.9467 - val_loss: 0.3084 - val_accuracy: 0.8533\n",
      "Epoch 47/100\n",
      "75/75 [==============================] - 0s 3ms/step - loss: 0.1071 - accuracy: 0.9333 - val_loss: 0.2546 - val_accuracy: 0.8933\n",
      "Epoch 48/100\n",
      "75/75 [==============================] - 0s 3ms/step - loss: 0.2263 - accuracy: 0.9200 - val_loss: 0.1329 - val_accuracy: 0.9600\n",
      "Epoch 49/100\n",
      "75/75 [==============================] - 0s 3ms/step - loss: 0.1142 - accuracy: 0.9200 - val_loss: 0.1669 - val_accuracy: 0.9067\n",
      "Epoch 50/100\n",
      "75/75 [==============================] - 0s 3ms/step - loss: 0.0562 - accuracy: 0.9867 - val_loss: 0.0999 - val_accuracy: 0.9600\n",
      "Epoch 51/100\n",
      "75/75 [==============================] - 0s 3ms/step - loss: 0.1882 - accuracy: 0.9067 - val_loss: 0.1157 - val_accuracy: 0.9600\n",
      "Epoch 52/100\n",
      "75/75 [==============================] - 0s 3ms/step - loss: 0.0789 - accuracy: 0.9733 - val_loss: 0.1120 - val_accuracy: 0.9600\n",
      "Epoch 53/100\n",
      "75/75 [==============================] - 0s 3ms/step - loss: 0.0949 - accuracy: 0.9733 - val_loss: 0.1803 - val_accuracy: 0.9467\n",
      "Epoch 54/100\n",
      "75/75 [==============================] - 0s 3ms/step - loss: 0.0803 - accuracy: 0.9600 - val_loss: 0.1076 - val_accuracy: 0.9600\n",
      "Epoch 55/100\n",
      "75/75 [==============================] - 0s 3ms/step - loss: 0.0490 - accuracy: 0.9867 - val_loss: 0.3210 - val_accuracy: 0.8933\n",
      "Epoch 56/100\n",
      "75/75 [==============================] - 0s 3ms/step - loss: 0.1228 - accuracy: 0.9467 - val_loss: 0.1056 - val_accuracy: 0.9733\n",
      "Epoch 57/100\n",
      "75/75 [==============================] - 0s 2ms/step - loss: 0.0642 - accuracy: 0.9733 - val_loss: 0.0966 - val_accuracy: 0.9733\n",
      "Epoch 58/100\n",
      "75/75 [==============================] - 0s 3ms/step - loss: 0.1963 - accuracy: 0.9333 - val_loss: 0.1129 - val_accuracy: 0.9733\n"
     ]
    },
    {
     "name": "stdout",
     "output_type": "stream",
     "text": [
      "Epoch 59/100\n",
      "75/75 [==============================] - 0s 2ms/step - loss: 0.1427 - accuracy: 0.9467 - val_loss: 0.1377 - val_accuracy: 0.9333\n",
      "Epoch 60/100\n",
      "75/75 [==============================] - 0s 2ms/step - loss: 0.0427 - accuracy: 0.9867 - val_loss: 0.1873 - val_accuracy: 0.9067\n",
      "Epoch 61/100\n",
      "75/75 [==============================] - 0s 2ms/step - loss: 0.0509 - accuracy: 0.9867 - val_loss: 0.1892 - val_accuracy: 0.9067\n",
      "Epoch 62/100\n",
      "75/75 [==============================] - 0s 2ms/step - loss: 0.1785 - accuracy: 0.9333 - val_loss: 0.1081 - val_accuracy: 0.9600\n",
      "Epoch 63/100\n",
      "75/75 [==============================] - 0s 2ms/step - loss: 0.0602 - accuracy: 0.9600 - val_loss: 0.2974 - val_accuracy: 0.8667\n",
      "Epoch 64/100\n",
      "75/75 [==============================] - 0s 2ms/step - loss: 0.1825 - accuracy: 0.9467 - val_loss: 0.1285 - val_accuracy: 0.9600\n",
      "Epoch 65/100\n",
      "75/75 [==============================] - 0s 2ms/step - loss: 0.1479 - accuracy: 0.9200 - val_loss: 0.3908 - val_accuracy: 0.8667\n",
      "Epoch 66/100\n",
      "75/75 [==============================] - 0s 2ms/step - loss: 0.0643 - accuracy: 0.9867 - val_loss: 0.2866 - val_accuracy: 0.8800\n",
      "Epoch 67/100\n",
      "75/75 [==============================] - 0s 2ms/step - loss: 0.0713 - accuracy: 0.9467 - val_loss: 0.0989 - val_accuracy: 0.9600\n",
      "Epoch 68/100\n",
      "75/75 [==============================] - 0s 2ms/step - loss: 0.0462 - accuracy: 0.9867 - val_loss: 0.1015 - val_accuracy: 0.9733\n",
      "Epoch 69/100\n",
      "75/75 [==============================] - 0s 2ms/step - loss: 0.1157 - accuracy: 0.9467 - val_loss: 0.3274 - val_accuracy: 0.8933\n",
      "Epoch 70/100\n",
      "75/75 [==============================] - 0s 2ms/step - loss: 0.0643 - accuracy: 0.9867 - val_loss: 0.1071 - val_accuracy: 0.9600\n",
      "Epoch 71/100\n",
      "75/75 [==============================] - 0s 2ms/step - loss: 0.1645 - accuracy: 0.9467 - val_loss: 0.3714 - val_accuracy: 0.8800\n",
      "Epoch 72/100\n",
      "75/75 [==============================] - 0s 2ms/step - loss: 0.2802 - accuracy: 0.8800 - val_loss: 0.3531 - val_accuracy: 0.8267\n",
      "Epoch 73/100\n",
      "75/75 [==============================] - 0s 2ms/step - loss: 0.1734 - accuracy: 0.9200 - val_loss: 0.1064 - val_accuracy: 0.9600\n",
      "Epoch 74/100\n",
      "75/75 [==============================] - 0s 2ms/step - loss: 0.0626 - accuracy: 0.9867 - val_loss: 0.1037 - val_accuracy: 0.9733\n",
      "Epoch 75/100\n",
      "75/75 [==============================] - 0s 2ms/step - loss: 0.2212 - accuracy: 0.9200 - val_loss: 0.1751 - val_accuracy: 0.9200\n",
      "Epoch 76/100\n",
      "75/75 [==============================] - 0s 2ms/step - loss: 0.1439 - accuracy: 0.9333 - val_loss: 0.1587 - val_accuracy: 0.9333\n",
      "Epoch 77/100\n",
      "75/75 [==============================] - 0s 2ms/step - loss: 0.0869 - accuracy: 0.9733 - val_loss: 0.1060 - val_accuracy: 0.9600\n",
      "Epoch 78/100\n",
      "75/75 [==============================] - 0s 2ms/step - loss: 0.1188 - accuracy: 0.9600 - val_loss: 0.1063 - val_accuracy: 0.9733\n",
      "Epoch 79/100\n",
      "75/75 [==============================] - 0s 2ms/step - loss: 0.2419 - accuracy: 0.8933 - val_loss: 0.2504 - val_accuracy: 0.8667\n",
      "Epoch 80/100\n",
      "75/75 [==============================] - 0s 2ms/step - loss: 0.1313 - accuracy: 0.9333 - val_loss: 0.1822 - val_accuracy: 0.9067\n",
      "Epoch 81/100\n",
      "75/75 [==============================] - 0s 2ms/step - loss: 0.1909 - accuracy: 0.9200 - val_loss: 0.1261 - val_accuracy: 0.9467\n",
      "Epoch 82/100\n",
      "75/75 [==============================] - 0s 2ms/step - loss: 0.0960 - accuracy: 0.9600 - val_loss: 0.1859 - val_accuracy: 0.9067\n",
      "Epoch 83/100\n",
      "75/75 [==============================] - 0s 2ms/step - loss: 0.0456 - accuracy: 1.0000 - val_loss: 0.1239 - val_accuracy: 0.9333\n",
      "Epoch 84/100\n",
      "75/75 [==============================] - 0s 3ms/step - loss: 0.0443 - accuracy: 0.9867 - val_loss: 0.1206 - val_accuracy: 0.9333\n",
      "Epoch 85/100\n",
      "75/75 [==============================] - 0s 2ms/step - loss: 0.0685 - accuracy: 0.9600 - val_loss: 0.1008 - val_accuracy: 0.9733\n",
      "Epoch 86/100\n",
      "75/75 [==============================] - 0s 2ms/step - loss: 0.1851 - accuracy: 0.9200 - val_loss: 0.1374 - val_accuracy: 0.9200\n",
      "Epoch 87/100\n",
      "75/75 [==============================] - 0s 2ms/step - loss: 0.0955 - accuracy: 0.9600 - val_loss: 0.1082 - val_accuracy: 0.9600\n",
      "Epoch 88/100\n",
      "75/75 [==============================] - 0s 2ms/step - loss: 0.0805 - accuracy: 0.9867 - val_loss: 0.2001 - val_accuracy: 0.9067\n",
      "Epoch 89/100\n",
      "75/75 [==============================] - 0s 2ms/step - loss: 0.0845 - accuracy: 0.9467 - val_loss: 0.1448 - val_accuracy: 0.9333\n",
      "Epoch 90/100\n",
      "75/75 [==============================] - 0s 2ms/step - loss: 0.0542 - accuracy: 0.9867 - val_loss: 0.5035 - val_accuracy: 0.8533\n",
      "Epoch 91/100\n",
      "75/75 [==============================] - 0s 2ms/step - loss: 0.1189 - accuracy: 0.9467 - val_loss: 0.1793 - val_accuracy: 0.9067\n",
      "Epoch 92/100\n",
      "75/75 [==============================] - 0s 2ms/step - loss: 0.1930 - accuracy: 0.9200 - val_loss: 0.1038 - val_accuracy: 0.9600\n",
      "Epoch 93/100\n",
      "75/75 [==============================] - 0s 2ms/step - loss: 0.1459 - accuracy: 0.9333 - val_loss: 0.1058 - val_accuracy: 0.9600\n",
      "Epoch 94/100\n",
      "75/75 [==============================] - 0s 2ms/step - loss: 0.0854 - accuracy: 0.9600 - val_loss: 0.1027 - val_accuracy: 0.9600\n",
      "Epoch 95/100\n",
      "75/75 [==============================] - 0s 2ms/step - loss: 0.0593 - accuracy: 0.9867 - val_loss: 0.1509 - val_accuracy: 0.9467\n",
      "Epoch 96/100\n",
      "75/75 [==============================] - 0s 2ms/step - loss: 0.0739 - accuracy: 0.9600 - val_loss: 0.2608 - val_accuracy: 0.8800\n",
      "Epoch 97/100\n",
      "75/75 [==============================] - 0s 2ms/step - loss: 0.0907 - accuracy: 0.9600 - val_loss: 0.1299 - val_accuracy: 0.9467\n",
      "Epoch 98/100\n",
      "75/75 [==============================] - 0s 2ms/step - loss: 0.0337 - accuracy: 1.0000 - val_loss: 0.3137 - val_accuracy: 0.8800\n",
      "Epoch 99/100\n",
      "75/75 [==============================] - 0s 2ms/step - loss: 0.1602 - accuracy: 0.9600 - val_loss: 0.1007 - val_accuracy: 0.9733\n",
      "Epoch 100/100\n",
      "75/75 [==============================] - 0s 2ms/step - loss: 0.0482 - accuracy: 0.9733 - val_loss: 0.3192 - val_accuracy: 0.8667\n"
     ]
    }
   ],
   "source": [
    "# assisted by ChatGPT\n",
    "inputs = Input(shape=(4,))\n",
    "layer = Dense(12, activation='sigmoid')(inputs)\n",
    "outputs = Dense(3, activation='softmax')(layer)\n",
    "\n",
    "sgd = SGD(learning_rate=0.01, momentum=0.9)\n",
    "\n",
    "model_sgd = Model(inputs=inputs, outputs=outputs, name=\"simple_iris_model_sgd\")\n",
    "model_sgd.compile(optimizer=sgd, loss='categorical_crossentropy', metrics=['accuracy'])\n",
    "\n",
    "# creating the history for the new model\n",
    "history_sgd = model_sgd.fit(\n",
    "    X_train, y_train_bin,\n",
    "    epochs = 100,\n",
    "    batch_size = 1,\n",
    "    verbose = 1,\n",
    "    validation_data = (X_test, y_test_bin)\n",
    ")"
   ]
  },
  {
   "cell_type": "code",
   "execution_count": 74,
   "id": "be041669",
   "metadata": {},
   "outputs": [
    {
     "name": "stdout",
     "output_type": "stream",
     "text": [
      "dict_keys(['loss', 'accuracy', 'val_loss', 'val_accuracy'])\n"
     ]
    },
    {
     "data": {
      "image/png": "[encoded data removed]",
      "text/plain": [
       "<Figure size 640x480 with 1 Axes>"
      ]
     },
     "metadata": {},
     "output_type": "display_data"
    },
    {
     "data": {
      "image/png": "[encoded data removed]",
      "text/plain": [
       "<Figure size 640x480 with 1 Axes>"
      ]
     },
     "metadata": {},
     "output_type": "display_data"
    }
   ],
   "source": [
    "# creating visualizations for the new model\n",
    "print(history_sgd.history.keys())\n",
    "\n",
    "# summarize history for accuracy\n",
    "plt.plot(history_sgd.history['accuracy'])\n",
    "plt.plot(history_sgd.history['val_accuracy'])\n",
    "plt.title('model accuracy')\n",
    "plt.ylabel('accuracy')\n",
    "plt.xlabel('epoch')\n",
    "plt.legend(['train', 'test'], loc='upper left')\n",
    "plt.show()\n",
    "\n",
    "# summarize history for loss\n",
    "plt.plot(history_sgd.history['loss'])\n",
    "plt.plot(history_sgd.history['val_loss'])\n",
    "plt.title('model loss')\n",
    "plt.ylabel('loss')\n",
    "plt.xlabel('epoch')\n",
    "plt.legend(['train', 'test'], loc='upper left')\n",
    "plt.show()"
   ]
  },
  {
   "cell_type": "markdown",
   "id": "791b039f",
   "metadata": {},
   "source": [
    "The model accuracy and model loss plots of the sgd optimization model were much better and more consistent compared to that of the original model that we had generated. But, the relu optimized model seems to be the most consistent and best fitting model."
   ]
  },
  {
   "cell_type": "markdown",
   "id": "35d406fa",
   "metadata": {},
   "source": [
    "**17) Use your model to predict the classes for the test data (using the function predict on the model object itself) and store the results as y_pred.**"
   ]
  },
  {
   "cell_type": "code",
   "execution_count": 100,
   "id": "fae1a524",
   "metadata": {},
   "outputs": [
    {
     "name": "stdout",
     "output_type": "stream",
     "text": [
      "3/3 [==============================] - 0s 997us/step\n"
     ]
    }
   ],
   "source": [
    "y_pred = model_sgd.predict(X_test)"
   ]
  },
  {
   "cell_type": "markdown",
   "id": "1d0eda10",
   "metadata": {},
   "source": [
    "**18) Notice the structure of y_pred. Remember, softmax generates probabilistic output. So, turn this into a new variable called y_pred_class that predicts the actual class label.**"
   ]
  },
  {
   "cell_type": "code",
   "execution_count": 101,
   "id": "8eff8d03",
   "metadata": {},
   "outputs": [],
   "source": [
    "y_pred_class = np.argmax(y_pred, axis=1)"
   ]
  },
  {
   "cell_type": "markdown",
   "id": "b2b424ac",
   "metadata": {},
   "source": [
    "**19) Finally, using your code from the lab on classification, output the confusion_matrix and the classification_report (from scikit-learn's metric package) to print out the complete performance results.**"
   ]
  },
  {
   "cell_type": "code",
   "execution_count": 114,
   "id": "97c207a3",
   "metadata": {},
   "outputs": [
    {
     "data": {
      "text/plain": [
       "Text(0, 0.5, 'True Label')"
      ]
     },
     "execution_count": 114,
     "metadata": {},
     "output_type": "execute_result"
    },
    {
     "data": {
      "image/png": "[encoded data removed]",
      "text/plain": [
       "<Figure size 640x480 with 2 Axes>"
      ]
     },
     "metadata": {},
     "output_type": "display_data"
    }
   ],
   "source": [
    "# convert string labels to integers\n",
    "le = LabelEncoder()\n",
    "y_test_num = le.fit_transform(y_test)\n",
    "\n",
    "# compute confusion matrix and classification report\n",
    "cm = confusion_matrix(y_test_num, y_pred_class)\n",
    "\n",
    "cm_disp = ConfusionMatrixDisplay(cm, display_labels=y.unique())\n",
    "cm_disp.plot()\n",
    "plt.title('Confusion Matrix')\n",
    "plt.xlabel('Predicted Label')\n",
    "plt.ylabel('True Label')"
   ]
  },
  {
   "cell_type": "code",
   "execution_count": 115,
   "id": "db405838",
   "metadata": {},
   "outputs": [
    {
     "name": "stdout",
     "output_type": "stream",
     "text": [
      "Classification Report:\n",
      "              precision    recall  f1-score   support\n",
      "\n",
      "           0       1.00      1.00      1.00        23\n",
      "           1       1.00      0.55      0.71        22\n",
      "           2       0.75      1.00      0.86        30\n",
      "\n",
      "    accuracy                           0.87        75\n",
      "   macro avg       0.92      0.85      0.85        75\n",
      "weighted avg       0.90      0.87      0.86        75\n",
      "\n"
     ]
    }
   ],
   "source": [
    "cr = classification_report(y_test_num, y_pred_class)\n",
    "print(\"Classification Report:\")\n",
    "print(cr)"
   ]
  },
  {
   "cell_type": "markdown",
   "id": "725b5c75",
   "metadata": {},
   "source": [
    "### Exercise 3\t– Wrapping\tkeras in the scikit-learn framework."
   ]
  },
  {
   "cell_type": "markdown",
   "id": "aded177d",
   "metadata": {},
   "source": [
    "**20) Import the following class into your code. Then write a function called create_keras_model(). Copy all of your code that creates the Model instance and adds the layers into this function.**"
   ]
  },
  {
   "cell_type": "code",
   "execution_count": 116,
   "id": "44db38c0",
   "metadata": {},
   "outputs": [],
   "source": [
    "from scikeras.wrappers import KerasClassifier"
   ]
  },
  {
   "cell_type": "code",
   "execution_count": 117,
   "id": "974b0402",
   "metadata": {},
   "outputs": [],
   "source": [
    "def create_keras_model():\n",
    "    inputs = Input(shape=(4,))\n",
    "    layer = Dense(12, activation='sigmoid')(inputs)\n",
    "    outputs = Dense(3,activation=\"softmax\")(layer)\n",
    "    model = Model(inputs=inputs,\n",
    "        outputs=outputs,\n",
    "        name=\"simple_iris_model_3\")\n",
    "    return model\n",
    "\n",
    "# Create a instance of our optimizer\n",
    "sgd = SGD(learning_rate=0.02,momentum=0.6)\n",
    "\n",
    "# Create a wrapped keras model\n",
    "clf = KerasClassifier(model=create_keras_model,\n",
    "                      optimizer=sgd,\n",
    "                      loss=\"categorical_crossentropy\",\n",
    "                      metrics=[\"accuracy\"],\n",
    "                      verbose=1, epochs=100, batch_size=1)"
   ]
  },
  {
   "cell_type": "markdown",
   "id": "317c1332",
   "metadata": {},
   "source": [
    "**21) So, using the clf classifier above, use it just like you would any other classifier. Run the fit method on your\n",
    "classifier. Use X_train and the one hot encoded y_train data. Finally, use clf.predict() to generate class predictions on X_test. Store the results in y_pred just like you would with scikit-learn.**"
   ]
  },
  {
   "cell_type": "code",
   "execution_count": 118,
   "id": "5dad5cfd",
   "metadata": {},
   "outputs": [
    {
     "name": "stdout",
     "output_type": "stream",
     "text": [
      "Epoch 1/100\n",
      "75/75 [==============================] - 0s 885us/step - loss: 1.1875 - accuracy: 0.2000\n",
      "Epoch 2/100\n",
      "75/75 [==============================] - 0s 865us/step - loss: 0.9619 - accuracy: 0.5733\n",
      "Epoch 3/100\n",
      "75/75 [==============================] - 0s 899us/step - loss: 0.7636 - accuracy: 0.6667\n",
      "Epoch 4/100\n",
      "75/75 [==============================] - 0s 912us/step - loss: 0.6021 - accuracy: 0.7733\n",
      "Epoch 5/100\n",
      "75/75 [==============================] - 0s 973us/step - loss: 0.5456 - accuracy: 0.7600\n",
      "Epoch 6/100\n",
      "75/75 [==============================] - 0s 959us/step - loss: 0.4916 - accuracy: 0.7333\n",
      "Epoch 7/100\n",
      "75/75 [==============================] - 0s 1ms/step - loss: 0.4665 - accuracy: 0.8000\n",
      "Epoch 8/100\n",
      "75/75 [==============================] - 0s 953us/step - loss: 0.4254 - accuracy: 0.8133\n",
      "Epoch 9/100\n",
      "75/75 [==============================] - 0s 892us/step - loss: 0.4185 - accuracy: 0.8267\n",
      "Epoch 10/100\n",
      "75/75 [==============================] - 0s 892us/step - loss: 0.4057 - accuracy: 0.8533\n",
      "Epoch 11/100\n",
      "75/75 [==============================] - 0s 877us/step - loss: 0.3310 - accuracy: 0.8800\n",
      "Epoch 12/100\n",
      "75/75 [==============================] - 0s 926us/step - loss: 0.3586 - accuracy: 0.8800\n",
      "Epoch 13/100\n",
      "75/75 [==============================] - 0s 932us/step - loss: 0.3351 - accuracy: 0.9200\n",
      "Epoch 14/100\n",
      "75/75 [==============================] - 0s 961us/step - loss: 0.3272 - accuracy: 0.9067\n",
      "Epoch 15/100\n",
      "75/75 [==============================] - 0s 926us/step - loss: 0.2924 - accuracy: 0.9200\n",
      "Epoch 16/100\n",
      "75/75 [==============================] - 0s 878us/step - loss: 0.2944 - accuracy: 0.9067\n",
      "Epoch 17/100\n",
      "75/75 [==============================] - 0s 986us/step - loss: 0.2634 - accuracy: 0.9333\n",
      "Epoch 18/100\n",
      "75/75 [==============================] - 0s 899us/step - loss: 0.2623 - accuracy: 0.9467\n",
      "Epoch 19/100\n",
      "75/75 [==============================] - 0s 926us/step - loss: 0.2565 - accuracy: 0.9067\n",
      "Epoch 20/100\n",
      "75/75 [==============================] - 0s 1ms/step - loss: 0.2201 - accuracy: 0.9733\n",
      "Epoch 21/100\n",
      "75/75 [==============================] - 0s 1ms/step - loss: 0.2310 - accuracy: 0.9467\n",
      "Epoch 22/100\n",
      "75/75 [==============================] - 0s 912us/step - loss: 0.2190 - accuracy: 0.9333\n",
      "Epoch 23/100\n",
      "75/75 [==============================] - 0s 885us/step - loss: 0.2184 - accuracy: 0.9467\n",
      "Epoch 24/100\n",
      "75/75 [==============================] - 0s 892us/step - loss: 0.1988 - accuracy: 0.9600\n",
      "Epoch 25/100\n",
      "75/75 [==============================] - 0s 903us/step - loss: 0.1930 - accuracy: 0.9600\n",
      "Epoch 26/100\n",
      "75/75 [==============================] - 0s 926us/step - loss: 0.2096 - accuracy: 0.9200\n",
      "Epoch 27/100\n",
      "75/75 [==============================] - 0s 926us/step - loss: 0.1778 - accuracy: 0.9467\n",
      "Epoch 28/100\n",
      "75/75 [==============================] - 0s 932us/step - loss: 0.1819 - accuracy: 0.9200\n",
      "Epoch 29/100\n",
      "75/75 [==============================] - 0s 872us/step - loss: 0.1699 - accuracy: 0.9333\n",
      "Epoch 30/100\n",
      "75/75 [==============================] - 0s 899us/step - loss: 0.1527 - accuracy: 0.9600\n",
      "Epoch 31/100\n",
      "75/75 [==============================] - 0s 892us/step - loss: 0.1800 - accuracy: 0.9333\n",
      "Epoch 32/100\n",
      "75/75 [==============================] - 0s 899us/step - loss: 0.1561 - accuracy: 0.9467\n",
      "Epoch 33/100\n",
      "75/75 [==============================] - 0s 939us/step - loss: 0.1688 - accuracy: 0.9467\n",
      "Epoch 34/100\n",
      "75/75 [==============================] - 0s 1ms/step - loss: 0.1623 - accuracy: 0.9467\n",
      "Epoch 35/100\n",
      "75/75 [==============================] - 0s 1ms/step - loss: 0.1191 - accuracy: 0.9733\n",
      "Epoch 36/100\n",
      "75/75 [==============================] - 0s 987us/step - loss: 0.1568 - accuracy: 0.9467\n",
      "Epoch 37/100\n",
      "75/75 [==============================] - 0s 1ms/step - loss: 0.1488 - accuracy: 0.9600\n",
      "Epoch 38/100\n",
      "75/75 [==============================] - 0s 1ms/step - loss: 0.1597 - accuracy: 0.9333\n",
      "Epoch 39/100\n",
      "75/75 [==============================] - 0s 1ms/step - loss: 0.1452 - accuracy: 0.9467\n",
      "Epoch 40/100\n",
      "75/75 [==============================] - 0s 1ms/step - loss: 0.1394 - accuracy: 0.9467\n",
      "Epoch 41/100\n",
      "75/75 [==============================] - 0s 1ms/step - loss: 0.1638 - accuracy: 0.8933\n",
      "Epoch 42/100\n",
      "75/75 [==============================] - 0s 993us/step - loss: 0.1101 - accuracy: 0.9733\n",
      "Epoch 43/100\n",
      "75/75 [==============================] - 0s 994us/step - loss: 0.1432 - accuracy: 0.9467\n",
      "Epoch 44/100\n",
      "75/75 [==============================] - 0s 1ms/step - loss: 0.1449 - accuracy: 0.9467\n",
      "Epoch 45/100\n",
      "75/75 [==============================] - 0s 994us/step - loss: 0.0924 - accuracy: 0.9867\n",
      "Epoch 46/100\n",
      "75/75 [==============================] - 0s 986us/step - loss: 0.1490 - accuracy: 0.9333\n",
      "Epoch 47/100\n",
      "75/75 [==============================] - 0s 980us/step - loss: 0.1271 - accuracy: 0.9600\n",
      "Epoch 48/100\n",
      "75/75 [==============================] - 0s 1ms/step - loss: 0.1409 - accuracy: 0.9333\n",
      "Epoch 49/100\n",
      "75/75 [==============================] - 0s 993us/step - loss: 0.1347 - accuracy: 0.9333\n",
      "Epoch 50/100\n",
      "75/75 [==============================] - 0s 1ms/step - loss: 0.1035 - accuracy: 0.9733\n",
      "Epoch 51/100\n",
      "75/75 [==============================] - 0s 1ms/step - loss: 0.1200 - accuracy: 0.9600\n",
      "Epoch 52/100\n",
      "75/75 [==============================] - 0s 1ms/step - loss: 0.0861 - accuracy: 0.9600\n",
      "Epoch 53/100\n",
      "75/75 [==============================] - 0s 1ms/step - loss: 0.1260 - accuracy: 0.9600\n",
      "Epoch 54/100\n",
      "75/75 [==============================] - 0s 1ms/step - loss: 0.0792 - accuracy: 0.9733\n",
      "Epoch 55/100\n",
      "75/75 [==============================] - 0s 1ms/step - loss: 0.1024 - accuracy: 0.9600\n",
      "Epoch 56/100\n",
      "75/75 [==============================] - 0s 1ms/step - loss: 0.0704 - accuracy: 0.9867\n",
      "Epoch 57/100\n",
      "75/75 [==============================] - 0s 1ms/step - loss: 0.0915 - accuracy: 0.9600\n",
      "Epoch 58/100\n",
      "75/75 [==============================] - 0s 1ms/step - loss: 0.0824 - accuracy: 0.9733\n",
      "Epoch 59/100\n",
      "75/75 [==============================] - 0s 1ms/step - loss: 0.1081 - accuracy: 0.9733\n",
      "Epoch 60/100\n",
      "75/75 [==============================] - 0s 1ms/step - loss: 0.1374 - accuracy: 0.9467\n",
      "Epoch 61/100\n",
      "75/75 [==============================] - 0s 1ms/step - loss: 0.1453 - accuracy: 0.9200\n",
      "Epoch 62/100\n",
      "75/75 [==============================] - 0s 1ms/step - loss: 0.1269 - accuracy: 0.9600\n",
      "Epoch 63/100\n",
      "75/75 [==============================] - 0s 1ms/step - loss: 0.1488 - accuracy: 0.9333\n",
      "Epoch 64/100\n",
      "75/75 [==============================] - 0s 1ms/step - loss: 0.1187 - accuracy: 0.9600\n",
      "Epoch 65/100\n",
      "75/75 [==============================] - 0s 1ms/step - loss: 0.1221 - accuracy: 0.9467\n",
      "Epoch 66/100\n",
      "75/75 [==============================] - 0s 1ms/step - loss: 0.1144 - accuracy: 0.9333\n",
      "Epoch 67/100\n",
      "75/75 [==============================] - 0s 1ms/step - loss: 0.1045 - accuracy: 0.9467\n",
      "Epoch 68/100\n",
      "75/75 [==============================] - 0s 1ms/step - loss: 0.1703 - accuracy: 0.9333\n",
      "Epoch 69/100\n",
      "75/75 [==============================] - 0s 1ms/step - loss: 0.0727 - accuracy: 0.9867\n",
      "Epoch 70/100\n",
      "75/75 [==============================] - 0s 1ms/step - loss: 0.1317 - accuracy: 0.9600\n",
      "Epoch 71/100\n",
      "75/75 [==============================] - 0s 1ms/step - loss: 0.1188 - accuracy: 0.9467\n",
      "Epoch 72/100\n",
      "75/75 [==============================] - 0s 1ms/step - loss: 0.0776 - accuracy: 0.9867\n",
      "Epoch 73/100\n",
      "75/75 [==============================] - 0s 1ms/step - loss: 0.1255 - accuracy: 0.9467\n",
      "Epoch 74/100\n",
      "75/75 [==============================] - 0s 1ms/step - loss: 0.0677 - accuracy: 0.9867\n",
      "Epoch 75/100\n",
      "75/75 [==============================] - 0s 1ms/step - loss: 0.1409 - accuracy: 0.9333\n",
      "Epoch 76/100\n",
      "75/75 [==============================] - 0s 1ms/step - loss: 0.0894 - accuracy: 0.9733\n",
      "Epoch 77/100\n",
      "75/75 [==============================] - 0s 1ms/step - loss: 0.0716 - accuracy: 0.9733\n",
      "Epoch 78/100\n",
      "75/75 [==============================] - 0s 1ms/step - loss: 0.0616 - accuracy: 0.9867\n",
      "Epoch 79/100\n",
      "75/75 [==============================] - 0s 1ms/step - loss: 0.0621 - accuracy: 0.9867\n",
      "Epoch 80/100\n",
      "75/75 [==============================] - 0s 1ms/step - loss: 0.1117 - accuracy: 0.9600\n",
      "Epoch 81/100\n",
      "75/75 [==============================] - 0s 1ms/step - loss: 0.0938 - accuracy: 0.9467\n",
      "Epoch 82/100\n"
     ]
    },
    {
     "name": "stdout",
     "output_type": "stream",
     "text": [
      "75/75 [==============================] - 0s 1ms/step - loss: 0.1344 - accuracy: 0.9333\n",
      "Epoch 83/100\n",
      "75/75 [==============================] - 0s 1ms/step - loss: 0.0709 - accuracy: 0.9733\n",
      "Epoch 84/100\n",
      "75/75 [==============================] - 0s 1ms/step - loss: 0.1542 - accuracy: 0.9200\n",
      "Epoch 85/100\n",
      "75/75 [==============================] - 0s 1ms/step - loss: 0.0603 - accuracy: 0.9867\n",
      "Epoch 86/100\n",
      "75/75 [==============================] - 0s 1ms/step - loss: 0.1627 - accuracy: 0.9467\n",
      "Epoch 87/100\n",
      "75/75 [==============================] - 0s 1ms/step - loss: 0.0675 - accuracy: 0.9867\n",
      "Epoch 88/100\n",
      "75/75 [==============================] - 0s 924us/step - loss: 0.1037 - accuracy: 0.9467\n",
      "Epoch 89/100\n",
      "75/75 [==============================] - 0s 1ms/step - loss: 0.1022 - accuracy: 0.9467\n",
      "Epoch 90/100\n",
      "75/75 [==============================] - 0s 1ms/step - loss: 0.0540 - accuracy: 0.9867\n",
      "Epoch 91/100\n",
      "75/75 [==============================] - 0s 1ms/step - loss: 0.1046 - accuracy: 0.9467\n",
      "Epoch 92/100\n",
      "75/75 [==============================] - 0s 1ms/step - loss: 0.0890 - accuracy: 0.9467\n",
      "Epoch 93/100\n",
      "75/75 [==============================] - 0s 1ms/step - loss: 0.1050 - accuracy: 0.9333\n",
      "Epoch 94/100\n",
      "75/75 [==============================] - 0s 1ms/step - loss: 0.0703 - accuracy: 0.9600\n",
      "Epoch 95/100\n",
      "75/75 [==============================] - 0s 1ms/step - loss: 0.0520 - accuracy: 0.9867\n",
      "Epoch 96/100\n",
      "75/75 [==============================] - 0s 1ms/step - loss: 0.0741 - accuracy: 0.9600\n",
      "Epoch 97/100\n",
      "75/75 [==============================] - 0s 1ms/step - loss: 0.0946 - accuracy: 0.9600\n",
      "Epoch 98/100\n",
      "75/75 [==============================] - 0s 1ms/step - loss: 0.0679 - accuracy: 0.9733\n",
      "Epoch 99/100\n",
      "75/75 [==============================] - 0s 1ms/step - loss: 0.0986 - accuracy: 0.9600\n",
      "Epoch 100/100\n",
      "75/75 [==============================] - 0s 1ms/step - loss: 0.1323 - accuracy: 0.9467\n"
     ]
    },
    {
     "data": {
      "text/html": [
       "<style>#sk-container-id-1 {color: black;background-color: white;}#sk-container-id-1 pre{padding: 0;}#sk-container-id-1 div.sk-toggleable {background-color: white;}#sk-container-id-1 label.sk-toggleable__label {cursor: pointer;display: block;width: 100%;margin-bottom: 0;padding: 0.3em;box-sizing: border-box;text-align: center;}#sk-container-id-1 label.sk-toggleable__label-arrow:before {content: \"▸\";float: left;margin-right: 0.25em;color: #696969;}#sk-container-id-1 label.sk-toggleable__label-arrow:hover:before {color: black;}#sk-container-id-1 div.sk-estimator:hover label.sk-toggleable__label-arrow:before {color: black;}#sk-container-id-1 div.sk-toggleable__content {max-height: 0;max-width: 0;overflow: hidden;text-align: left;background-color: #f0f8ff;}#sk-container-id-1 div.sk-toggleable__content pre {margin: 0.2em;color: black;border-radius: 0.25em;background-color: #f0f8ff;}#sk-container-id-1 input.sk-toggleable__control:checked~div.sk-toggleable__content {max-height: 200px;max-width: 100%;overflow: auto;}#sk-container-id-1 input.sk-toggleable__control:checked~label.sk-toggleable__label-arrow:before {content: \"▾\";}#sk-container-id-1 div.sk-estimator input.sk-toggleable__control:checked~label.sk-toggleable__label {background-color: #d4ebff;}#sk-container-id-1 div.sk-label input.sk-toggleable__control:checked~label.sk-toggleable__label {background-color: #d4ebff;}#sk-container-id-1 input.sk-hidden--visually {border: 0;clip: rect(1px 1px 1px 1px);clip: rect(1px, 1px, 1px, 1px);height: 1px;margin: -1px;overflow: hidden;padding: 0;position: absolute;width: 1px;}#sk-container-id-1 div.sk-estimator {font-family: monospace;background-color: #f0f8ff;border: 1px dotted black;border-radius: 0.25em;box-sizing: border-box;margin-bottom: 0.5em;}#sk-container-id-1 div.sk-estimator:hover {background-color: #d4ebff;}#sk-container-id-1 div.sk-parallel-item::after {content: \"\";width: 100%;border-bottom: 1px solid gray;flex-grow: 1;}#sk-container-id-1 div.sk-label:hover label.sk-toggleable__label {background-color: #d4ebff;}#sk-container-id-1 div.sk-serial::before {content: \"\";position: absolute;border-left: 1px solid gray;box-sizing: border-box;top: 0;bottom: 0;left: 50%;z-index: 0;}#sk-container-id-1 div.sk-serial {display: flex;flex-direction: column;align-items: center;background-color: white;padding-right: 0.2em;padding-left: 0.2em;position: relative;}#sk-container-id-1 div.sk-item {position: relative;z-index: 1;}#sk-container-id-1 div.sk-parallel {display: flex;align-items: stretch;justify-content: center;background-color: white;position: relative;}#sk-container-id-1 div.sk-item::before, #sk-container-id-1 div.sk-parallel-item::before {content: \"\";position: absolute;border-left: 1px solid gray;box-sizing: border-box;top: 0;bottom: 0;left: 50%;z-index: -1;}#sk-container-id-1 div.sk-parallel-item {display: flex;flex-direction: column;z-index: 1;position: relative;background-color: white;}#sk-container-id-1 div.sk-parallel-item:first-child::after {align-self: flex-end;width: 50%;}#sk-container-id-1 div.sk-parallel-item:last-child::after {align-self: flex-start;width: 50%;}#sk-container-id-1 div.sk-parallel-item:only-child::after {width: 0;}#sk-container-id-1 div.sk-dashed-wrapped {border: 1px dashed gray;margin: 0 0.4em 0.5em 0.4em;box-sizing: border-box;padding-bottom: 0.4em;background-color: white;}#sk-container-id-1 div.sk-label label {font-family: monospace;font-weight: bold;display: inline-block;line-height: 1.2em;}#sk-container-id-1 div.sk-label-container {text-align: center;}#sk-container-id-1 div.sk-container {/* jupyter's `normalize.less` sets `[hidden] { display: none; }` but bootstrap.min.css set `[hidden] { display: none !important; }` so we also need the `!important` here to be able to override the default hidden behavior on the sphinx rendered scikit-learn.org. See: https://github.com/scikit-learn/scikit-learn/issues/21755 */display: inline-block !important;position: relative;}#sk-container-id-1 div.sk-text-repr-fallback {display: none;}</style><div id=\"sk-container-id-1\" class=\"sk-top-container\"><div class=\"sk-text-repr-fallback\"><pre>KerasClassifier(\n",
       "\tmodel=&lt;function create_keras_model at 0x000001AEACFB65E0&gt;\n",
       "\tbuild_fn=None\n",
       "\twarm_start=False\n",
       "\trandom_state=None\n",
       "\toptimizer=&lt;keras.optimizers.optimizer_v2.gradient_descent.SGD object at 0x000001AEAD22E280&gt;\n",
       "\tloss=categorical_crossentropy\n",
       "\tmetrics=[&#x27;accuracy&#x27;]\n",
       "\tbatch_size=1\n",
       "\tvalidation_batch_size=None\n",
       "\tverbose=1\n",
       "\tcallbacks=None\n",
       "\tvalidation_split=0.0\n",
       "\tshuffle=True\n",
       "\trun_eagerly=False\n",
       "\tepochs=100\n",
       "\tclass_weight=None\n",
       ")</pre><b>In a Jupyter environment, please rerun this cell to show the HTML representation or trust the notebook. <br />On GitHub, the HTML representation is unable to render, please try loading this page with nbviewer.org.</b></div><div class=\"sk-container\" hidden><div class=\"sk-item\"><div class=\"sk-estimator sk-toggleable\"><input class=\"sk-toggleable__control sk-hidden--visually\" id=\"sk-estimator-id-1\" type=\"checkbox\" checked><label for=\"sk-estimator-id-1\" class=\"sk-toggleable__label sk-toggleable__label-arrow\">KerasClassifier</label><div class=\"sk-toggleable__content\"><pre>KerasClassifier(\n",
       "\tmodel=&lt;function create_keras_model at 0x000001AEACFB65E0&gt;\n",
       "\tbuild_fn=None\n",
       "\twarm_start=False\n",
       "\trandom_state=None\n",
       "\toptimizer=&lt;keras.optimizers.optimizer_v2.gradient_descent.SGD object at 0x000001AEAD22E280&gt;\n",
       "\tloss=categorical_crossentropy\n",
       "\tmetrics=[&#x27;accuracy&#x27;]\n",
       "\tbatch_size=1\n",
       "\tvalidation_batch_size=None\n",
       "\tverbose=1\n",
       "\tcallbacks=None\n",
       "\tvalidation_split=0.0\n",
       "\tshuffle=True\n",
       "\trun_eagerly=False\n",
       "\tepochs=100\n",
       "\tclass_weight=None\n",
       ")</pre></div></div></div></div></div>"
      ],
      "text/plain": [
       "KerasClassifier(\n",
       "\tmodel=<function create_keras_model at 0x000001AEACFB65E0>\n",
       "\tbuild_fn=None\n",
       "\twarm_start=False\n",
       "\trandom_state=None\n",
       "\toptimizer=<keras.optimizers.optimizer_v2.gradient_descent.SGD object at 0x000001AEAD22E280>\n",
       "\tloss=categorical_crossentropy\n",
       "\tmetrics=['accuracy']\n",
       "\tbatch_size=1\n",
       "\tvalidation_batch_size=None\n",
       "\tverbose=1\n",
       "\tcallbacks=None\n",
       "\tvalidation_split=0.0\n",
       "\tshuffle=True\n",
       "\trun_eagerly=False\n",
       "\tepochs=100\n",
       "\tclass_weight=None\n",
       ")"
      ]
     },
     "execution_count": 118,
     "metadata": {},
     "output_type": "execute_result"
    }
   ],
   "source": [
    "clf.fit(X_train, y_train_bin)\n",
    "clf"
   ]
  },
  {
   "cell_type": "code",
   "execution_count": 119,
   "id": "6a9adfed",
   "metadata": {},
   "outputs": [
    {
     "name": "stdout",
     "output_type": "stream",
     "text": [
      "75/75 [==============================] - 0s 689us/step\n"
     ]
    }
   ],
   "source": [
    "y_pred = clf.predict(X_test)\n",
    "y_pred_class = np.argmax(y_pred, axis=1)"
   ]
  },
  {
   "cell_type": "markdown",
   "id": "9d677e2d",
   "metadata": {},
   "source": [
    "**22) Use the predictions to generate a confusion matrix.**"
   ]
  },
  {
   "cell_type": "code",
   "execution_count": 120,
   "id": "568ea071",
   "metadata": {},
   "outputs": [
    {
     "data": {
      "text/plain": [
       "Text(0, 0.5, 'True Label')"
      ]
     },
     "execution_count": 120,
     "metadata": {},
     "output_type": "execute_result"
    },
    {
     "data": {
      "image/png": "[encoded data removed]",
      "text/plain": [
       "<Figure size 640x480 with 2 Axes>"
      ]
     },
     "metadata": {},
     "output_type": "display_data"
    }
   ],
   "source": [
    "# convert string labels to integers\n",
    "le = LabelEncoder()\n",
    "y_test_num = le.fit_transform(y_test)\n",
    "\n",
    "# compute confusion matrix and classification report\n",
    "cmat = confusion_matrix(y_test_num, y_pred_class)\n",
    "\n",
    "cmat_disp = ConfusionMatrixDisplay(cmat, display_labels=y.unique())\n",
    "cmat_disp.plot()\n",
    "plt.title('Confusion Matrix')\n",
    "plt.xlabel('Predicted Label')\n",
    "plt.ylabel('True Label')"
   ]
  },
  {
   "cell_type": "markdown",
   "id": "e14d3f37",
   "metadata": {},
   "source": [
    "**23) Generate a performance report with the classification_report function.**"
   ]
  },
  {
   "cell_type": "code",
   "execution_count": 121,
   "id": "98cebcdd",
   "metadata": {},
   "outputs": [
    {
     "name": "stdout",
     "output_type": "stream",
     "text": [
      "Classification Report:\n",
      "              precision    recall  f1-score   support\n",
      "\n",
      "           0       1.00      1.00      1.00        23\n",
      "           1       1.00      0.77      0.87        22\n",
      "           2       0.86      1.00      0.92        30\n",
      "\n",
      "    accuracy                           0.93        75\n",
      "   macro avg       0.95      0.92      0.93        75\n",
      "weighted avg       0.94      0.93      0.93        75\n",
      "\n"
     ]
    }
   ],
   "source": [
    "crep = classification_report(y_test_num, y_pred_class)\n",
    "print(\"Classification Report:\")\n",
    "print(crep)"
   ]
  },
  {
   "cell_type": "markdown",
   "id": "ec4bab92",
   "metadata": {},
   "source": [
    "**24) Use your code from lab10 that performed a full cross validation, with K set to 5. AND, because deep learning models can take a while to train each model, it is a good idea to generate some output in your loop to show that the cross validation is progressing**"
   ]
  },
  {
   "cell_type": "code",
   "execution_count": 125,
   "id": "ba8184ef",
   "metadata": {},
   "outputs": [
    {
     "name": "stdout",
     "output_type": "stream",
     "text": [
      "Starting Fold, 1\n",
      "Fold, 1 complete\n",
      "Starting Fold, 2\n",
      "Fold, 2 complete\n",
      "Starting Fold, 3\n",
      "Fold, 3 complete\n",
      "Starting Fold, 4\n",
      "Fold, 4 complete\n",
      "Starting Fold, 5\n",
      "Fold, 5 complete\n"
     ]
    },
    {
     "data": {
      "text/html": [
       "<div>\n",
       "<style scoped>\n",
       "    .dataframe tbody tr th:only-of-type {\n",
       "        vertical-align: middle;\n",
       "    }\n",
       "\n",
       "    .dataframe tbody tr th {\n",
       "        vertical-align: top;\n",
       "    }\n",
       "\n",
       "    .dataframe thead th {\n",
       "        text-align: right;\n",
       "    }\n",
       "</style>\n",
       "<table border=\"1\" class=\"dataframe\">\n",
       "  <thead>\n",
       "    <tr style=\"text-align: right;\">\n",
       "      <th></th>\n",
       "      <th>true_label</th>\n",
       "      <th>dt_default</th>\n",
       "    </tr>\n",
       "  </thead>\n",
       "  <tbody>\n",
       "    <tr>\n",
       "      <th>0</th>\n",
       "      <td>versicolor</td>\n",
       "      <td>versicolor</td>\n",
       "    </tr>\n",
       "    <tr>\n",
       "      <th>1</th>\n",
       "      <td>setosa</td>\n",
       "      <td>setosa</td>\n",
       "    </tr>\n",
       "    <tr>\n",
       "      <th>2</th>\n",
       "      <td>versicolor</td>\n",
       "      <td>versicolor</td>\n",
       "    </tr>\n",
       "    <tr>\n",
       "      <th>3</th>\n",
       "      <td>setosa</td>\n",
       "      <td>setosa</td>\n",
       "    </tr>\n",
       "    <tr>\n",
       "      <th>4</th>\n",
       "      <td>versicolor</td>\n",
       "      <td>versicolor</td>\n",
       "    </tr>\n",
       "    <tr>\n",
       "      <th>...</th>\n",
       "      <td>...</td>\n",
       "      <td>...</td>\n",
       "    </tr>\n",
       "    <tr>\n",
       "      <th>145</th>\n",
       "      <td>versicolor</td>\n",
       "      <td>versicolor</td>\n",
       "    </tr>\n",
       "    <tr>\n",
       "      <th>146</th>\n",
       "      <td>versicolor</td>\n",
       "      <td>versicolor</td>\n",
       "    </tr>\n",
       "    <tr>\n",
       "      <th>147</th>\n",
       "      <td>virginica</td>\n",
       "      <td>virginica</td>\n",
       "    </tr>\n",
       "    <tr>\n",
       "      <th>148</th>\n",
       "      <td>versicolor</td>\n",
       "      <td>versicolor</td>\n",
       "    </tr>\n",
       "    <tr>\n",
       "      <th>149</th>\n",
       "      <td>setosa</td>\n",
       "      <td>setosa</td>\n",
       "    </tr>\n",
       "  </tbody>\n",
       "</table>\n",
       "<p>150 rows × 2 columns</p>\n",
       "</div>"
      ],
      "text/plain": [
       "     true_label  dt_default\n",
       "0    versicolor  versicolor\n",
       "1        setosa      setosa\n",
       "2    versicolor  versicolor\n",
       "3        setosa      setosa\n",
       "4    versicolor  versicolor\n",
       "..          ...         ...\n",
       "145  versicolor  versicolor\n",
       "146  versicolor  versicolor\n",
       "147   virginica   virginica\n",
       "148  versicolor  versicolor\n",
       "149      setosa      setosa\n",
       "\n",
       "[150 rows x 2 columns]"
      ]
     },
     "execution_count": 125,
     "metadata": {},
     "output_type": "execute_result"
    }
   ],
   "source": [
    "kfold = KFold(n_splits = 5, shuffle = True, random_state = 100)\n",
    "\n",
    "results_df = pd.DataFrame(columns=['true_label', 'dt_default'])\n",
    "for i, (train_index, test_index) in enumerate(kfold.split(X)):\n",
    "    print(\"Starting Fold,\", i+1)\n",
    "    X_train, X_test = X[X.index.isin(train_index)], X[X.index.isin(test_index)]\n",
    "    y_train, y_test = y[y.index.isin(train_index)], y[y.index.isin(test_index)]\n",
    "\n",
    "    clf = DecisionTreeClassifier()\n",
    "    clf.fit(X_train, y_train)\n",
    "    \n",
    "    y_pred_test = clf.predict(X_test)\n",
    "    fold_df = pd.DataFrame({'true_label': y_test, 'dt_default': y_pred_test})\n",
    "    results_df = pd.concat([results_df, fold_df], ignore_index=True)\n",
    "    print(\"Fold,\", i+1, \"complete\")\n",
    "    \n",
    "results_df"
   ]
  },
  {
   "cell_type": "markdown",
   "id": "7d9f321e",
   "metadata": {},
   "source": [
    "**25) Generate a full confusion matrix and final classification report based on your 5-fold cross validation of the\n",
    "keras model.**"
   ]
  },
  {
   "cell_type": "code",
   "execution_count": 127,
   "id": "9c23eae7",
   "metadata": {},
   "outputs": [
    {
     "name": "stdout",
     "output_type": "stream",
     "text": [
      "Confusion Matrix:\n",
      " [[ 8  0  0]\n",
      " [ 0 14  0]\n",
      " [ 0  0  8]]\n"
     ]
    },
    {
     "data": {
      "text/plain": [
       "Text(0, 0.5, 'True Label')"
      ]
     },
     "execution_count": 127,
     "metadata": {},
     "output_type": "execute_result"
    },
    {
     "data": {
      "image/png": "[encoded data removed]",
      "text/plain": [
       "<Figure size 640x480 with 2 Axes>"
      ]
     },
     "metadata": {},
     "output_type": "display_data"
    }
   ],
   "source": [
    "conf_mat = confusion_matrix(y_test, y_pred_test)\n",
    "print(\"Confusion Matrix:\\n\", conf_mat)\n",
    "\n",
    "conf_mat_disp = ConfusionMatrixDisplay(conf_mat, display_labels=y_test.unique())\n",
    "conf_mat_disp.plot()\n",
    "plt.title('Confusion Matrix Display')\n",
    "plt.xlabel('Predicted Label')\n",
    "plt.ylabel('True Label')"
   ]
  },
  {
   "cell_type": "code",
   "execution_count": 126,
   "id": "af0cc3b2",
   "metadata": {},
   "outputs": [
    {
     "name": "stdout",
     "output_type": "stream",
     "text": [
      "\n",
      "Classication Report on Test Data:\n",
      "               precision  recall  f1-score  support\n",
      "virginica           1.0     1.0       1.0      8.0\n",
      "setosa              1.0     1.0       1.0     14.0\n",
      "versicolor          1.0     1.0       1.0      8.0\n",
      "accuracy            1.0     1.0       1.0      1.0\n",
      "macro avg           1.0     1.0       1.0     30.0\n",
      "weighted avg        1.0     1.0       1.0     30.0\n"
     ]
    }
   ],
   "source": [
    "test_report = classification_report(y_test, y_pred_test, target_names=y_test.unique(), output_dict=True)\n",
    "test_report_df = pd.DataFrame(test_report).transpose()\n",
    "print(\"\\nClassication Report on Test Data:\\n\", test_report_df)"
   ]
  }
 ],
 "metadata": {
  "kernelspec": {
   "display_name": "Python 3 (ipykernel)",
   "language": "python",
   "name": "python3"
  },
  "language_info": {
   "codemirror_mode": {
    "name": "ipython",
    "version": 3
   },
   "file_extension": ".py",
   "mimetype": "text/x-python",
   "name": "python",
   "nbconvert_exporter": "python",
   "pygments_lexer": "ipython3",
   "version": "3.9.16"
  }
 },
 "nbformat": 4,
 "nbformat_minor": 5
}
