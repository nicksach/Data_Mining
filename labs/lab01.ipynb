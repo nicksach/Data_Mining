{
 "cells": [
  {
   "cell_type": "markdown",
   "id": "0efc6235-9d4f-45c6-a600-f35324ea5873",
   "metadata": {},
   "source": [
    "# Lab 01 - Getting Started\n",
    "\n",
    "Name: Nick Satriano\n",
    "Class: CSCI 349 - Intro to Data Mining\n",
    "Semester: 2023SP\n",
    "Instructor: Brian King"
   ]
  },
  {
   "cell_type": "code",
   "execution_count": 1,
   "id": "bb9978f0-67e8-49f4-857b-4be7e69b876f",
   "metadata": {},
   "outputs": [
    {
     "name": "stdout",
     "output_type": "stream",
     "text": [
      "3.9.16 (main, Jan 11 2023, 16:16:36) [MSC v.1916 64 bit (AMD64)]\n"
     ]
    }
   ],
   "source": [
    "import sys\n",
    "print(sys.version)"
   ]
  },
  {
   "cell_type": "code",
   "execution_count": null,
   "id": "e8879bcf-6f72-4e78-b472-a65847f41b6d",
   "metadata": {},
   "outputs": [],
   "source": []
  }
 ],
 "metadata": {
  "kernelspec": {
   "display_name": "Python 3 (ipykernel)",
   "language": "python",
   "name": "python3"
  },
  "language_info": {
   "codemirror_mode": {
    "name": "ipython",
    "version": 3
   },
   "file_extension": ".py",
   "mimetype": "text/x-python",
   "name": "python",
   "nbconvert_exporter": "python",
   "pygments_lexer": "ipython3",
   "version": "3.9.16"
  }
 },
 "nbformat": 4,
 "nbformat_minor": 5
}
