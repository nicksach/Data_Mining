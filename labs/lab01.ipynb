{
 "cells": [
  {
   "cell_type": "markdown",
   "id": "0efc6235-9d4f-45c6-a600-f35324ea5873",
   "metadata": {},
   "source": [
    "# Lab 01 - Getting Started\n",
    "\n",
    "Name: Nick Satriano\n",
    "Class: CSCI 349 - Intro to Data Mining\n",
    "Semester: 2023SP\n",
    "Instructor: Brian King"
   ]
  },
  {
   "cell_type": "markdown",
   "id": "0a18364a-ab5d-4407-b455-99cea0cd04ad",
   "metadata": {},
   "source": [
    "1) Did you read the syllabus? All of it? Do you understand and agree to abide by the cheating rules? Write a sentence clearly indicating your commitment to not cheating."
   ]
  },
  {
   "cell_type": "markdown",
   "id": "a06e87d3-2f4c-494f-a7d1-ce00c9842d13",
   "metadata": {},
   "source": [
    "I have read the syllabus and I do agree with it and will abide by the cheating rules."
   ]
  },
  {
   "cell_type": "markdown",
   "id": "64a7d63b-75f8-4003-9f5c-0f651cb89afe",
   "metadata": {},
   "source": [
    "2) What are you hoping to get out of this course?"
   ]
  },
  {
   "cell_type": "markdown",
   "id": "17c11278-b5ee-4e2f-8692-7245284d4448",
   "metadata": {},
   "source": [
    "I am hoping to gain a lot of hands-on experience with data science tools. I'm excited to learn more about machine learning and refine my data analysis skills."
   ]
  },
  {
   "cell_type": "markdown",
   "id": "fbd5cab3-780c-4c7d-ad9a-3844f4b7bd7b",
   "metadata": {},
   "source": [
    "3) Print the Python version (available in sys package)"
   ]
  },
  {
   "cell_type": "code",
   "execution_count": 11,
   "id": "d9041628-df69-4f9b-a67d-5fe9e12d2824",
   "metadata": {},
   "outputs": [
    {
     "name": "stdout",
     "output_type": "stream",
     "text": [
      "3.9.16 (main, Jan 11 2023, 16:16:36) [MSC v.1916 64 bit (AMD64)]\n"
     ]
    }
   ],
   "source": [
    "import sys\n",
    "print(sys.version)"
   ]
  },
  {
   "cell_type": "markdown",
   "id": "3c02b9ec-68db-4d48-a847-a8b0fe99579c",
   "metadata": {},
   "source": [
    "4) Create a Python list of 10000 random integers in the range 1 to 100 using the random package. Name the list x_list"
   ]
  },
  {
   "cell_type": "code",
   "execution_count": 6,
   "id": "2f05fa17-7d0b-4114-a9c2-592fdbdd31ee",
   "metadata": {},
   "outputs": [],
   "source": [
    "import random\n",
    "\n",
    "x_list = [random.choice(range(1, 101)) for i in range(10000)]"
   ]
  },
  {
   "cell_type": "markdown",
   "id": "80dcb7f3-c2a6-4329-9286-6f29951ff914",
   "metadata": {},
   "source": [
    "5) What is the minimum value of x_list? What is the max value? What is the mode?"
   ]
  },
  {
   "cell_type": "code",
   "execution_count": 10,
   "id": "8aa99f21-95ca-42d0-9015-c59bfea14325",
   "metadata": {},
   "outputs": [
    {
     "name": "stdout",
     "output_type": "stream",
     "text": [
      "The min of the list is: 1.\n",
      "The max of the list is: 100.\n",
      "The mode of the list is: 13.\n"
     ]
    }
   ],
   "source": [
    "from statistics import mode\n",
    "print(\"The min of the list is: {}.\" .format(min(x_list)))\n",
    "print(\"The max of the list is: {}.\" .format(max(x_list)))\n",
    "print(\"The mode of the list is: {}.\" .format(mode(x_list)))"
   ]
  },
  {
   "cell_type": "markdown",
   "id": "b607b7a9-75c1-415e-ae99-039ecd115741",
   "metadata": {},
   "source": [
    "6) Write a function to take a list of numbers as a parameter, and return the average of the list. Then, use your function to report the average value of x_list, printed as a float with 2 places of precision."
   ]
  },
  {
   "cell_type": "code",
   "execution_count": 7,
   "id": "7245d172-f286-47ac-bc8c-5d82e78909c1",
   "metadata": {},
   "outputs": [
    {
     "name": "stdout",
     "output_type": "stream",
     "text": [
      "The average is: 50.94\n"
     ]
    }
   ],
   "source": [
    "def avg(alist):\n",
    "    sum = 0\n",
    "    for i in alist:\n",
    "        sum += i\n",
    "    ret = sum / len(alist)\n",
    "    return ret\n",
    "\n",
    "print(\"The average is: %.2f\" % avg(x_list))"
   ]
  },
  {
   "cell_type": "markdown",
   "id": "211ae005-b82b-4242-a14a-9d2884dba762",
   "metadata": {},
   "source": [
    "7) Create a list called x_hist that represents a histogram, i.e. a distribution of the numerical data, of x_list. Each entry in x_hist should contain the frequency of data over a bin width of 10. So, for example, x_hist[0] represents the frequency of numbers between 1-10, x_hist[1] is the frequency of numbers between 11-20, and so on. Be sure to print x_hist at the end. "
   ]
  },
  {
   "cell_type": "code",
   "execution_count": 15,
   "id": "5f927393-0e7a-403b-87a3-99ec4c87a7b9",
   "metadata": {},
   "outputs": [
    {
     "name": "stdout",
     "output_type": "stream",
     "text": [
      "[982, 974, 929, 1021, 1050, 1023, 976, 1039, 1020]\n"
     ]
    }
   ],
   "source": [
    "x_hist = [0, 0, 0, 0, 0, 0, 0, 0, 0]\n",
    "for i in x_list:\n",
    "    if i <= 10:\n",
    "        x_hist[0] += 1\n",
    "    elif 10 < i <= 20:\n",
    "        x_hist[1] += 1\n",
    "    elif 20 < i <= 30:\n",
    "        x_hist[2] += 1\n",
    "    elif 30 < i <= 40:\n",
    "        x_hist[3] += 1\n",
    "    elif 40 < i <= 50:\n",
    "        x_hist[4] += 1\n",
    "    elif 50 < i <= 60:\n",
    "        x_hist[5] += 1\n",
    "    elif 70 < i <= 80:\n",
    "        x_hist[6] += 1\n",
    "    elif 80 < i <= 90:\n",
    "        x_hist[7] += 1\n",
    "    elif i > 90:\n",
    "        x_hist[8] += 1\n",
    "        \n",
    "print(x_hist)"
   ]
  },
  {
   "cell_type": "markdown",
   "id": "f51c509c-6a49-4d9b-bd98-4465216c6a7f",
   "metadata": {},
   "source": [
    "8) What is numpy? What are its strengths? Does it have any weaknesses?"
   ]
  },
  {
   "cell_type": "markdown",
   "id": "0908c559-0fe8-4b1d-9100-6ea47b10c705",
   "metadata": {},
   "source": [
    "NumPy is a library which adds support to python for large data frames and related algorithms. NumPy uses arrays to store data, which makes it great for data science. One weakness is that NumPy uses \"nan\" to represent \"not a number\" which can sometimes pose issues with data handling."
   ]
  },
  {
   "cell_type": "markdown",
   "id": "0116c330-75d9-447a-92c1-fa3e4e88a4fa",
   "metadata": {},
   "source": [
    "9)  Import the numpy package as np and print the numpy version"
   ]
  },
  {
   "cell_type": "code",
   "execution_count": 13,
   "id": "eecf46a5-57f3-4258-9e92-7790e283cf9b",
   "metadata": {},
   "outputs": [
    {
     "name": "stdout",
     "output_type": "stream",
     "text": [
      "1.23.5\n"
     ]
    }
   ],
   "source": [
    "import numpy as np\n",
    "print(np.__version__)"
   ]
  },
  {
   "cell_type": "markdown",
   "id": "a889f4d7-5288-4769-adf4-7aed88ab6623",
   "metadata": {},
   "source": [
    "10) What is the primary object type in numpy? Can it store data of different types? Discuss."
   ]
  },
  {
   "cell_type": "markdown",
   "id": "55f39642-efa7-4a11-9129-ede61e965a48",
   "metadata": {},
   "source": [
    "NumPy arrays are the primary object type. These arrays can store numerical data, and are much more efficient than python's built-in data structures."
   ]
  },
  {
   "cell_type": "markdown",
   "id": "76a4ec4b-489a-46d6-9249-9adc84d026a7",
   "metadata": {},
   "source": [
    "11) Discuss the types of data available in numpy. You need not list every type. Just generalize, and discuss how the type system is different than the built-in types int and float in Python."
   ]
  },
  {
   "cell_type": "markdown",
   "id": "fb18a9be-faa4-42c4-928f-696acf2a7128",
   "metadata": {},
   "source": [
    "The types of data available in numpy are all numerical: booleans, integers, unsigned integers, floating point and complex. These types are not size-flexible like python's are, so they are much more efficient to use than the built-in types."
   ]
  },
  {
   "cell_type": "markdown",
   "id": "92c58034-8560-4f14-8c98-a96761b3625b",
   "metadata": {},
   "source": [
    "12) Research how to use numpy to compute the same result as problem 8 above. "
   ]
  },
  {
   "cell_type": "code",
   "execution_count": 14,
   "id": "c12f2f64-ac46-4096-bf34-b266a6a7c194",
   "metadata": {},
   "outputs": [
    {
     "name": "stdout",
     "output_type": "stream",
     "text": [
      "(array([ 982,  974,  929, 1021, 1050, 1023,  986,  976, 1039, 1020],\n",
      "      dtype=int64), array([  1. ,  10.9,  20.8,  30.7,  40.6,  50.5,  60.4,  70.3,  80.2,\n",
      "        90.1, 100. ]))\n"
     ]
    }
   ],
   "source": [
    "print(np.histogram(x_list))"
   ]
  },
  {
   "cell_type": "markdown",
   "id": "b04c8c61-d474-496f-955e-f425d5ae55c4",
   "metadata": {},
   "source": [
    "13) Create a numpy array from x_list. Reassign it as x_list. Show the contents of the first 20 entries."
   ]
  },
  {
   "cell_type": "code",
   "execution_count": 17,
   "id": "5a726d06-ad74-45a0-b354-995b2acc5a0e",
   "metadata": {},
   "outputs": [
    {
     "name": "stdout",
     "output_type": "stream",
     "text": [
      "[94 18 50  2 18 85 42 69 45 41 99 13 83 61 26 32 62 24 99 49]\n"
     ]
    }
   ],
   "source": [
    "x_list = np.array(x_list)\n",
    "\n",
    "print(x_list[:20])"
   ]
  },
  {
   "cell_type": "markdown",
   "id": "999ddd3b-cbe4-4014-b7df-558b21b47f53",
   "metadata": {},
   "source": [
    "14) Redo the previous exercise, but set the data type of each value to 'float32'."
   ]
  },
  {
   "cell_type": "code",
   "execution_count": 18,
   "id": "565fd853-dc0a-400f-9a02-387296395853",
   "metadata": {},
   "outputs": [
    {
     "name": "stdout",
     "output_type": "stream",
     "text": [
      "[94. 18. 50.  2. 18. 85. 42. 69. 45. 41. 99. 13. 83. 61. 26. 32. 62. 24.\n",
      " 99. 49.]\n"
     ]
    }
   ],
   "source": [
    "x_list = np.array(x_list, dtype=np.float32)\n",
    "\n",
    "print(x_list[:20])"
   ]
  },
  {
   "cell_type": "markdown",
   "id": "9aff67a6-535c-460b-875d-ccb0ddee3b3d",
   "metadata": {},
   "source": [
    "15) Create a length 10 integer array filled with zeros."
   ]
  },
  {
   "cell_type": "code",
   "execution_count": 22,
   "id": "89add299-8542-4ee9-a3f4-d9247c13e118",
   "metadata": {},
   "outputs": [
    {
     "data": {
      "text/plain": [
       "array([0., 0., 0., 0., 0., 0., 0., 0., 0., 0.])"
      ]
     },
     "execution_count": 22,
     "metadata": {},
     "output_type": "execute_result"
    }
   ],
   "source": [
    "np.zeros(10)"
   ]
  },
  {
   "cell_type": "markdown",
   "id": "fa7027e0-b940-4cf7-8895-877591f4f9f8",
   "metadata": {},
   "source": [
    "16) Create a float array of 3 rows and 4 columns, all initialized to one."
   ]
  },
  {
   "cell_type": "code",
   "execution_count": 27,
   "id": "aeaee4f7-7910-4433-ba0e-688e6f91f8ae",
   "metadata": {},
   "outputs": [
    {
     "data": {
      "text/plain": [
       "array([[1., 1., 1., 1.],\n",
       "       [1., 1., 1., 1.],\n",
       "       [1., 1., 1., 1.]])"
      ]
     },
     "execution_count": 27,
     "metadata": {},
     "output_type": "execute_result"
    }
   ],
   "source": [
    "np.ones((3, 4))"
   ]
  },
  {
   "cell_type": "markdown",
   "id": "6de1f11b-8127-4ba8-a2cb-0514748abae7",
   "metadata": {},
   "source": [
    "17) Create an array of 20 values, evenly spaced between 1 and 3."
   ]
  },
  {
   "cell_type": "code",
   "execution_count": 28,
   "id": "86632477-e8ac-4998-aa22-3ba873d7be33",
   "metadata": {},
   "outputs": [
    {
     "data": {
      "text/plain": [
       "array([1.        , 1.10526316, 1.21052632, 1.31578947, 1.42105263,\n",
       "       1.52631579, 1.63157895, 1.73684211, 1.84210526, 1.94736842,\n",
       "       2.05263158, 2.15789474, 2.26315789, 2.36842105, 2.47368421,\n",
       "       2.57894737, 2.68421053, 2.78947368, 2.89473684, 3.        ])"
      ]
     },
     "execution_count": 28,
     "metadata": {},
     "output_type": "execute_result"
    }
   ],
   "source": [
    "np.linspace(1, 3, num = 20)"
   ]
  },
  {
   "cell_type": "markdown",
   "id": "7c3b7398-61f0-4a88-b75d-437b80203a87",
   "metadata": {},
   "source": [
    "18) Set the numpy random seed to the value 12345, then create a 10 x 5 array of random integers on the interval [10, 50), assigned to x_mat."
   ]
  },
  {
   "cell_type": "code",
   "execution_count": 35,
   "id": "10fda77b-b7e6-40bb-9251-37049f0580ac",
   "metadata": {},
   "outputs": [
    {
     "name": "stdout",
     "output_type": "stream",
     "text": [
      "[[44 47 39 11 46]\n",
      " [47 44 39 11 24]\n",
      " [37 26 19 21 23]\n",
      " [20 27 28 48 17]\n",
      " [33 39 41 43 37]\n",
      " [33 46 10 13 15]\n",
      " [25 21 24 27 15]\n",
      " [44 18 15 44 15]\n",
      " [29 22 24 26 37]\n",
      " [48 34 42 15 20]]\n"
     ]
    }
   ],
   "source": [
    "np.random.seed(12345)\n",
    "x_mat = np.random.randint(10, 49, size=(10, 5))\n",
    "print(x_mat)"
   ]
  },
  {
   "cell_type": "markdown",
   "id": "e52f016f-ab8e-4aca-ac97-239f13ad70d9",
   "metadata": {},
   "source": [
    "19) Use slicing to select and show the first and last row of x_mat."
   ]
  },
  {
   "cell_type": "code",
   "execution_count": 39,
   "id": "cd4c33c4-68ff-4f7e-aab6-b431d0701f73",
   "metadata": {},
   "outputs": [
    {
     "name": "stdout",
     "output_type": "stream",
     "text": [
      "[[44 47 39 11 46]\n",
      " [48 34 42 15 20]]\n"
     ]
    }
   ],
   "source": [
    "print(x_mat[0:10:9])"
   ]
  },
  {
   "cell_type": "markdown",
   "id": "0156daab-df6c-44f6-9112-1b0243fecebd",
   "metadata": {},
   "source": [
    "20)  Now, show the first, third and fifth column of x_mat."
   ]
  },
  {
   "cell_type": "code",
   "execution_count": 41,
   "id": "c14b98f1-5770-4e4b-b468-963cec00c080",
   "metadata": {},
   "outputs": [
    {
     "name": "stdout",
     "output_type": "stream",
     "text": [
      "[[44 47 39 11 46]\n",
      " [37 26 19 21 23]\n",
      " [33 39 41 43 37]]\n"
     ]
    }
   ],
   "source": [
    "print(x_mat[0:5:2])"
   ]
  },
  {
   "cell_type": "markdown",
   "id": "1faee37c-d9d0-4c29-8b67-8785e0ac2591",
   "metadata": {},
   "source": [
    "21) Show the sum of each row."
   ]
  },
  {
   "cell_type": "code",
   "execution_count": 44,
   "id": "f8d33373-558a-42ec-885e-cef794fb4445",
   "metadata": {},
   "outputs": [
    {
     "data": {
      "text/plain": [
       "array([187, 165, 126, 140, 193, 117, 112, 136, 138, 159])"
      ]
     },
     "execution_count": 44,
     "metadata": {},
     "output_type": "execute_result"
    }
   ],
   "source": [
    "np.sum(x_mat, axis = 1)"
   ]
  }
 ],
 "metadata": {
  "kernelspec": {
   "display_name": "Python 3 (ipykernel)",
   "language": "python",
   "name": "python3"
  },
  "language_info": {
   "codemirror_mode": {
    "name": "ipython",
    "version": 3
   },
   "file_extension": ".py",
   "mimetype": "text/x-python",
   "name": "python",
   "nbconvert_exporter": "python",
   "pygments_lexer": "ipython3",
   "version": "3.9.16"
  }
 },
 "nbformat": 4,
 "nbformat_minor": 5
}
