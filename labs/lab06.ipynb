{
 "cells": [
  {
   "cell_type": "markdown",
   "metadata": {},
   "source": [
    "# Lab 06 - Data Preprocessing I\n",
    "\n",
    "Name: Nick Satriano and Robbie Cammarano\n",
    "Class: CSCI 349 - Intro to Data Mining  \n",
    "Semester: Spring 2023\n",
    "Instructor: Brian King"
   ]
  },
  {
   "cell_type": "markdown",
   "metadata": {},
   "source": [
    "---\n",
    "# Objectives\n",
    "* Experience the \"joy\" that is data munging. Munge, munge, munge!\n",
    "* Start dealing with noisy, unclean, real-world data\n",
    "* Work with times and dates in your data\n",
    "\n",
    "## Pair programming\n",
    "Don't forget that pair programming is allowed and even encouraged on these labs moving forward.\n",
    "\n",
    "# Introduction\n",
    "As you learned in class, data cleaning represents a large part of the work of the data scientist.  You are going to download a real-world dataset, and do some preliminary cleaning, EDA, and reporting."
   ]
  },
  {
   "cell_type": "markdown",
   "metadata": {},
   "source": [
    "---\n",
    "# Preparing for your lab\n",
    "\n",
    "Do each of the following...\n",
    "\n",
    "* Modify the header cell above with your name(s).\n",
    "* If you haven't yet, create a new folder at the same level as your labs and hw folder you created, called `data`.\n",
    "    * This folder will store the data that you are working with through the semester. Sometimes the data we work with can be downloaded directly from an online URL, and other times (such as this exercise), the data will need to be downloaded from public repositories locally onto your laptop. And worse yet, most data are not cleaned and tidied up for you to play with!"
   ]
  },
  {
   "cell_type": "markdown",
   "metadata": {},
   "source": [
    "---\n",
    "## The Pennsylvania State Climatologist Database\n",
    "\n",
    "Penn State has an excellent public database of weather observations collected from a wide range of stations scattered throughout the state. Some of them go back to the 1940s. For this lab, we're going to explore one of those datasets – Williamsport, PA.\n",
    "\n",
    "Go to the [The Pennsylvania State Climatologist](http://climate.met.psu.edu). From this page:\n",
    "* Select **Data**\n",
    "* Select **Data Archive**\n",
    "* For **Select a network** select **FAA Hourly**.\n",
    "* You are going to investigate the weather observations *Williamsport, PA*, whose FAA code is **KIPT**. Select it.\n",
    "\n",
    "Now you need to select the range of observations and variables we're interested in. Enter the following:\n",
    "\n",
    "* Start and End Dates: **2000-01-01** to **2022-12-31**.\n",
    "* Select EVERY attribute to download (from Date/Time, Number of observations… etc… right through Max Wind Speed).\n",
    "* Output file type should be a CSV file\n",
    "* Select Yes to include Metadata. (Metadata is information about data. This usually contains valuable information, and you almost always want to retain this information unless you are provided with an explicit *schema*, which we are not.\n",
    "\n",
    "**Click Submit.**\n",
    "\n",
    "Download the data (which will most likely place your data into your Downloads folder.)  It'll be a long filename. That's fine. I usually always add the suffix \"_raw\" to indicate this is the raw data that I'm working with from my source. *Never lose track of your original dataset.*\n",
    "\n",
    "You are not done. Move that file over to your `data` directory you created (which should be at the same directly level as your `labs` directory.) If you placed the .csv file in the correct place, then your path should be:\n",
    "\n",
    "`../data/faa_hourly-KIPT_20000101-20221231_raw.csv`\n",
    "\n",
    "\n"
   ]
  },
  {
   "cell_type": "code",
   "execution_count": 1,
   "metadata": {},
   "outputs": [],
   "source": [
    "# This magic command just allows the autocomplete <TAB> \n",
    "# feature to work properly.\n",
    "%config Completer.use_jedi = False"
   ]
  },
  {
   "cell_type": "code",
   "execution_count": 26,
   "metadata": {
    "jupyter": {
     "outputs_hidden": false
    }
   },
   "outputs": [
    {
     "name": "stdout",
     "output_type": "stream",
     "text": [
      "\n",
      "INSTALLED VERSIONS\n",
      "------------------\n",
      "commit           : ca60aab7340d9989d9428e11a51467658190bb6b\n",
      "python           : 3.9.16.final.0\n",
      "python-bits      : 64\n",
      "OS               : Windows\n",
      "OS-release       : 10\n",
      "Version          : 10.0.22621\n",
      "machine          : AMD64\n",
      "processor        : AMD64 Family 25 Model 80 Stepping 0, AuthenticAMD\n",
      "byteorder        : little\n",
      "LC_ALL           : None\n",
      "LANG             : None\n",
      "LOCALE           : English_United States.1252\n",
      "\n",
      "pandas           : 1.4.4\n",
      "numpy            : 1.23.5\n",
      "pytz             : 2022.7\n",
      "dateutil         : 2.8.2\n",
      "setuptools       : 65.6.3\n",
      "pip              : 22.3.1\n",
      "Cython           : 0.29.32\n",
      "pytest           : 7.1.2\n",
      "hypothesis       : None\n",
      "sphinx           : 5.0.2\n",
      "blosc            : None\n",
      "feather          : None\n",
      "xlsxwriter       : 3.0.3\n",
      "lxml.etree       : 4.9.1\n",
      "html5lib         : None\n",
      "pymysql          : None\n",
      "psycopg2         : None\n",
      "jinja2           : 2.11.3\n",
      "IPython          : 7.31.1\n",
      "pandas_datareader: None\n",
      "bs4              : 4.11.1\n",
      "bottleneck       : 1.3.5\n",
      "brotli           : \n",
      "fastparquet      : None\n",
      "fsspec           : 2022.11.0\n",
      "gcsfs            : None\n",
      "markupsafe       : 2.0.1\n",
      "matplotlib       : 3.6.2\n",
      "numba            : 0.56.4\n",
      "numexpr          : 2.8.4\n",
      "odfpy            : None\n",
      "openpyxl         : 3.0.10\n",
      "pandas_gbq       : None\n",
      "pyarrow          : None\n",
      "pyreadstat       : None\n",
      "pyxlsb           : None\n",
      "s3fs             : None\n",
      "scipy            : 1.9.3\n",
      "snappy           : \n",
      "sqlalchemy       : 1.4.39\n",
      "tables           : 3.7.0\n",
      "tabulate         : 0.8.10\n",
      "xarray           : 2022.11.0\n",
      "xlrd             : 2.0.1\n",
      "xlwt             : None\n",
      "zstandard        : 0.18.0\n",
      "None\n"
     ]
    }
   ],
   "source": [
    "import sys\n",
    "import os\n",
    "import numpy as np\n",
    "import pandas as pd\n",
    "import matplotlib as mpl\n",
    "import matplotlib.pyplot as plt\n",
    "import seaborn as sns\n",
    "\n",
    "print(pd.show_versions())"
   ]
  },
  {
   "cell_type": "markdown",
   "metadata": {},
   "source": [
    "---\n",
    "**1)**\t [P] Use pandas to read in your data file you downloaded above, which you should have placed in your data directory. Call the data frame `df_temps`.  Read in the entire dataset, however, be sure to ignore the first 16 rows from the input (HINT: use the `skiprows=` option!)\n",
    "\n",
    "**NOTE:** ALWAYS BE SURE TO LOOK AT YOUR ACTUAL DATA AS PLAIN TEXT BEFORE TRYING TO READ IN A RAW DATASET! JUST BECAUSE A DATASET HAS A `.csv` EXTENSION DOES NOT MEAN THAT YOU CAN RELY ON EVERY ROW BEING A PROPERLY FORMATTED ROW! For instance, notice that the header row is scattered throughout your data! Notice that you have some extra columns at the end that are consistently empty! The inexperienced data scientists are tempted to manually edit the file to make it easy to read. *NO. WRONG! BAD DATA SCIENTIST!*\n",
    "\n",
    ">**Never change your raw data.**\n",
    ">\n",
    "> Write your Python cleaning code to always work with raw, uncleaned data. Why? In practice, your data file may be huge. You may need to repeatedly grab fresh data, and those data will only have the same issues. Do you really want to repeat your manual editing silliness every time you have a fresh file? No! It may take a bit more work up front, but ALWAYS strive to write code to preprocess every aspect of your raw data file! It will always save you work later!"
   ]
  },
  {
   "cell_type": "code",
   "execution_count": 54,
   "metadata": {
    "jupyter": {
     "outputs_hidden": false
    }
   },
   "outputs": [
    {
     "data": {
      "text/html": [
       "<div>\n",
       "<style scoped>\n",
       "    .dataframe tbody tr th:only-of-type {\n",
       "        vertical-align: middle;\n",
       "    }\n",
       "\n",
       "    .dataframe tbody tr th {\n",
       "        vertical-align: top;\n",
       "    }\n",
       "\n",
       "    .dataframe thead th {\n",
       "        text-align: right;\n",
       "    }\n",
       "</style>\n",
       "<table border=\"1\" class=\"dataframe\">\n",
       "  <thead>\n",
       "    <tr style=\"text-align: right;\">\n",
       "      <th></th>\n",
       "      <th>Date/Time (GMT)</th>\n",
       "      <th>Number of Observations (n/a)</th>\n",
       "      <th>Average Temp (F)</th>\n",
       "      <th>Max Temp (F)</th>\n",
       "      <th>Min Temp (F)</th>\n",
       "      <th>Average Dewpoint Temp (F)</th>\n",
       "      <th>1 Hour Precip (in)</th>\n",
       "      <th>Max Wind Gust (mph)</th>\n",
       "      <th>Average Relative Humidity (%)</th>\n",
       "      <th>Average Wind Speed (mph)</th>\n",
       "      <th>Average Station Pressure (mb)</th>\n",
       "      <th>Average Wind Direction (deg)</th>\n",
       "      <th>Max Wind Speed (mph)</th>\n",
       "      <th>Unnamed: 13</th>\n",
       "    </tr>\n",
       "  </thead>\n",
       "  <tbody>\n",
       "    <tr>\n",
       "      <th>0</th>\n",
       "      <td>2000-01-01 00:00:00</td>\n",
       "      <td>1</td>\n",
       "      <td>26.1</td>\n",
       "      <td>26.1</td>\n",
       "      <td>26.1</td>\n",
       "      <td>14.0</td>\n",
       "      <td>NaN</td>\n",
       "      <td>20.7</td>\n",
       "      <td>59.0</td>\n",
       "      <td>17.3</td>\n",
       "      <td>1015.2</td>\n",
       "      <td>280.0</td>\n",
       "      <td>17.3</td>\n",
       "      <td>NaN</td>\n",
       "    </tr>\n",
       "    <tr>\n",
       "      <th>1</th>\n",
       "      <td>2000-01-01 01:00:00</td>\n",
       "      <td>1</td>\n",
       "      <td>26.1</td>\n",
       "      <td>26.1</td>\n",
       "      <td>26.1</td>\n",
       "      <td>14.0</td>\n",
       "      <td>NaN</td>\n",
       "      <td>NaN</td>\n",
       "      <td>59.0</td>\n",
       "      <td>16.1</td>\n",
       "      <td>1015.9</td>\n",
       "      <td>280.0</td>\n",
       "      <td>16.1</td>\n",
       "      <td>NaN</td>\n",
       "    </tr>\n",
       "    <tr>\n",
       "      <th>2</th>\n",
       "      <td>2000-01-01 02:00:00</td>\n",
       "      <td>1</td>\n",
       "      <td>26.1</td>\n",
       "      <td>26.1</td>\n",
       "      <td>26.1</td>\n",
       "      <td>15.1</td>\n",
       "      <td>NaN</td>\n",
       "      <td>NaN</td>\n",
       "      <td>62.0</td>\n",
       "      <td>15.0</td>\n",
       "      <td>1016.3</td>\n",
       "      <td>280.0</td>\n",
       "      <td>15.0</td>\n",
       "      <td>NaN</td>\n",
       "    </tr>\n",
       "    <tr>\n",
       "      <th>3</th>\n",
       "      <td>2000-01-01 03:00:00</td>\n",
       "      <td>1</td>\n",
       "      <td>26.1</td>\n",
       "      <td>26.1</td>\n",
       "      <td>26.1</td>\n",
       "      <td>12.0</td>\n",
       "      <td>NaN</td>\n",
       "      <td>NaN</td>\n",
       "      <td>54.0</td>\n",
       "      <td>16.1</td>\n",
       "      <td>1016.6</td>\n",
       "      <td>270.0</td>\n",
       "      <td>16.1</td>\n",
       "      <td>NaN</td>\n",
       "    </tr>\n",
       "    <tr>\n",
       "      <th>4</th>\n",
       "      <td>2000-01-01 04:00:00</td>\n",
       "      <td>1</td>\n",
       "      <td>26.1</td>\n",
       "      <td>26.1</td>\n",
       "      <td>26.1</td>\n",
       "      <td>14.0</td>\n",
       "      <td>NaN</td>\n",
       "      <td>NaN</td>\n",
       "      <td>59.0</td>\n",
       "      <td>12.7</td>\n",
       "      <td>1017.3</td>\n",
       "      <td>280.0</td>\n",
       "      <td>12.7</td>\n",
       "      <td>NaN</td>\n",
       "    </tr>\n",
       "  </tbody>\n",
       "</table>\n",
       "</div>"
      ],
      "text/plain": [
       "       Date/Time (GMT)  Number of Observations (n/a)  Average Temp (F)  \\\n",
       "0  2000-01-01 00:00:00                             1              26.1   \n",
       "1  2000-01-01 01:00:00                             1              26.1   \n",
       "2  2000-01-01 02:00:00                             1              26.1   \n",
       "3  2000-01-01 03:00:00                             1              26.1   \n",
       "4  2000-01-01 04:00:00                             1              26.1   \n",
       "\n",
       "   Max Temp (F)  Min Temp (F)  Average Dewpoint Temp (F)  1 Hour Precip (in)  \\\n",
       "0          26.1          26.1                       14.0                 NaN   \n",
       "1          26.1          26.1                       14.0                 NaN   \n",
       "2          26.1          26.1                       15.1                 NaN   \n",
       "3          26.1          26.1                       12.0                 NaN   \n",
       "4          26.1          26.1                       14.0                 NaN   \n",
       "\n",
       "   Max Wind Gust (mph)  Average Relative Humidity (%)  \\\n",
       "0                 20.7                           59.0   \n",
       "1                  NaN                           59.0   \n",
       "2                  NaN                           62.0   \n",
       "3                  NaN                           54.0   \n",
       "4                  NaN                           59.0   \n",
       "\n",
       "   Average Wind Speed (mph)  Average Station Pressure (mb)  \\\n",
       "0                      17.3                         1015.2   \n",
       "1                      16.1                         1015.9   \n",
       "2                      15.0                         1016.3   \n",
       "3                      16.1                         1016.6   \n",
       "4                      12.7                         1017.3   \n",
       "\n",
       "   Average Wind Direction (deg)  Max Wind Speed (mph)  Unnamed: 13  \n",
       "0                         280.0                  17.3          NaN  \n",
       "1                         280.0                  16.1          NaN  \n",
       "2                         280.0                  15.0          NaN  \n",
       "3                         270.0                  16.1          NaN  \n",
       "4                         280.0                  12.7          NaN  "
      ]
     },
     "execution_count": 54,
     "metadata": {},
     "output_type": "execute_result"
    }
   ],
   "source": [
    "df_temps = pd.read_csv(\"../data/faa_hourly-KIPT_20000101-20221231_raw.csv\", skiprows = 16)\n",
    "\n",
    "df_temps.head()\n"
   ]
  },
  {
   "cell_type": "markdown",
   "metadata": {},
   "source": [
    "---\n",
    "**2)**\tReport the general structure of the data frame using `df_temps.info()`. Notice any column that is read in as a plain `object` type. You should have one column with this problem."
   ]
  },
  {
   "cell_type": "code",
   "execution_count": 55,
   "metadata": {
    "jupyter": {
     "outputs_hidden": false
    }
   },
   "outputs": [
    {
     "name": "stdout",
     "output_type": "stream",
     "text": [
      "<class 'pandas.core.frame.DataFrame'>\n",
      "RangeIndex: 199201 entries, 0 to 199200\n",
      "Data columns (total 14 columns):\n",
      " #   Column                         Non-Null Count   Dtype  \n",
      "---  ------                         --------------   -----  \n",
      " 0   Date/Time (GMT)                199201 non-null  object \n",
      " 1   Number of Observations (n/a)   199201 non-null  int64  \n",
      " 2   Average Temp (F)               198189 non-null  float64\n",
      " 3   Max Temp (F)                   198189 non-null  float64\n",
      " 4   Min Temp (F)                   198189 non-null  float64\n",
      " 5   Average Dewpoint Temp (F)      198067 non-null  float64\n",
      " 6   1 Hour Precip (in)             32345 non-null   float64\n",
      " 7   Max Wind Gust (mph)            26839 non-null   float64\n",
      " 8   Average Relative Humidity (%)  193828 non-null  float64\n",
      " 9   Average Wind Speed (mph)       198638 non-null  float64\n",
      " 10  Average Station Pressure (mb)  198852 non-null  float64\n",
      " 11  Average Wind Direction (deg)   165309 non-null  float64\n",
      " 12  Max Wind Speed (mph)           198638 non-null  float64\n",
      " 13  Unnamed: 13                    0 non-null       float64\n",
      "dtypes: float64(12), int64(1), object(1)\n",
      "memory usage: 21.3+ MB\n"
     ]
    }
   ],
   "source": [
    "df_temps.info()\n",
    "\n"
   ]
  },
  {
   "cell_type": "markdown",
   "metadata": {},
   "source": [
    "---\n",
    "This is a pretty good dataset with lots of real problems! It gives you a chance to understand how important it is to select the smallest, yet most accurate data type for every variable. This is particularly true with respect to your memory footprint. With enormous data involving millions of records, you often need to perform various paging exercises to load in chunks of data into memory, substantially slowing down the machine learning methods. In other words, the more data you can fit in memory, the better! (In reality, the above is quoting a relatively small amount of memory. But, it's never too early to develop good habits!)\n"
   ]
  },
  {
   "cell_type": "markdown",
   "metadata": {},
   "source": [
    "---\n",
    "**3)**\t[P] Read about the `memory_usage()` method of pandas data frames. Then, report the total memory in bytes for each variable of df_temps. Set the parameter drop=True, to get the most accurate assessment of your total memory usage."
   ]
  },
  {
   "cell_type": "code",
   "execution_count": 56,
   "metadata": {
    "jupyter": {
     "outputs_hidden": false
    }
   },
   "outputs": [
    {
     "data": {
      "text/plain": [
       "Index                                 128\n",
       "Date/Time (GMT)                  15139276\n",
       "Number of Observations (n/a)      1593608\n",
       "Average Temp (F)                  1593608\n",
       "Max Temp (F)                      1593608\n",
       "Min Temp (F)                      1593608\n",
       "Average Dewpoint Temp (F)         1593608\n",
       "1 Hour Precip (in)                1593608\n",
       "Max Wind Gust (mph)               1593608\n",
       "Average Relative Humidity (%)     1593608\n",
       "Average Wind Speed (mph)          1593608\n",
       "Average Station Pressure (mb)     1593608\n",
       "Average Wind Direction (deg)      1593608\n",
       "Max Wind Speed (mph)              1593608\n",
       "Unnamed: 13                       1593608\n",
       "dtype: int64"
      ]
     },
     "execution_count": 56,
     "metadata": {},
     "output_type": "execute_result"
    }
   ],
   "source": [
    "df_temps.memory_usage(deep = True)\n"
   ]
  },
  {
   "cell_type": "markdown",
   "metadata": {},
   "source": [
    "---\n",
    "**4)**\tReport the total memory required for the data frame in MB. (Just sum the previous answer and correct your units accordingly)"
   ]
  },
  {
   "cell_type": "code",
   "execution_count": 57,
   "metadata": {
    "jupyter": {
     "outputs_hidden": false
    }
   },
   "outputs": [
    {
     "name": "stdout",
     "output_type": "stream",
     "text": [
      "35.856308  MB\n"
     ]
    }
   ],
   "source": [
    "tot_mem = sum(df_temps.memory_usage(deep = True)) / 1000000\n",
    "print(tot_mem, \" MB\")\n"
   ]
  },
  {
   "cell_type": "markdown",
   "metadata": {},
   "source": [
    "---\n",
    "**5)**\t[P] You have a rather annoying extra column that was read in in the last column position. (Look closely at the output of `info()` above!) You should always confirm that it's garbage before deleting it. Write the single line of code that reports the count of valid values in the last column (HINT: `count()`)\n",
    "\n",
    " "
   ]
  },
  {
   "cell_type": "code",
   "execution_count": 58,
   "metadata": {
    "jupyter": {
     "outputs_hidden": false
    }
   },
   "outputs": [
    {
     "data": {
      "text/plain": [
       "0"
      ]
     },
     "execution_count": 58,
     "metadata": {},
     "output_type": "execute_result"
    }
   ],
   "source": [
    "df_temps.iloc[:, -1].count()\n",
    "\n"
   ]
  },
  {
   "cell_type": "markdown",
   "metadata": {},
   "source": [
    "---\n",
    "**6)**\tDrop that last column from `df_temps`."
   ]
  },
  {
   "cell_type": "code",
   "execution_count": 59,
   "metadata": {
    "jupyter": {
     "outputs_hidden": false
    }
   },
   "outputs": [],
   "source": [
    "df_temps = df_temps.drop(df_temps.columns[-1], axis = 1)\n",
    "\n"
   ]
  },
  {
   "cell_type": "markdown",
   "metadata": {},
   "source": [
    "---\n",
    "**7)**\t[M] Look over the data type column in the `info()` output. ALWAYS pay attention to the types of each variable. In particular, pay attention to the variables that are read in as `object` type. This implies that pandas did not have enough confidence to convert the type itself, and you need to do it. Are there any `object` types? If so what? What format are the data in that column(s)?"
   ]
  },
  {
   "cell_type": "code",
   "execution_count": 60,
   "metadata": {},
   "outputs": [
    {
     "name": "stdout",
     "output_type": "stream",
     "text": [
      "<class 'pandas.core.frame.DataFrame'>\n",
      "RangeIndex: 199201 entries, 0 to 199200\n",
      "Data columns (total 13 columns):\n",
      " #   Column                         Non-Null Count   Dtype  \n",
      "---  ------                         --------------   -----  \n",
      " 0   Date/Time (GMT)                199201 non-null  object \n",
      " 1   Number of Observations (n/a)   199201 non-null  int64  \n",
      " 2   Average Temp (F)               198189 non-null  float64\n",
      " 3   Max Temp (F)                   198189 non-null  float64\n",
      " 4   Min Temp (F)                   198189 non-null  float64\n",
      " 5   Average Dewpoint Temp (F)      198067 non-null  float64\n",
      " 6   1 Hour Precip (in)             32345 non-null   float64\n",
      " 7   Max Wind Gust (mph)            26839 non-null   float64\n",
      " 8   Average Relative Humidity (%)  193828 non-null  float64\n",
      " 9   Average Wind Speed (mph)       198638 non-null  float64\n",
      " 10  Average Station Pressure (mb)  198852 non-null  float64\n",
      " 11  Average Wind Direction (deg)   165309 non-null  float64\n",
      " 12  Max Wind Speed (mph)           198638 non-null  float64\n",
      "dtypes: float64(11), int64(1), object(1)\n",
      "memory usage: 19.8+ MB\n"
     ]
    }
   ],
   "source": [
    "df_temps.info()\n"
   ]
  },
  {
   "cell_type": "markdown",
   "metadata": {},
   "source": [
    "**ANSWER:**\n",
    "The only object typed attribute is the Date/Time attribute. These values are dates in GMT format.\n"
   ]
  },
  {
   "cell_type": "markdown",
   "metadata": {},
   "source": [
    "---\n",
    "**8)**\t[P] How many NaN values are in each variable? (NOTE: Leave the NaN fields alone! The fact that they are missing is IMPORTANT! And, leave the date/time variable in the first column alone. Dates are very common in data, and it is important that you represent dates as actual date types. We'll deal with that shortly.)"
   ]
  },
  {
   "cell_type": "code",
   "execution_count": 61,
   "metadata": {},
   "outputs": [
    {
     "data": {
      "text/plain": [
       "Date/Time (GMT)                       0\n",
       "Number of Observations (n/a)          0\n",
       "Average Temp (F)                   1012\n",
       "Max Temp (F)                       1012\n",
       "Min Temp (F)                       1012\n",
       "Average Dewpoint Temp (F)          1134\n",
       "1 Hour Precip (in)               166856\n",
       "Max Wind Gust (mph)              172362\n",
       "Average Relative Humidity (%)      5373\n",
       "Average Wind Speed (mph)            563\n",
       "Average Station Pressure (mb)       349\n",
       "Average Wind Direction (deg)      33892\n",
       "Max Wind Speed (mph)                563\n",
       "dtype: int64"
      ]
     },
     "execution_count": 61,
     "metadata": {},
     "output_type": "execute_result"
    }
   ],
   "source": [
    "df_temps.isna().sum(axis = 0)\n",
    "\n"
   ]
  },
  {
   "cell_type": "markdown",
   "metadata": {},
   "source": [
    "---\n",
    "**9)**\t[P] Report the NaN output as a percentage of the total number of values that are missing for each variable"
   ]
  },
  {
   "cell_type": "code",
   "execution_count": 62,
   "metadata": {},
   "outputs": [
    {
     "data": {
      "text/plain": [
       "Date/Time (GMT)                   0.000000\n",
       "Number of Observations (n/a)      0.000000\n",
       "Average Temp (F)                  0.508030\n",
       "Max Temp (F)                      0.508030\n",
       "Min Temp (F)                      0.508030\n",
       "Average Dewpoint Temp (F)         0.569274\n",
       "1 Hour Precip (in)               83.762632\n",
       "Max Wind Gust (mph)              86.526674\n",
       "Average Relative Humidity (%)     2.697276\n",
       "Average Wind Speed (mph)          0.282629\n",
       "Average Station Pressure (mb)     0.175200\n",
       "Average Wind Direction (deg)     17.013971\n",
       "Max Wind Speed (mph)              0.282629\n",
       "dtype: float64"
      ]
     },
     "execution_count": 62,
     "metadata": {},
     "output_type": "execute_result"
    }
   ],
   "source": [
    "df_temps.isna().sum(axis = 0) / df_temps.shape[0] * 100\n",
    "\n"
   ]
  },
  {
   "cell_type": "markdown",
   "metadata": {},
   "source": [
    "---\n",
    "**10)**\t[PM] Report the number of observations that are complete, meaning, they have NO missing variable in the observation. Report this as a raw number and as a percentage of the total number of observations. Then, clearly state why this is NOT a problem to be concerned about for this particular dataset. (HINT: Which variable(s) have most of the missing data and why?)\n"
   ]
  },
  {
   "cell_type": "code",
   "execution_count": 63,
   "metadata": {},
   "outputs": [
    {
     "name": "stdout",
     "output_type": "stream",
     "text": [
      "Number of observations that are complete: 5956\n",
      "Percent of observations that are complete: 0.02989944829594229\n"
     ]
    }
   ],
   "source": [
    "print(\"Number of observations that are complete:\", len(df_temps.dropna()))\n",
    "print(\"Percent of observations that are complete:\", len(df_temps.dropna()) / len(df_temps))\n",
    "\n"
   ]
  },
  {
   "cell_type": "markdown",
   "metadata": {},
   "source": [
    "**ANSWER:**\n",
    "\n",
    "This is to be expected. Most hours over a year do not have recordable wind or precipitation."
   ]
  },
  {
   "cell_type": "markdown",
   "metadata": {},
   "source": [
    "---\n",
    "**11)**\t[P] Look over your data types. By default, most of the time pandas will convert your integer types to a 64-bit integer, and floating point types will use double precision numbers. You can do far better. Read over the `pd.to_numeric()` function. Did you notice the parameter called `downcast`? Go back and read about this parameter. Downcast your types accordingly. Then, look over the output of `info()` and report your latest memory usage in MB.\n",
    "\n",
    "\n",
    "\n"
   ]
  },
  {
   "cell_type": "code",
   "execution_count": 64,
   "metadata": {
    "jupyter": {
     "outputs_hidden": false
    }
   },
   "outputs": [
    {
     "name": "stdout",
     "output_type": "stream",
     "text": [
      "<class 'pandas.core.frame.DataFrame'>\n",
      "RangeIndex: 199201 entries, 0 to 199200\n",
      "Data columns (total 13 columns):\n",
      " #   Column                         Non-Null Count   Dtype  \n",
      "---  ------                         --------------   -----  \n",
      " 0   Date/Time (GMT)                199201 non-null  object \n",
      " 1   Number of Observations (n/a)   199201 non-null  int8   \n",
      " 2   Average Temp (F)               198189 non-null  float32\n",
      " 3   Max Temp (F)                   198189 non-null  float32\n",
      " 4   Min Temp (F)                   198189 non-null  float32\n",
      " 5   Average Dewpoint Temp (F)      198067 non-null  float32\n",
      " 6   1 Hour Precip (in)             32345 non-null   float32\n",
      " 7   Max Wind Gust (mph)            26839 non-null   float32\n",
      " 8   Average Relative Humidity (%)  193828 non-null  float32\n",
      " 9   Average Wind Speed (mph)       198638 non-null  float32\n",
      " 10  Average Station Pressure (mb)  198852 non-null  float32\n",
      " 11  Average Wind Direction (deg)   165309 non-null  float32\n",
      " 12  Max Wind Speed (mph)           198638 non-null  float32\n",
      "dtypes: float32(11), int8(1), object(1)\n",
      "memory usage: 10.1+ MB\n",
      "10557781 bytes of total memory usage\n"
     ]
    }
   ],
   "source": [
    "\n",
    "df_temps[\"Number of Observations (n/a)\"] = pd.to_numeric(df_temps[\"Number of Observations (n/a)\"], downcast = 'integer')\n",
    "df_temps[\"Average Temp (F)\"] = pd.to_numeric(df_temps[\"Average Temp (F)\"], downcast = 'float')\n",
    "df_temps[\"Max Temp (F)\"] = pd.to_numeric(df_temps[\"Max Temp (F)\"], downcast = 'float')\n",
    "df_temps[\"Min Temp (F)\"] = pd.to_numeric(df_temps[\"Min Temp (F)\"], downcast = 'float')\n",
    "df_temps[\"Average Dewpoint Temp (F)\"] = pd.to_numeric(df_temps[\"Average Dewpoint Temp (F)\"], downcast = 'float')\n",
    "df_temps[\"1 Hour Precip (in)\"] = pd.to_numeric(df_temps[\"1 Hour Precip (in)\"], downcast = 'float')\n",
    "df_temps[\"Max Wind Gust (mph)\"] = pd.to_numeric(df_temps[\"Max Wind Gust (mph)\"], downcast = 'float')\n",
    "df_temps[\"Average Relative Humidity (%)\"] = pd.to_numeric(df_temps[\"Average Relative Humidity (%)\"], downcast = 'float')\n",
    "df_temps[\"Average Wind Speed (mph)\"] = pd.to_numeric(df_temps[\"Average Wind Speed (mph)\"], downcast = 'float')\n",
    "df_temps[\"Average Station Pressure (mb)\"] = pd.to_numeric(df_temps[\"Average Station Pressure (mb)\"], downcast = 'float')\n",
    "df_temps[\"Average Wind Direction (deg)\"] = pd.to_numeric(df_temps[\"Average Wind Direction (deg)\"], downcast = 'float')\n",
    "df_temps[\"Max Wind Speed (mph)\"] = pd.to_numeric(df_temps[\"Max Wind Speed (mph)\"], downcast = 'float')\n",
    "\n",
    "df_temps.info()\n",
    "print(df_temps.memory_usage().sum(), \"bytes of total memory usage\")\n"
   ]
  },
  {
   "cell_type": "markdown",
   "metadata": {},
   "source": [
    "---\n",
    "**12)**\t[P] How much did our memory footprint improve? (Show the total memory usage using `deep=True`). Report the total memory usage in MB, and report the percentage improvement."
   ]
  },
  {
   "cell_type": "code",
   "execution_count": 65,
   "metadata": {
    "jupyter": {
     "outputs_hidden": false
    }
   },
   "outputs": [
    {
     "name": "stdout",
     "output_type": "stream",
     "text": [
      "New total memory usage:  24.103449 MB\n",
      "Percentage improvement:  32.777660767527976 %\n"
     ]
    }
   ],
   "source": [
    "new_mem = sum(df_temps.memory_usage(deep = True)) / 1000000\n",
    "\n",
    "print(\"New total memory usage: \", new_mem, \"MB\")\n",
    "print(\"Percentage improvement: \", 100 - (new_mem / tot_mem * 100), \"%\")\n"
   ]
  },
  {
   "cell_type": "markdown",
   "metadata": {},
   "source": [
    "---\n",
    "# Data Transformations with Dates\n",
    "\n",
    "It is very common to deal with dates in data. Unfortunately, few organizations around the world have agreed to one format for universally representing dates in data. Adding to the complexity are time zones that you must deal with. We'll discuss that later. Let's suppose we wanted to represent February 6, 2023, depending on your location in the world, the date might be stored in the data as:\n",
    "\n",
    "* 02/06/2023\n",
    "* 06/02/23\n",
    "* 06/02/2023\n",
    "* 06.02.2023\n",
    "* 2023-Feb-06\n",
    "* February 06, 2023\n",
    "* 06-Feb-2023\n",
    "* 20230206\n",
    "\n",
    "And, there are others! Insanity! Can't we all just get along??? (Apparently not, especially when it comes to dates and times, and currencies, and food, and etc.) The fact is that these are all acceptable formats for dates. Sometimes pandas can do a pretty good just detecting date fields. However, as we noticed in this case, not always. It's up to YOU to make sure you convert your data to the most appropriate type.\n",
    "\n",
    "Generally speaking, when your data consists of a series of observations recorded over time, we refer to these types of data as **time series** data. And, usually every observation will have a time or a date variable that identifies when the observation was recorded.\n",
    "\n",
    "[Time series / date functionality](https://pandas.pydata.org/pandas-docs/stable/user_guide/timeseries.html) has just about everything you need to deal with dates with time series data. It has far more than you'll need   . As with most of the API with core packages like pandas, there is a LOT to absorb, and at best, you'll just become familiar with how to find the answers you are after in their documentation!\n",
    "\n",
    "This portion of the lab will help you learn how to confidently work with dates and times in data.\n",
    "\n"
   ]
  },
  {
   "cell_type": "markdown",
   "metadata": {},
   "source": [
    "---\n",
    "**13)**\t[M] There are four primary classes in pandas for working with dates and times? Consider the Scalar Class for each, and state what concept each is representing."
   ]
  },
  {
   "cell_type": "markdown",
   "metadata": {},
   "source": [
    "**ANSWER:** \n",
    "- Date times: has a Timestamp scalar class, this class represents a date time datatype\n",
    "- Time deltas: has a Timedelta scalar class, this class represents the delta between two times\n",
    "- Time spans: has a Period scalar class, this class represents a time span specified by two times\n",
    "- Date offsets: has a DateOffset scalar class, this class represents offsets between specified dates.\n",
    "\n"
   ]
  },
  {
   "cell_type": "markdown",
   "metadata": {},
   "source": [
    "---\n",
    "**14)**\t[M] For each above, state the primary creation method used to create each type of data"
   ]
  },
  {
   "cell_type": "markdown",
   "metadata": {},
   "source": [
    "**ANSWER:**\n",
    "- Date times: to_datetime or date_range\n",
    "- Time deltas: to_timedelta or timedelta_range\n",
    "- Time spans: Period or period_range\n",
    "- Date offsets: DateOffset\n",
    "\n",
    "\n",
    "\n",
    "\n",
    "\n"
   ]
  },
  {
   "cell_type": "markdown",
   "metadata": {},
   "source": [
    "---\n",
    "**15)**\t[P] Create a Timestamp object from the string \"07/04/19\", which is a date representing July 4, 2019. Store the object as `d1` and show it."
   ]
  },
  {
   "cell_type": "code",
   "execution_count": 66,
   "metadata": {
    "jupyter": {
     "outputs_hidden": false
    }
   },
   "outputs": [
    {
     "data": {
      "text/plain": [
       "Timestamp('2019-07-04 00:00:00')"
      ]
     },
     "execution_count": 66,
     "metadata": {},
     "output_type": "execute_result"
    }
   ],
   "source": [
    "# Citation: https://pandas.pydata.org/pandas-docs/stable/user_guide/timeseries.html\n",
    "d1 = pd.Timestamp(\"07/04/19\")\n",
    "d1\n",
    "\n"
   ]
  },
  {
   "cell_type": "markdown",
   "metadata": {},
   "source": [
    "---\n",
    "**16)**\t[P] Using `d1` and string formatting codes, print the string from `d1`:\n",
    "\n",
    "\"Today's date is Thursday, July 4, 2019\". "
   ]
  },
  {
   "cell_type": "code",
   "execution_count": 67,
   "metadata": {
    "jupyter": {
     "outputs_hidden": false
    }
   },
   "outputs": [
    {
     "name": "stdout",
     "output_type": "stream",
     "text": [
      "Today's date is Thursday, July 04, 2019.\n"
     ]
    }
   ],
   "source": [
    "# Citation: chatGPT\n",
    "print(\"Today's date is {0:%A, %B %d, %Y}.\".format(d1))\n",
    "\n"
   ]
  },
  {
   "cell_type": "markdown",
   "metadata": {},
   "source": [
    "---\n",
    "**17)**\t[P] Create another Timestamp object representing Sept 7, 2019 at 3pm, called `d2`. Report it"
   ]
  },
  {
   "cell_type": "code",
   "execution_count": 68,
   "metadata": {
    "jupyter": {
     "outputs_hidden": false
    }
   },
   "outputs": [
    {
     "data": {
      "text/plain": [
       "Timestamp('2019-09-07 15:00:00')"
      ]
     },
     "execution_count": 68,
     "metadata": {},
     "output_type": "execute_result"
    }
   ],
   "source": [
    "# Citation: https://pandas.pydata.org/docs/reference/api/pandas.Timestamp.html\n",
    "d2 = pd.Timestamp(\"09/07/19 3:00 PM\")\n",
    "d2\n",
    "\n",
    "\n"
   ]
  },
  {
   "cell_type": "markdown",
   "metadata": {},
   "source": [
    "---\n",
    "**18)**\t[P] Subtract `d1` from the value of `d2` (i.e `d2 - d1`) and report the difference as the number of days and seconds between these two. Also report the difference as total seconds.  (NOTE: The difference should be 65 days, 54000 seconds. Or 5670000 total seconds.)"
   ]
  },
  {
   "cell_type": "code",
   "execution_count": 69,
   "metadata": {
    "jupyter": {
     "outputs_hidden": false
    }
   },
   "outputs": [
    {
     "name": "stdout",
     "output_type": "stream",
     "text": [
      "65 days, 54000 seconds\n",
      "5670000.0 total seconds\n"
     ]
    }
   ],
   "source": [
    "# Citation: chatGPT\n",
    "diff = d2 - d1\n",
    "\n",
    "print(diff.days, \"days,\", diff.seconds, \"seconds\")\n",
    "\n",
    "print(diff.total_seconds(), \"total seconds\")\n"
   ]
  },
  {
   "cell_type": "markdown",
   "metadata": {},
   "source": [
    "---\n",
    "**19)**\t[P] Create a new Timestamp object from the string \"2019-07-01 08:30pm\", but, localize the time stamp to represent the time in the US Eastern Time Zone. Store the result as `d3` and output it."
   ]
  },
  {
   "cell_type": "code",
   "execution_count": 70,
   "metadata": {
    "jupyter": {
     "outputs_hidden": false
    }
   },
   "outputs": [
    {
     "data": {
      "text/plain": [
       "Timestamp('2019-07-01 20:30:00-0400', tz='America/New_York')"
      ]
     },
     "execution_count": 70,
     "metadata": {},
     "output_type": "execute_result"
    }
   ],
   "source": [
    "# Citation: https://pandas.pydata.org/docs/reference/api/pandas.Timestamp.html\n",
    "d3 = pd.Timestamp(\"2019-07-01 08:30 PM\", tz='America/New_York')\n",
    "\n",
    "d3\n",
    "\n"
   ]
  },
  {
   "cell_type": "markdown",
   "metadata": {},
   "source": [
    "---\n",
    "**20)**\t[P] Show time represented by `d3`, but converted to the US / Pacific Time Zone. The time reported should be three hours earlier than EST shown in the previous question."
   ]
  },
  {
   "cell_type": "code",
   "execution_count": 71,
   "metadata": {
    "jupyter": {
     "outputs_hidden": false
    }
   },
   "outputs": [
    {
     "name": "stdout",
     "output_type": "stream",
     "text": [
      "2019-07-01 17:30:00-07:00\n"
     ]
    }
   ],
   "source": [
    "print(d3.tz_convert('America/Los_Angeles'))\n",
    "\n"
   ]
  },
  {
   "cell_type": "markdown",
   "metadata": {},
   "source": [
    "---\n",
    "**21)**\t[P] Create a Timestamp object representing right now, stored as `ts_now`. Report the result.\n"
   ]
  },
  {
   "cell_type": "code",
   "execution_count": 72,
   "metadata": {
    "jupyter": {
     "outputs_hidden": false
    }
   },
   "outputs": [
    {
     "data": {
      "text/plain": [
       "Timestamp('2023-02-08 17:45:33.701648')"
      ]
     },
     "execution_count": 72,
     "metadata": {},
     "output_type": "execute_result"
    }
   ],
   "source": [
    "ts_now = pd.Timestamp.now()\n",
    "\n",
    "ts_now\n",
    "\n"
   ]
  },
  {
   "cell_type": "markdown",
   "metadata": {},
   "source": [
    "---\n",
    "**22)**\t[P] Create a Timedelta object representing 1 hour, stored as `td_hour`. Report the result."
   ]
  },
  {
   "cell_type": "code",
   "execution_count": 73,
   "metadata": {
    "jupyter": {
     "outputs_hidden": false
    }
   },
   "outputs": [
    {
     "data": {
      "text/plain": [
       "Timedelta('0 days 01:00:00')"
      ]
     },
     "execution_count": 73,
     "metadata": {},
     "output_type": "execute_result"
    }
   ],
   "source": [
    "td_hour = pd.Timedelta(hours=1)\n",
    "\n",
    "td_hour\n",
    "\n"
   ]
  },
  {
   "cell_type": "markdown",
   "metadata": {},
   "source": [
    "---\n",
    "**23)**\t[P] Demonstrate how you can do basic mathematical operations by adding 6 hours to `ts_now` using `td_hour` and basic math operations. (i.e. No loops or further calculations necessary!)"
   ]
  },
  {
   "cell_type": "code",
   "execution_count": 74,
   "metadata": {
    "jupyter": {
     "outputs_hidden": false
    }
   },
   "outputs": [
    {
     "data": {
      "text/plain": [
       "Timestamp('2023-02-08 23:45:33.701648')"
      ]
     },
     "execution_count": 74,
     "metadata": {},
     "output_type": "execute_result"
    }
   ],
   "source": [
    "ts_now + (6 * td_hour)\n",
    "\n"
   ]
  },
  {
   "cell_type": "markdown",
   "metadata": {},
   "source": [
    "---\n",
    "**24)**\t[P] Create a DatetimeIndex object that represents every hour during the month of January, 2020. The first index should be midnight, January 1, 2020, and the last index should be January 31, 2020 at 11pm. Store the object as `dr`. (HINT – use the `pd.date_range()` method)"
   ]
  },
  {
   "cell_type": "code",
   "execution_count": 75,
   "metadata": {
    "jupyter": {
     "outputs_hidden": false
    }
   },
   "outputs": [
    {
     "data": {
      "text/plain": [
       "DatetimeIndex(['2020-01-01 00:00:00', '2020-01-01 01:00:00',\n",
       "               '2020-01-01 02:00:00', '2020-01-01 03:00:00',\n",
       "               '2020-01-01 04:00:00', '2020-01-01 05:00:00',\n",
       "               '2020-01-01 06:00:00', '2020-01-01 07:00:00',\n",
       "               '2020-01-01 08:00:00', '2020-01-01 09:00:00',\n",
       "               ...\n",
       "               '2020-01-31 15:00:00', '2020-01-31 16:00:00',\n",
       "               '2020-01-31 17:00:00', '2020-01-31 18:00:00',\n",
       "               '2020-01-31 19:00:00', '2020-01-31 20:00:00',\n",
       "               '2020-01-31 21:00:00', '2020-01-31 22:00:00',\n",
       "               '2020-01-31 23:00:00', '2020-02-01 00:00:00'],\n",
       "              dtype='datetime64[ns]', length=745, freq='H')"
      ]
     },
     "execution_count": 75,
     "metadata": {},
     "output_type": "execute_result"
    }
   ],
   "source": [
    "dr = pd.date_range(start = \"2020-01-01\", end = \"2020-02-01\", freq = \"H\")\n",
    "\n",
    "dr\n",
    "\n"
   ]
  },
  {
   "cell_type": "markdown",
   "metadata": {},
   "source": [
    "---\n",
    "OK, so that was a little practice with understanding how to work a bit with dates and times. They are objects, with lots of methods to help you access those timestamps in different ways.\n",
    "\n",
    "Back to our weather data. Usually, the index to a dataframe represents the data you will use most often to access and select your data. In the case of a time series dataset, the index is usually the time. In other words, every observation should be indexed by a Timestamp object! You'll make that happen next…"
   ]
  },
  {
   "cell_type": "markdown",
   "metadata": {},
   "source": [
    "---\n",
    "**25)**\t[P] The first variable in our data is currently an object. But, notice the name and its units? It's a date/time in the GMT time zone! Convert the first column of data into an actual time stamp.\n",
    "\n",
    "NOTE: You can NOT simply generate this column using your own date range object! You must generate it directly from the actual time/date stamp in the data! Why? **This is very important. Do NOT ever be fooled into thinking any real-world dataset you are dealing with is 100% complete.** There are **missing observations** in these data, and your data will be massively flawed if you neglect this! If you simply try to use a date range between 1/1 – 12/31, with every hour, you are making an incorrect assumption that every observation is present.\n",
    "\n",
    "(HINT: Go back to your reference table. You are creating an array of timestamps. Which function? Either `to_datetime` or `date_range`. We already told you that `date_range` is wrong above.)\n"
   ]
  },
  {
   "cell_type": "code",
   "execution_count": 76,
   "metadata": {
    "jupyter": {
     "outputs_hidden": false
    }
   },
   "outputs": [],
   "source": [
    "df_temps[\"Date/Time (GMT)\"] = pd.to_datetime(df_temps[\"Date/Time (GMT)\"])\n",
    "\n",
    "\n"
   ]
  },
  {
   "cell_type": "markdown",
   "metadata": {},
   "source": [
    "---\n",
    "**26)**\t[P] Confirm that your first column data type is now a timestamp by showing the output of `df_temps.info()`. (It should show that it is datetime64, to be exact) .  Then, show the values of the first column of the first AND last row only.  Your result should look like:\n",
    "\n",
    "```\n",
    "0        2000-01-01 00:00:00\n",
    "199200   2022-12-31 23:00:00\n",
    "```"
   ]
  },
  {
   "cell_type": "code",
   "execution_count": 77,
   "metadata": {
    "jupyter": {
     "outputs_hidden": false
    }
   },
   "outputs": [
    {
     "name": "stdout",
     "output_type": "stream",
     "text": [
      "<class 'pandas.core.frame.DataFrame'>\n",
      "RangeIndex: 199201 entries, 0 to 199200\n",
      "Data columns (total 13 columns):\n",
      " #   Column                         Non-Null Count   Dtype         \n",
      "---  ------                         --------------   -----         \n",
      " 0   Date/Time (GMT)                199201 non-null  datetime64[ns]\n",
      " 1   Number of Observations (n/a)   199201 non-null  int8          \n",
      " 2   Average Temp (F)               198189 non-null  float32       \n",
      " 3   Max Temp (F)                   198189 non-null  float32       \n",
      " 4   Min Temp (F)                   198189 non-null  float32       \n",
      " 5   Average Dewpoint Temp (F)      198067 non-null  float32       \n",
      " 6   1 Hour Precip (in)             32345 non-null   float32       \n",
      " 7   Max Wind Gust (mph)            26839 non-null   float32       \n",
      " 8   Average Relative Humidity (%)  193828 non-null  float32       \n",
      " 9   Average Wind Speed (mph)       198638 non-null  float32       \n",
      " 10  Average Station Pressure (mb)  198852 non-null  float32       \n",
      " 11  Average Wind Direction (deg)   165309 non-null  float32       \n",
      " 12  Max Wind Speed (mph)           198638 non-null  float32       \n",
      "dtypes: datetime64[ns](1), float32(11), int8(1)\n",
      "memory usage: 10.1 MB\n"
     ]
    }
   ],
   "source": [
    "df_temps.info()\n",
    "\n"
   ]
  },
  {
   "cell_type": "code",
   "execution_count": 78,
   "metadata": {},
   "outputs": [
    {
     "name": "stdout",
     "output_type": "stream",
     "text": [
      "2000-01-01 00:00:00\n",
      "2022-12-31 23:00:00\n"
     ]
    }
   ],
   "source": [
    "print(df_temps.iloc[0, 0])\n",
    "print(df_temps.iloc[-1, 0])"
   ]
  },
  {
   "cell_type": "markdown",
   "metadata": {},
   "source": [
    "---\n",
    "**27)**\tFinally, let's move that first column to be the new index for your dataframe. Use the `set_index` method of `df_temps` to be the first column of data, then use the `drop` method to eliminate the first column. It is now your index, and thus there is no need to keep this information twice."
   ]
  },
  {
   "cell_type": "code",
   "execution_count": 79,
   "metadata": {
    "jupyter": {
     "outputs_hidden": false
    }
   },
   "outputs": [
    {
     "data": {
      "text/html": [
       "<div>\n",
       "<style scoped>\n",
       "    .dataframe tbody tr th:only-of-type {\n",
       "        vertical-align: middle;\n",
       "    }\n",
       "\n",
       "    .dataframe tbody tr th {\n",
       "        vertical-align: top;\n",
       "    }\n",
       "\n",
       "    .dataframe thead th {\n",
       "        text-align: right;\n",
       "    }\n",
       "</style>\n",
       "<table border=\"1\" class=\"dataframe\">\n",
       "  <thead>\n",
       "    <tr style=\"text-align: right;\">\n",
       "      <th></th>\n",
       "      <th>Number of Observations (n/a)</th>\n",
       "      <th>Average Temp (F)</th>\n",
       "      <th>Max Temp (F)</th>\n",
       "      <th>Min Temp (F)</th>\n",
       "      <th>Average Dewpoint Temp (F)</th>\n",
       "      <th>1 Hour Precip (in)</th>\n",
       "      <th>Max Wind Gust (mph)</th>\n",
       "      <th>Average Relative Humidity (%)</th>\n",
       "      <th>Average Wind Speed (mph)</th>\n",
       "      <th>Average Station Pressure (mb)</th>\n",
       "      <th>Average Wind Direction (deg)</th>\n",
       "      <th>Max Wind Speed (mph)</th>\n",
       "    </tr>\n",
       "    <tr>\n",
       "      <th>Date/Time (GMT)</th>\n",
       "      <th></th>\n",
       "      <th></th>\n",
       "      <th></th>\n",
       "      <th></th>\n",
       "      <th></th>\n",
       "      <th></th>\n",
       "      <th></th>\n",
       "      <th></th>\n",
       "      <th></th>\n",
       "      <th></th>\n",
       "      <th></th>\n",
       "      <th></th>\n",
       "    </tr>\n",
       "  </thead>\n",
       "  <tbody>\n",
       "    <tr>\n",
       "      <th>2000-01-01 00:00:00</th>\n",
       "      <td>1</td>\n",
       "      <td>26.100000</td>\n",
       "      <td>26.100000</td>\n",
       "      <td>26.100000</td>\n",
       "      <td>14.000000</td>\n",
       "      <td>NaN</td>\n",
       "      <td>20.700001</td>\n",
       "      <td>59.000000</td>\n",
       "      <td>17.299999</td>\n",
       "      <td>1015.200012</td>\n",
       "      <td>280.000000</td>\n",
       "      <td>17.299999</td>\n",
       "    </tr>\n",
       "    <tr>\n",
       "      <th>2000-01-01 01:00:00</th>\n",
       "      <td>1</td>\n",
       "      <td>26.100000</td>\n",
       "      <td>26.100000</td>\n",
       "      <td>26.100000</td>\n",
       "      <td>14.000000</td>\n",
       "      <td>NaN</td>\n",
       "      <td>NaN</td>\n",
       "      <td>59.000000</td>\n",
       "      <td>16.100000</td>\n",
       "      <td>1015.900024</td>\n",
       "      <td>280.000000</td>\n",
       "      <td>16.100000</td>\n",
       "    </tr>\n",
       "    <tr>\n",
       "      <th>2000-01-01 02:00:00</th>\n",
       "      <td>1</td>\n",
       "      <td>26.100000</td>\n",
       "      <td>26.100000</td>\n",
       "      <td>26.100000</td>\n",
       "      <td>15.100000</td>\n",
       "      <td>NaN</td>\n",
       "      <td>NaN</td>\n",
       "      <td>62.000000</td>\n",
       "      <td>15.000000</td>\n",
       "      <td>1016.299988</td>\n",
       "      <td>280.000000</td>\n",
       "      <td>15.000000</td>\n",
       "    </tr>\n",
       "    <tr>\n",
       "      <th>2000-01-01 03:00:00</th>\n",
       "      <td>1</td>\n",
       "      <td>26.100000</td>\n",
       "      <td>26.100000</td>\n",
       "      <td>26.100000</td>\n",
       "      <td>12.000000</td>\n",
       "      <td>NaN</td>\n",
       "      <td>NaN</td>\n",
       "      <td>54.000000</td>\n",
       "      <td>16.100000</td>\n",
       "      <td>1016.599976</td>\n",
       "      <td>270.000000</td>\n",
       "      <td>16.100000</td>\n",
       "    </tr>\n",
       "    <tr>\n",
       "      <th>2000-01-01 04:00:00</th>\n",
       "      <td>1</td>\n",
       "      <td>26.100000</td>\n",
       "      <td>26.100000</td>\n",
       "      <td>26.100000</td>\n",
       "      <td>14.000000</td>\n",
       "      <td>NaN</td>\n",
       "      <td>NaN</td>\n",
       "      <td>59.000000</td>\n",
       "      <td>12.700000</td>\n",
       "      <td>1017.299988</td>\n",
       "      <td>280.000000</td>\n",
       "      <td>12.700000</td>\n",
       "    </tr>\n",
       "    <tr>\n",
       "      <th>...</th>\n",
       "      <td>...</td>\n",
       "      <td>...</td>\n",
       "      <td>...</td>\n",
       "      <td>...</td>\n",
       "      <td>...</td>\n",
       "      <td>...</td>\n",
       "      <td>...</td>\n",
       "      <td>...</td>\n",
       "      <td>...</td>\n",
       "      <td>...</td>\n",
       "      <td>...</td>\n",
       "      <td>...</td>\n",
       "    </tr>\n",
       "    <tr>\n",
       "      <th>2022-12-31 19:00:00</th>\n",
       "      <td>2</td>\n",
       "      <td>46.950001</td>\n",
       "      <td>48.900002</td>\n",
       "      <td>45.000000</td>\n",
       "      <td>39.000000</td>\n",
       "      <td>NaN</td>\n",
       "      <td>NaN</td>\n",
       "      <td>74.500000</td>\n",
       "      <td>1.750000</td>\n",
       "      <td>1010.599976</td>\n",
       "      <td>120.000000</td>\n",
       "      <td>3.500000</td>\n",
       "    </tr>\n",
       "    <tr>\n",
       "      <th>2022-12-31 20:00:00</th>\n",
       "      <td>3</td>\n",
       "      <td>45.470001</td>\n",
       "      <td>46.400002</td>\n",
       "      <td>45.000000</td>\n",
       "      <td>39.369999</td>\n",
       "      <td>NaN</td>\n",
       "      <td>NaN</td>\n",
       "      <td>79.330002</td>\n",
       "      <td>3.100000</td>\n",
       "      <td>1010.200012</td>\n",
       "      <td>173.330002</td>\n",
       "      <td>5.800000</td>\n",
       "    </tr>\n",
       "    <tr>\n",
       "      <th>2022-12-31 21:00:00</th>\n",
       "      <td>2</td>\n",
       "      <td>46.450001</td>\n",
       "      <td>46.900002</td>\n",
       "      <td>46.000000</td>\n",
       "      <td>39.450001</td>\n",
       "      <td>0.00</td>\n",
       "      <td>NaN</td>\n",
       "      <td>76.500000</td>\n",
       "      <td>5.200000</td>\n",
       "      <td>1010.400024</td>\n",
       "      <td>280.000000</td>\n",
       "      <td>6.900000</td>\n",
       "    </tr>\n",
       "    <tr>\n",
       "      <th>2022-12-31 22:00:00</th>\n",
       "      <td>1</td>\n",
       "      <td>46.000000</td>\n",
       "      <td>46.000000</td>\n",
       "      <td>46.000000</td>\n",
       "      <td>39.900002</td>\n",
       "      <td>0.02</td>\n",
       "      <td>NaN</td>\n",
       "      <td>79.000000</td>\n",
       "      <td>3.500000</td>\n",
       "      <td>1010.200012</td>\n",
       "      <td>270.000000</td>\n",
       "      <td>3.500000</td>\n",
       "    </tr>\n",
       "    <tr>\n",
       "      <th>2022-12-31 23:00:00</th>\n",
       "      <td>1</td>\n",
       "      <td>44.099998</td>\n",
       "      <td>44.099998</td>\n",
       "      <td>44.099998</td>\n",
       "      <td>39.000000</td>\n",
       "      <td>0.01</td>\n",
       "      <td>NaN</td>\n",
       "      <td>82.000000</td>\n",
       "      <td>5.800000</td>\n",
       "      <td>1009.099976</td>\n",
       "      <td>250.000000</td>\n",
       "      <td>5.800000</td>\n",
       "    </tr>\n",
       "  </tbody>\n",
       "</table>\n",
       "<p>199201 rows × 12 columns</p>\n",
       "</div>"
      ],
      "text/plain": [
       "                     Number of Observations (n/a)  Average Temp (F)  \\\n",
       "Date/Time (GMT)                                                       \n",
       "2000-01-01 00:00:00                             1         26.100000   \n",
       "2000-01-01 01:00:00                             1         26.100000   \n",
       "2000-01-01 02:00:00                             1         26.100000   \n",
       "2000-01-01 03:00:00                             1         26.100000   \n",
       "2000-01-01 04:00:00                             1         26.100000   \n",
       "...                                           ...               ...   \n",
       "2022-12-31 19:00:00                             2         46.950001   \n",
       "2022-12-31 20:00:00                             3         45.470001   \n",
       "2022-12-31 21:00:00                             2         46.450001   \n",
       "2022-12-31 22:00:00                             1         46.000000   \n",
       "2022-12-31 23:00:00                             1         44.099998   \n",
       "\n",
       "                     Max Temp (F)  Min Temp (F)  Average Dewpoint Temp (F)  \\\n",
       "Date/Time (GMT)                                                              \n",
       "2000-01-01 00:00:00     26.100000     26.100000                  14.000000   \n",
       "2000-01-01 01:00:00     26.100000     26.100000                  14.000000   \n",
       "2000-01-01 02:00:00     26.100000     26.100000                  15.100000   \n",
       "2000-01-01 03:00:00     26.100000     26.100000                  12.000000   \n",
       "2000-01-01 04:00:00     26.100000     26.100000                  14.000000   \n",
       "...                           ...           ...                        ...   \n",
       "2022-12-31 19:00:00     48.900002     45.000000                  39.000000   \n",
       "2022-12-31 20:00:00     46.400002     45.000000                  39.369999   \n",
       "2022-12-31 21:00:00     46.900002     46.000000                  39.450001   \n",
       "2022-12-31 22:00:00     46.000000     46.000000                  39.900002   \n",
       "2022-12-31 23:00:00     44.099998     44.099998                  39.000000   \n",
       "\n",
       "                     1 Hour Precip (in)  Max Wind Gust (mph)  \\\n",
       "Date/Time (GMT)                                                \n",
       "2000-01-01 00:00:00                 NaN            20.700001   \n",
       "2000-01-01 01:00:00                 NaN                  NaN   \n",
       "2000-01-01 02:00:00                 NaN                  NaN   \n",
       "2000-01-01 03:00:00                 NaN                  NaN   \n",
       "2000-01-01 04:00:00                 NaN                  NaN   \n",
       "...                                 ...                  ...   \n",
       "2022-12-31 19:00:00                 NaN                  NaN   \n",
       "2022-12-31 20:00:00                 NaN                  NaN   \n",
       "2022-12-31 21:00:00                0.00                  NaN   \n",
       "2022-12-31 22:00:00                0.02                  NaN   \n",
       "2022-12-31 23:00:00                0.01                  NaN   \n",
       "\n",
       "                     Average Relative Humidity (%)  Average Wind Speed (mph)  \\\n",
       "Date/Time (GMT)                                                                \n",
       "2000-01-01 00:00:00                      59.000000                 17.299999   \n",
       "2000-01-01 01:00:00                      59.000000                 16.100000   \n",
       "2000-01-01 02:00:00                      62.000000                 15.000000   \n",
       "2000-01-01 03:00:00                      54.000000                 16.100000   \n",
       "2000-01-01 04:00:00                      59.000000                 12.700000   \n",
       "...                                            ...                       ...   \n",
       "2022-12-31 19:00:00                      74.500000                  1.750000   \n",
       "2022-12-31 20:00:00                      79.330002                  3.100000   \n",
       "2022-12-31 21:00:00                      76.500000                  5.200000   \n",
       "2022-12-31 22:00:00                      79.000000                  3.500000   \n",
       "2022-12-31 23:00:00                      82.000000                  5.800000   \n",
       "\n",
       "                     Average Station Pressure (mb)  \\\n",
       "Date/Time (GMT)                                      \n",
       "2000-01-01 00:00:00                    1015.200012   \n",
       "2000-01-01 01:00:00                    1015.900024   \n",
       "2000-01-01 02:00:00                    1016.299988   \n",
       "2000-01-01 03:00:00                    1016.599976   \n",
       "2000-01-01 04:00:00                    1017.299988   \n",
       "...                                            ...   \n",
       "2022-12-31 19:00:00                    1010.599976   \n",
       "2022-12-31 20:00:00                    1010.200012   \n",
       "2022-12-31 21:00:00                    1010.400024   \n",
       "2022-12-31 22:00:00                    1010.200012   \n",
       "2022-12-31 23:00:00                    1009.099976   \n",
       "\n",
       "                     Average Wind Direction (deg)  Max Wind Speed (mph)  \n",
       "Date/Time (GMT)                                                          \n",
       "2000-01-01 00:00:00                    280.000000             17.299999  \n",
       "2000-01-01 01:00:00                    280.000000             16.100000  \n",
       "2000-01-01 02:00:00                    280.000000             15.000000  \n",
       "2000-01-01 03:00:00                    270.000000             16.100000  \n",
       "2000-01-01 04:00:00                    280.000000             12.700000  \n",
       "...                                           ...                   ...  \n",
       "2022-12-31 19:00:00                    120.000000              3.500000  \n",
       "2022-12-31 20:00:00                    173.330002              5.800000  \n",
       "2022-12-31 21:00:00                    280.000000              6.900000  \n",
       "2022-12-31 22:00:00                    270.000000              3.500000  \n",
       "2022-12-31 23:00:00                    250.000000              5.800000  \n",
       "\n",
       "[199201 rows x 12 columns]"
      ]
     },
     "execution_count": 79,
     "metadata": {},
     "output_type": "execute_result"
    }
   ],
   "source": [
    "df_temps = df_temps.set_index(\"Date/Time (GMT)\", drop = True)\n",
    "df_temps\n",
    "\n",
    "\n"
   ]
  },
  {
   "cell_type": "markdown",
   "metadata": {},
   "source": [
    "---\n",
    "\n",
    "**28)**\t[P] Give one final report on the total memory usage, and also show the % memory reduction made compared to when you first loaded the data.\n",
    "\n",
    "Again, please take this seriously. This is a substantial amount of memory saved! Why? Because you took the time to properly process every column to have it represent its most accurate type, using the smallest type necessary. HUGE savings!"
   ]
  },
  {
   "cell_type": "code",
   "execution_count": 80,
   "metadata": {
    "jupyter": {
     "outputs_hidden": false
    }
   },
   "outputs": [
    {
     "name": "stdout",
     "output_type": "stream",
     "text": [
      "New total memory usage:  10.557653 MB\n",
      "Percentage improvement:  70.5556606664579 %\n"
     ]
    }
   ],
   "source": [
    "temp_mem = sum(df_temps.memory_usage(deep = True)) / 1000000\n",
    "\n",
    "print(\"New total memory usage: \", temp_mem, \"MB\")\n",
    "print(\"Percentage improvement: \", 100 - (temp_mem / tot_mem * 100), \"%\")\n"
   ]
  },
  {
   "cell_type": "markdown",
   "metadata": {},
   "source": [
    "---\n",
    "**29)**\t [P] This dataset has missing observations. But, how many? First, calculate how many observations SHOULD be there. Use the difference between the first and last index value to compute this.\n",
    "\n",
    "HINT: You should have well over 2000 missing hourly observations."
   ]
  },
  {
   "cell_type": "code",
   "execution_count": 81,
   "metadata": {
    "jupyter": {
     "outputs_hidden": false
    }
   },
   "outputs": [
    {
     "name": "stdout",
     "output_type": "stream",
     "text": [
      "Number of missing observations:  2423.0\n"
     ]
    }
   ],
   "source": [
    "tdelta = df_temps.index[-1] - df_temps.index[0] + td_hour\n",
    "print(\"Number of missing observations: \", \n",
    "      tdelta.total_seconds() / 3600 - (df_temps.shape[0]))"
   ]
  },
  {
   "cell_type": "markdown",
   "metadata": {},
   "source": [
    "---\n",
    "**30)**\t[P] There are quite a lot! It's time to investigate. Create a data frame called df_missing that has an index of the time stamp of every missing date, with a simple variable called \"missing\" that has a value of 1 for every entry. (i.e. it should only contain the missing dates.) Report the number of rows in df_missing. It should match the number you computed previously."
   ]
  },
  {
   "cell_type": "code",
   "execution_count": 91,
   "metadata": {
    "jupyter": {
     "outputs_hidden": false
    }
   },
   "outputs": [
    {
     "data": {
      "text/html": [
       "<div>\n",
       "<style scoped>\n",
       "    .dataframe tbody tr th:only-of-type {\n",
       "        vertical-align: middle;\n",
       "    }\n",
       "\n",
       "    .dataframe tbody tr th {\n",
       "        vertical-align: top;\n",
       "    }\n",
       "\n",
       "    .dataframe thead th {\n",
       "        text-align: right;\n",
       "    }\n",
       "</style>\n",
       "<table border=\"1\" class=\"dataframe\">\n",
       "  <thead>\n",
       "    <tr style=\"text-align: right;\">\n",
       "      <th></th>\n",
       "      <th>missing</th>\n",
       "    </tr>\n",
       "  </thead>\n",
       "  <tbody>\n",
       "    <tr>\n",
       "      <th>2000-01-03 18:00:00</th>\n",
       "      <td>1</td>\n",
       "    </tr>\n",
       "    <tr>\n",
       "      <th>2000-01-05 17:00:00</th>\n",
       "      <td>1</td>\n",
       "    </tr>\n",
       "    <tr>\n",
       "      <th>2000-01-06 20:00:00</th>\n",
       "      <td>1</td>\n",
       "    </tr>\n",
       "    <tr>\n",
       "      <th>2000-01-07 14:00:00</th>\n",
       "      <td>1</td>\n",
       "    </tr>\n",
       "    <tr>\n",
       "      <th>2000-01-11 20:00:00</th>\n",
       "      <td>1</td>\n",
       "    </tr>\n",
       "    <tr>\n",
       "      <th>...</th>\n",
       "      <td>...</td>\n",
       "    </tr>\n",
       "    <tr>\n",
       "      <th>2022-12-23 22:00:00</th>\n",
       "      <td>1</td>\n",
       "    </tr>\n",
       "    <tr>\n",
       "      <th>2022-12-24 22:00:00</th>\n",
       "      <td>1</td>\n",
       "    </tr>\n",
       "    <tr>\n",
       "      <th>2022-12-27 21:00:00</th>\n",
       "      <td>1</td>\n",
       "    </tr>\n",
       "    <tr>\n",
       "      <th>2022-12-27 22:00:00</th>\n",
       "      <td>1</td>\n",
       "    </tr>\n",
       "    <tr>\n",
       "      <th>2022-12-30 22:00:00</th>\n",
       "      <td>1</td>\n",
       "    </tr>\n",
       "  </tbody>\n",
       "</table>\n",
       "<p>2423 rows × 1 columns</p>\n",
       "</div>"
      ],
      "text/plain": [
       "                     missing\n",
       "2000-01-03 18:00:00        1\n",
       "2000-01-05 17:00:00        1\n",
       "2000-01-06 20:00:00        1\n",
       "2000-01-07 14:00:00        1\n",
       "2000-01-11 20:00:00        1\n",
       "...                      ...\n",
       "2022-12-23 22:00:00        1\n",
       "2022-12-24 22:00:00        1\n",
       "2022-12-27 21:00:00        1\n",
       "2022-12-27 22:00:00        1\n",
       "2022-12-30 22:00:00        1\n",
       "\n",
       "[2423 rows x 1 columns]"
      ]
     },
     "execution_count": 91,
     "metadata": {},
     "output_type": "execute_result"
    }
   ],
   "source": [
    "all_dates = pd.date_range(start = df_temps.index[0], end = df_temps.index[-1], freq='H')\n",
    "missing_dates = all_dates.difference(df_temps.index)\n",
    "\n",
    "df_missing = pd.DataFrame({\"missing\": [1] * len(missing_dates)}, index = missing_dates)\n",
    "\n",
    "df_missing\n",
    "\n",
    "\n",
    "\n",
    "\n",
    "\n",
    "\n"
   ]
  },
  {
   "cell_type": "markdown",
   "metadata": {},
   "source": [
    "---\n",
    "**31)**\tLet's get a sense of which years seem to be missing the most data. How? Well, the easiest approach is probably to use the `resample()` method of data frames. Check out [this section on resampling](https://pandas.pydata.org/pandas-docs/stable/user_guide/timeseries.html#resampling). This method works phenomenally well for grouping and aggregating your data when you have a datetime index type.\n",
    "\n",
    "We're going to resample our data by year, and perform a count aggregation all in one line:\n",
    "\n",
    "Enter the following:\n",
    "`df_missing_by_year = df_missing.resample('Y').count()`\n",
    "\n",
    "There are many, many ways you can resample your data. You need to jump over to the options for dateoffset objects. Check out [DateOffset information](https://pandas.pydata.org/pandas-docs/stable/user_guide/timeseries.html#dateoffset-objects) you'll need.\n",
    "\n",
    "Show the result of `df_missing_by_year`\n",
    "\n",
    "HINT - your first four rows should something like the following...\n",
    "```\n",
    "                           missing\n",
    "2000-12-31 00:00:00+00:00      792\n",
    "2001-12-31 00:00:00+00:00       54\n",
    "2002-12-31 00:00:00+00:00       30\n",
    "2003-12-31 00:00:00+00:00       39\n",
    "```\n"
   ]
  },
  {
   "cell_type": "code",
   "execution_count": 92,
   "metadata": {
    "jupyter": {
     "outputs_hidden": false
    }
   },
   "outputs": [
    {
     "data": {
      "text/html": [
       "<div>\n",
       "<style scoped>\n",
       "    .dataframe tbody tr th:only-of-type {\n",
       "        vertical-align: middle;\n",
       "    }\n",
       "\n",
       "    .dataframe tbody tr th {\n",
       "        vertical-align: top;\n",
       "    }\n",
       "\n",
       "    .dataframe thead th {\n",
       "        text-align: right;\n",
       "    }\n",
       "</style>\n",
       "<table border=\"1\" class=\"dataframe\">\n",
       "  <thead>\n",
       "    <tr style=\"text-align: right;\">\n",
       "      <th></th>\n",
       "      <th>missing</th>\n",
       "    </tr>\n",
       "  </thead>\n",
       "  <tbody>\n",
       "    <tr>\n",
       "      <th>2000-12-31</th>\n",
       "      <td>792</td>\n",
       "    </tr>\n",
       "    <tr>\n",
       "      <th>2001-12-31</th>\n",
       "      <td>54</td>\n",
       "    </tr>\n",
       "    <tr>\n",
       "      <th>2002-12-31</th>\n",
       "      <td>30</td>\n",
       "    </tr>\n",
       "    <tr>\n",
       "      <th>2003-12-31</th>\n",
       "      <td>39</td>\n",
       "    </tr>\n",
       "    <tr>\n",
       "      <th>2004-12-31</th>\n",
       "      <td>72</td>\n",
       "    </tr>\n",
       "    <tr>\n",
       "      <th>2005-12-31</th>\n",
       "      <td>119</td>\n",
       "    </tr>\n",
       "    <tr>\n",
       "      <th>2006-12-31</th>\n",
       "      <td>32</td>\n",
       "    </tr>\n",
       "    <tr>\n",
       "      <th>2007-12-31</th>\n",
       "      <td>64</td>\n",
       "    </tr>\n",
       "    <tr>\n",
       "      <th>2008-12-31</th>\n",
       "      <td>193</td>\n",
       "    </tr>\n",
       "    <tr>\n",
       "      <th>2009-12-31</th>\n",
       "      <td>82</td>\n",
       "    </tr>\n",
       "    <tr>\n",
       "      <th>2010-12-31</th>\n",
       "      <td>40</td>\n",
       "    </tr>\n",
       "    <tr>\n",
       "      <th>2011-12-31</th>\n",
       "      <td>32</td>\n",
       "    </tr>\n",
       "    <tr>\n",
       "      <th>2012-12-31</th>\n",
       "      <td>152</td>\n",
       "    </tr>\n",
       "    <tr>\n",
       "      <th>2013-12-31</th>\n",
       "      <td>45</td>\n",
       "    </tr>\n",
       "    <tr>\n",
       "      <th>2014-12-31</th>\n",
       "      <td>38</td>\n",
       "    </tr>\n",
       "    <tr>\n",
       "      <th>2015-12-31</th>\n",
       "      <td>37</td>\n",
       "    </tr>\n",
       "    <tr>\n",
       "      <th>2016-12-31</th>\n",
       "      <td>27</td>\n",
       "    </tr>\n",
       "    <tr>\n",
       "      <th>2017-12-31</th>\n",
       "      <td>119</td>\n",
       "    </tr>\n",
       "    <tr>\n",
       "      <th>2018-12-31</th>\n",
       "      <td>67</td>\n",
       "    </tr>\n",
       "    <tr>\n",
       "      <th>2019-12-31</th>\n",
       "      <td>34</td>\n",
       "    </tr>\n",
       "    <tr>\n",
       "      <th>2020-12-31</th>\n",
       "      <td>93</td>\n",
       "    </tr>\n",
       "    <tr>\n",
       "      <th>2021-12-31</th>\n",
       "      <td>152</td>\n",
       "    </tr>\n",
       "    <tr>\n",
       "      <th>2022-12-31</th>\n",
       "      <td>110</td>\n",
       "    </tr>\n",
       "  </tbody>\n",
       "</table>\n",
       "</div>"
      ],
      "text/plain": [
       "            missing\n",
       "2000-12-31      792\n",
       "2001-12-31       54\n",
       "2002-12-31       30\n",
       "2003-12-31       39\n",
       "2004-12-31       72\n",
       "2005-12-31      119\n",
       "2006-12-31       32\n",
       "2007-12-31       64\n",
       "2008-12-31      193\n",
       "2009-12-31       82\n",
       "2010-12-31       40\n",
       "2011-12-31       32\n",
       "2012-12-31      152\n",
       "2013-12-31       45\n",
       "2014-12-31       38\n",
       "2015-12-31       37\n",
       "2016-12-31       27\n",
       "2017-12-31      119\n",
       "2018-12-31       67\n",
       "2019-12-31       34\n",
       "2020-12-31       93\n",
       "2021-12-31      152\n",
       "2022-12-31      110"
      ]
     },
     "execution_count": 92,
     "metadata": {},
     "output_type": "execute_result"
    }
   ],
   "source": [
    "df_missing_by_year = df_missing.resample('Y').count()\n",
    "\n",
    "df_missing_by_year\n"
   ]
  },
  {
   "cell_type": "markdown",
   "metadata": {},
   "source": [
    "---\n",
    "**32)**\t[P] You can see that pretty much every year has missing data. Not uncommon. However, one year in particular is really bad. Which one? Write the code to eliminate that entire year from `df_temps`."
   ]
  },
  {
   "cell_type": "code",
   "execution_count": 106,
   "metadata": {
    "jupyter": {
     "outputs_hidden": false
    }
   },
   "outputs": [
    {
     "name": "stdout",
     "output_type": "stream",
     "text": [
      "Year with most missing data: missing   2000-12-31\n",
      "dtype: datetime64[ns]\n"
     ]
    },
    {
     "data": {
      "text/html": [
       "<div>\n",
       "<style scoped>\n",
       "    .dataframe tbody tr th:only-of-type {\n",
       "        vertical-align: middle;\n",
       "    }\n",
       "\n",
       "    .dataframe tbody tr th {\n",
       "        vertical-align: top;\n",
       "    }\n",
       "\n",
       "    .dataframe thead th {\n",
       "        text-align: right;\n",
       "    }\n",
       "</style>\n",
       "<table border=\"1\" class=\"dataframe\">\n",
       "  <thead>\n",
       "    <tr style=\"text-align: right;\">\n",
       "      <th></th>\n",
       "      <th>Number of Observations (n/a)</th>\n",
       "      <th>Average Temp (F)</th>\n",
       "      <th>Max Temp (F)</th>\n",
       "      <th>Min Temp (F)</th>\n",
       "      <th>Average Dewpoint Temp (F)</th>\n",
       "      <th>1 Hour Precip (in)</th>\n",
       "      <th>Max Wind Gust (mph)</th>\n",
       "      <th>Average Relative Humidity (%)</th>\n",
       "      <th>Average Wind Speed (mph)</th>\n",
       "      <th>Average Station Pressure (mb)</th>\n",
       "      <th>Average Wind Direction (deg)</th>\n",
       "      <th>Max Wind Speed (mph)</th>\n",
       "    </tr>\n",
       "    <tr>\n",
       "      <th>Date/Time (GMT)</th>\n",
       "      <th></th>\n",
       "      <th></th>\n",
       "      <th></th>\n",
       "      <th></th>\n",
       "      <th></th>\n",
       "      <th></th>\n",
       "      <th></th>\n",
       "      <th></th>\n",
       "      <th></th>\n",
       "      <th></th>\n",
       "      <th></th>\n",
       "      <th></th>\n",
       "    </tr>\n",
       "  </thead>\n",
       "  <tbody>\n",
       "    <tr>\n",
       "      <th>2001-01-01 00:00:00</th>\n",
       "      <td>1</td>\n",
       "      <td>21.0</td>\n",
       "      <td>21.0</td>\n",
       "      <td>21.0</td>\n",
       "      <td>6.1</td>\n",
       "      <td>NaN</td>\n",
       "      <td>NaN</td>\n",
       "      <td>51.0</td>\n",
       "      <td>12.7</td>\n",
       "      <td>1019.000000</td>\n",
       "      <td>270.0</td>\n",
       "      <td>12.7</td>\n",
       "    </tr>\n",
       "    <tr>\n",
       "      <th>2001-01-01 01:00:00</th>\n",
       "      <td>1</td>\n",
       "      <td>19.9</td>\n",
       "      <td>19.9</td>\n",
       "      <td>19.9</td>\n",
       "      <td>7.0</td>\n",
       "      <td>NaN</td>\n",
       "      <td>NaN</td>\n",
       "      <td>56.0</td>\n",
       "      <td>10.4</td>\n",
       "      <td>1019.000000</td>\n",
       "      <td>270.0</td>\n",
       "      <td>10.4</td>\n",
       "    </tr>\n",
       "    <tr>\n",
       "      <th>2001-01-01 02:00:00</th>\n",
       "      <td>1</td>\n",
       "      <td>19.0</td>\n",
       "      <td>19.0</td>\n",
       "      <td>19.0</td>\n",
       "      <td>7.0</td>\n",
       "      <td>NaN</td>\n",
       "      <td>NaN</td>\n",
       "      <td>58.0</td>\n",
       "      <td>16.1</td>\n",
       "      <td>1019.000000</td>\n",
       "      <td>270.0</td>\n",
       "      <td>16.1</td>\n",
       "    </tr>\n",
       "    <tr>\n",
       "      <th>2001-01-01 03:00:00</th>\n",
       "      <td>1</td>\n",
       "      <td>19.0</td>\n",
       "      <td>19.0</td>\n",
       "      <td>19.0</td>\n",
       "      <td>7.0</td>\n",
       "      <td>NaN</td>\n",
       "      <td>NaN</td>\n",
       "      <td>58.0</td>\n",
       "      <td>15.0</td>\n",
       "      <td>1018.599976</td>\n",
       "      <td>260.0</td>\n",
       "      <td>15.0</td>\n",
       "    </tr>\n",
       "    <tr>\n",
       "      <th>2001-01-01 04:00:00</th>\n",
       "      <td>1</td>\n",
       "      <td>19.0</td>\n",
       "      <td>19.0</td>\n",
       "      <td>19.0</td>\n",
       "      <td>6.1</td>\n",
       "      <td>NaN</td>\n",
       "      <td>NaN</td>\n",
       "      <td>56.0</td>\n",
       "      <td>16.1</td>\n",
       "      <td>1018.599976</td>\n",
       "      <td>280.0</td>\n",
       "      <td>16.1</td>\n",
       "    </tr>\n",
       "  </tbody>\n",
       "</table>\n",
       "</div>"
      ],
      "text/plain": [
       "                     Number of Observations (n/a)  Average Temp (F)  \\\n",
       "Date/Time (GMT)                                                       \n",
       "2001-01-01 00:00:00                             1              21.0   \n",
       "2001-01-01 01:00:00                             1              19.9   \n",
       "2001-01-01 02:00:00                             1              19.0   \n",
       "2001-01-01 03:00:00                             1              19.0   \n",
       "2001-01-01 04:00:00                             1              19.0   \n",
       "\n",
       "                     Max Temp (F)  Min Temp (F)  Average Dewpoint Temp (F)  \\\n",
       "Date/Time (GMT)                                                              \n",
       "2001-01-01 00:00:00          21.0          21.0                        6.1   \n",
       "2001-01-01 01:00:00          19.9          19.9                        7.0   \n",
       "2001-01-01 02:00:00          19.0          19.0                        7.0   \n",
       "2001-01-01 03:00:00          19.0          19.0                        7.0   \n",
       "2001-01-01 04:00:00          19.0          19.0                        6.1   \n",
       "\n",
       "                     1 Hour Precip (in)  Max Wind Gust (mph)  \\\n",
       "Date/Time (GMT)                                                \n",
       "2001-01-01 00:00:00                 NaN                  NaN   \n",
       "2001-01-01 01:00:00                 NaN                  NaN   \n",
       "2001-01-01 02:00:00                 NaN                  NaN   \n",
       "2001-01-01 03:00:00                 NaN                  NaN   \n",
       "2001-01-01 04:00:00                 NaN                  NaN   \n",
       "\n",
       "                     Average Relative Humidity (%)  Average Wind Speed (mph)  \\\n",
       "Date/Time (GMT)                                                                \n",
       "2001-01-01 00:00:00                           51.0                      12.7   \n",
       "2001-01-01 01:00:00                           56.0                      10.4   \n",
       "2001-01-01 02:00:00                           58.0                      16.1   \n",
       "2001-01-01 03:00:00                           58.0                      15.0   \n",
       "2001-01-01 04:00:00                           56.0                      16.1   \n",
       "\n",
       "                     Average Station Pressure (mb)  \\\n",
       "Date/Time (GMT)                                      \n",
       "2001-01-01 00:00:00                    1019.000000   \n",
       "2001-01-01 01:00:00                    1019.000000   \n",
       "2001-01-01 02:00:00                    1019.000000   \n",
       "2001-01-01 03:00:00                    1018.599976   \n",
       "2001-01-01 04:00:00                    1018.599976   \n",
       "\n",
       "                     Average Wind Direction (deg)  Max Wind Speed (mph)  \n",
       "Date/Time (GMT)                                                          \n",
       "2001-01-01 00:00:00                         270.0                  12.7  \n",
       "2001-01-01 01:00:00                         270.0                  10.4  \n",
       "2001-01-01 02:00:00                         270.0                  16.1  \n",
       "2001-01-01 03:00:00                         260.0                  15.0  \n",
       "2001-01-01 04:00:00                         280.0                  16.1  "
      ]
     },
     "execution_count": 106,
     "metadata": {},
     "output_type": "execute_result"
    }
   ],
   "source": [
    "# Citation: chatGPT\n",
    "\n",
    "print(\"Year with most missing data:\", df_missing_by_year.idxmax())\n",
    "\n",
    "df_temps = df_temps[df_temps.index.year != 2000]\n",
    "\n",
    "df_temps.head()\n"
   ]
  },
  {
   "cell_type": "markdown",
   "metadata": {},
   "source": [
    "---\n",
    "**33)**\t[P] Use Seaborn to generate a line plot of the average temperature over the entire time period contained in the data. It's a lot of data, so it may take a few seconds or so to generate.\n"
   ]
  },
  {
   "cell_type": "code",
   "execution_count": 107,
   "metadata": {
    "jupyter": {
     "outputs_hidden": false
    }
   },
   "outputs": [
    {
     "data": {
      "image/png": "[encoded data removed]",
      "text/plain": [
       "<Figure size 640x480 with 1 Axes>"
      ]
     },
     "metadata": {},
     "output_type": "display_data"
    }
   ],
   "source": [
    "sns.lineplot(data = df_temps, x = df_temps.index, y = \"Average Temp (F)\")\n",
    "\n",
    "plt.show()\n",
    "\n"
   ]
  },
  {
   "cell_type": "markdown",
   "metadata": {},
   "source": [
    "---\n",
    "**34)**\t[P] That previous plot is a bit ridiculous. You really need to aggregate your data over some time interval. The most meaningful one will be by year. Compute the mean of the hourly average temperature for each year plot this annual value. (HINT: The `resample()` method will again make this incredibly easy to do!)"
   ]
  },
  {
   "cell_type": "code",
   "execution_count": 109,
   "metadata": {
    "jupyter": {
     "outputs_hidden": false
    }
   },
   "outputs": [
    {
     "data": {
      "image/png": "[encoded data removed]",
      "text/plain": [
       "<Figure size 640x480 with 1 Axes>"
      ]
     },
     "metadata": {},
     "output_type": "display_data"
    }
   ],
   "source": [
    "annual_avg = df_temps[\"Average Temp (F)\"].resample('Y').mean()\n",
    "\n",
    "sns.lineplot(data = annual_avg)\n",
    "\n",
    "plt.show()\n"
   ]
  },
  {
   "cell_type": "markdown",
   "metadata": {},
   "source": [
    "---\n",
    "Congratulations! At this point, you performed your first real-world example of what you need to go through to complete basic preprocessing steps!\n",
    "\n",
    "---\n",
    "# Deliverables\n",
    "1.\tBe sure you have every cell run, and output generated.\n",
    "2.\tCommit and push `lab06.ipynb`. Verify that your file is pushed properly on Gitlab.\n",
    "3.\tGenerate a paginated PDF file of your notebook and upload to Gradescope\n",
    "4.\tBe sure to select the pages that have the specified questions, and submit when done\n"
   ]
  }
 ],
 "metadata": {
  "kernelspec": {
   "display_name": "Python 3 (ipykernel)",
   "language": "python",
   "name": "python3"
  },
  "language_info": {
   "codemirror_mode": {
    "name": "ipython",
    "version": 3
   },
   "file_extension": ".py",
   "mimetype": "text/x-python",
   "name": "python",
   "nbconvert_exporter": "python",
   "pygments_lexer": "ipython3",
   "version": "3.9.16"
  }
 },
 "nbformat": 4,
 "nbformat_minor": 4
}
