{
 "cells": [
  {
   "cell_type": "markdown",
   "id": "ea99b269",
   "metadata": {},
   "source": [
    "# Lab 02 - numpy\n",
    "\n",
    "Name: Nick Satriano\n",
    "Class: CSCI 349 - Intro to Data Mining\n",
    "Semester: Spring 2023\n",
    "Instructor: Brian King"
   ]
  },
  {
   "cell_type": "code",
   "execution_count": 1,
   "id": "dbc4b4a3",
   "metadata": {},
   "outputs": [
    {
     "name": "stdout",
     "output_type": "stream",
     "text": [
      "3.9.16 (main, Jan 11 2023, 16:16:36) [MSC v.1916 64 bit (AMD64)]\n",
      "numpy: 1.23.5\n"
     ]
    }
   ],
   "source": [
    "import sys\n",
    "import numpy as np\n",
    "print(sys.version)\n",
    "print(\"numpy: \" + str(np.__version__))"
   ]
  },
  {
   "cell_type": "markdown",
   "id": "16a9a262",
   "metadata": {},
   "source": [
    "1) Create a 100000 x 75 matrix of zeros, stored as X. Then, print out the shape of the matrix, the base data type, the individual item size in the array, and the total size of the array in bytes (as an integer). Also, print out the total size in megabytes with 3 significant digits."
   ]
  },
  {
   "cell_type": "code",
   "execution_count": 2,
   "id": "e72adabb",
   "metadata": {},
   "outputs": [
    {
     "name": "stdout",
     "output_type": "stream",
     "text": [
      "X.size =  7500000\n",
      "X.shape =  (100000, 75)\n",
      "X.dtype =  float64\n",
      "X.itemsize =  8\n",
      "60000000 bytes\n",
      "60.000 mb\n"
     ]
    }
   ],
   "source": [
    "X = np.zeros((100000, 75))\n",
    "print(\"X.size = \", X.size)\n",
    "print(\"X.shape = \", X.shape)\n",
    "print(\"X.dtype = \", X.dtype)\n",
    "print(\"X.itemsize = \", X.itemsize)\n",
    "print(X.itemsize * X.size, \"bytes\")\n",
    "print(\"%.3f mb\" %(X.itemsize * X.size / 1000000))"
   ]
  },
  {
   "cell_type": "markdown",
   "id": "6c32202b",
   "metadata": {},
   "source": [
    "2) Resize X to have the same number of elements, but with 100 columns. Show the shape. Show the number of bytes (which should be the same as the previous answer)"
   ]
  },
  {
   "cell_type": "code",
   "execution_count": 3,
   "id": "330f04fb",
   "metadata": {},
   "outputs": [
    {
     "name": "stdout",
     "output_type": "stream",
     "text": [
      "X.shape =  (75000, 100)\n",
      "60000000 bytes\n"
     ]
    }
   ],
   "source": [
    "X = np.reshape(X, (int(X.size/100), 100))\n",
    "print(\"X.shape = \", X.shape)\n",
    "print(X.itemsize * X.size, \"bytes\")"
   ]
  },
  {
   "cell_type": "markdown",
   "id": "dab1cb37",
   "metadata": {},
   "source": [
    "3) Redo #1, but use a base datatype of 16-bit integers."
   ]
  },
  {
   "cell_type": "code",
   "execution_count": 4,
   "id": "c67bdba3",
   "metadata": {},
   "outputs": [
    {
     "name": "stdout",
     "output_type": "stream",
     "text": [
      "X.size =  7500000\n",
      "X.shape =  (100000, 75)\n",
      "X.dtype =  int16\n",
      "X.itemsize =  2\n",
      "15000000 bytes\n",
      "15.000 mb\n"
     ]
    }
   ],
   "source": [
    "X = np.zeros((100000, 75), dtype = np.int16)\n",
    "print(\"X.size = \", X.size)\n",
    "print(\"X.shape = \", X.shape)\n",
    "print(\"X.dtype = \", X.dtype)\n",
    "print(\"X.itemsize = \", X.itemsize)\n",
    "print(X.itemsize * X.size, \"bytes\")\n",
    "print(\"%.3f mb\" %(X.itemsize * X.size / 1000000))"
   ]
  },
  {
   "cell_type": "markdown",
   "id": "a9f891eb",
   "metadata": {},
   "source": [
    "4) How many dimensions does X have? Answer using the appropriate property of np.ndarray objects."
   ]
  },
  {
   "cell_type": "code",
   "execution_count": 5,
   "id": "f7775d0b",
   "metadata": {},
   "outputs": [
    {
     "name": "stdout",
     "output_type": "stream",
     "text": [
      "Number of dimesions:  2\n"
     ]
    }
   ],
   "source": [
    "print(\"Number of dimesions: \", X.ndim)"
   ]
  },
  {
   "cell_type": "markdown",
   "id": "9d2e0591",
   "metadata": {},
   "source": [
    "5)\n",
    "Enter the following Python list in your cell:\n",
    "\n",
    "str_nums = ['2.14', '-9.300', '42']\n",
    "\n",
    "Convert this to a numpy array named X. What is the base type? Show the contents of X.\n",
    "We want numeric representation. So, convert X to an array of single precision floating point numbers. (HINT:\n",
    "use astype). Show X again.\n"
   ]
  },
  {
   "cell_type": "code",
   "execution_count": 6,
   "id": "db29f550",
   "metadata": {},
   "outputs": [
    {
     "name": "stdout",
     "output_type": "stream",
     "text": [
      "X.dtype =  <U6\n",
      "['2.14' '-9.300' '42']\n",
      "[ 2.14 -9.3  42.  ]\n"
     ]
    }
   ],
   "source": [
    "str_nums = ['2.14', '-9.300', '42']\n",
    "X = np.array(str_nums)\n",
    "print(\"X.dtype = \", X.dtype)\n",
    "print(X)\n",
    "X = X.astype(np.single)\n",
    "print(X)"
   ]
  },
  {
   "cell_type": "markdown",
   "id": "ec89f726",
   "metadata": {},
   "source": [
    "Let's assume you have two weeks' worth of quiz scores. Quizzes are out of 10 points, and are given every day. Copy the following in a new cell:"
   ]
  },
  {
   "cell_type": "code",
   "execution_count": 7,
   "id": "15959d26",
   "metadata": {},
   "outputs": [],
   "source": [
    "days = [\"Mon\",\"Tue\",\"Wed\",\"Thu\",\"Fri\"]\n",
    "scores_1 = [9.5, 8.75, 8, 10, 7.75]\n",
    "scores_2 = [9, 8, 9.5, 8.75, 7.25]"
   ]
  },
  {
   "cell_type": "markdown",
   "id": "563c45d5",
   "metadata": {},
   "source": [
    "6)  Copy the three definitions above for the Python lists days, scores_1, and scores_2. Create a numpy array called scores that has scores_1 as the first row and scores_2 as the second row using np.concatenate. Then, change days into a np.array from the list days. Show the contents of scores and days, and output their shape. "
   ]
  },
  {
   "cell_type": "code",
   "execution_count": 8,
   "id": "be472566",
   "metadata": {},
   "outputs": [
    {
     "name": "stdout",
     "output_type": "stream",
     "text": [
      "[[ 9.5   8.75  8.   10.    7.75]\n",
      " [ 9.    8.    9.5   8.75  7.25]]\n",
      "scores.shape =  (2, 5)\n",
      "['Mon', 'Tue', 'Wed', 'Thu', 'Fri']\n"
     ]
    }
   ],
   "source": [
    "scores = np.concatenate(([scores_1], [scores_2]))\n",
    "print(scores)\n",
    "print(\"scores.shape = \", scores.shape)\n",
    "print(days)"
   ]
  },
  {
   "cell_type": "markdown",
   "id": "a454ef45",
   "metadata": {},
   "source": [
    "7) Repeat the previous problem with the creation of scores from the Python lists scores_1 and scores_2, but now do it with np.vstack. The array should be identical."
   ]
  },
  {
   "cell_type": "code",
   "execution_count": 9,
   "id": "8f56ddd1",
   "metadata": {},
   "outputs": [
    {
     "name": "stdout",
     "output_type": "stream",
     "text": [
      "[[ 9.5   8.75  8.   10.    7.75]\n",
      " [ 9.    8.    9.5   8.75  7.25]]\n",
      "scores.shape =  (2, 5)\n"
     ]
    }
   ],
   "source": [
    "scores = np.vstack(([scores_1], [scores_2]))\n",
    "print(scores)\n",
    "print(\"scores.shape = \", scores.shape)"
   ]
  },
  {
   "cell_type": "markdown",
   "id": "9f7b60d4",
   "metadata": {},
   "source": [
    "8) Compare the result of the expression days == \"Fri\" if the variable days was a Python list as entered above, vs. days being a numpy array. What is the difference in the result? In general, how does numpy deal with standard comparison operators?"
   ]
  },
  {
   "cell_type": "code",
   "execution_count": 10,
   "id": "00e8527f",
   "metadata": {},
   "outputs": [
    {
     "name": "stdout",
     "output_type": "stream",
     "text": [
      "If the variable days was a Python list, then the expression days == Fri yields:  []\n",
      "If the variable days was a numpy array, then the expression days == Fri yields:  [[7.75]\n",
      " [7.25]]\n"
     ]
    }
   ],
   "source": [
    "print(\"If the variable days was a Python list, then the expression days == Fri yields: \", scores[:, days == \"Fri\"])\n",
    "\n",
    "days = np.array(days)\n",
    "print(\"If the variable days was a numpy array, then the expression days == Fri yields: \", scores[:, days == \"Fri\"])"
   ]
  },
  {
   "cell_type": "markdown",
   "id": "17591504",
   "metadata": {},
   "source": [
    "When using a python list, we are not able to print the scores from that particular day in the scores array. When stored as a numpy array, we are able to print the scores which are in the same column as the date."
   ]
  },
  {
   "cell_type": "markdown",
   "id": "7f801920",
   "metadata": {},
   "source": [
    "9) The scores array represents quizzes that are out of 10 pts. Show the scores array scaled to be out of 100 pts (but do not change scores itself.)"
   ]
  },
  {
   "cell_type": "code",
   "execution_count": 11,
   "id": "e0197169",
   "metadata": {},
   "outputs": [
    {
     "name": "stdout",
     "output_type": "stream",
     "text": [
      "[[ 95.   87.5  80.  100.   77.5]\n",
      " [ 90.   80.   95.   87.5  72.5]]\n"
     ]
    }
   ],
   "source": [
    "print(scores * 10)"
   ]
  },
  {
   "cell_type": "markdown",
   "id": "8d9ea6bc",
   "metadata": {},
   "source": [
    "10) Select the scores that fell on Tuesday."
   ]
  },
  {
   "cell_type": "code",
   "execution_count": 12,
   "id": "2aea493e",
   "metadata": {},
   "outputs": [
    {
     "data": {
      "text/plain": [
       "array([[8.75],\n",
       "       [8.  ]])"
      ]
     },
     "execution_count": 12,
     "metadata": {},
     "output_type": "execute_result"
    }
   ],
   "source": [
    "scores[:, days == \"Tue\"]"
   ]
  },
  {
   "cell_type": "markdown",
   "id": "e1f3d776",
   "metadata": {},
   "source": [
    "11) Select all of the scores that are NOT on Tuesday."
   ]
  },
  {
   "cell_type": "code",
   "execution_count": 13,
   "id": "f82a5eee",
   "metadata": {},
   "outputs": [
    {
     "data": {
      "text/plain": [
       "array([[ 9.5 ,  8.  , 10.  ,  7.75],\n",
       "       [ 9.  ,  9.5 ,  8.75,  7.25]])"
      ]
     },
     "execution_count": 13,
     "metadata": {},
     "output_type": "execute_result"
    }
   ],
   "source": [
    "scores[:, days != \"Tue\"]"
   ]
  },
  {
   "cell_type": "markdown",
   "id": "dc6e5272",
   "metadata": {},
   "source": [
    "12) Select the scores that were on Tuesday or Thursday."
   ]
  },
  {
   "cell_type": "code",
   "execution_count": 14,
   "id": "805a7464",
   "metadata": {},
   "outputs": [
    {
     "data": {
      "text/plain": [
       "array([[[ 8.75, 10.  ]],\n",
       "\n",
       "       [[ 8.  ,  8.75]]])"
      ]
     },
     "execution_count": 14,
     "metadata": {},
     "output_type": "execute_result"
    }
   ],
   "source": [
    "scores[:, np.where((days == \"Tue\") | (days == \"Thu\"))]"
   ]
  },
  {
   "cell_type": "markdown",
   "id": "ad4ea0b2",
   "metadata": {},
   "source": [
    "13) Show the minimum and maximum scores for the entire array of scores."
   ]
  },
  {
   "cell_type": "code",
   "execution_count": 15,
   "id": "18ea581d",
   "metadata": {},
   "outputs": [
    {
     "name": "stdout",
     "output_type": "stream",
     "text": [
      "min = 7.25\n",
      "max = 10.0\n"
     ]
    }
   ],
   "source": [
    "print(\"min =\", np.min(scores))\n",
    "print(\"max =\", np.max(scores))"
   ]
  },
  {
   "cell_type": "markdown",
   "id": "50f8acd1",
   "metadata": {},
   "source": [
    "14)  Show the maximum scores for each week as a new array. The result should have the same dimensions."
   ]
  },
  {
   "cell_type": "code",
   "execution_count": 16,
   "id": "358d72a4",
   "metadata": {},
   "outputs": [
    {
     "data": {
      "text/plain": [
       "array([[10. ],\n",
       "       [ 9.5]])"
      ]
     },
     "execution_count": 16,
     "metadata": {},
     "output_type": "execute_result"
    }
   ],
   "source": [
    "scores.max(axis = 1, keepdims = True)"
   ]
  },
  {
   "cell_type": "markdown",
   "id": "acdee71e",
   "metadata": {},
   "source": [
    "15) Report the day that the maximum score occurred each week."
   ]
  },
  {
   "cell_type": "code",
   "execution_count": 17,
   "id": "e379f909",
   "metadata": {},
   "outputs": [
    {
     "data": {
      "text/plain": [
       "array(['Thu', 'Wed'], dtype='<U3')"
      ]
     },
     "execution_count": 17,
     "metadata": {},
     "output_type": "execute_result"
    }
   ],
   "source": [
    "days[np.argmax(scores, axis = 1)]"
   ]
  },
  {
   "cell_type": "markdown",
   "id": "c8925cd7",
   "metadata": {},
   "source": [
    "16) Report the mean of the scores of each week."
   ]
  },
  {
   "cell_type": "code",
   "execution_count": 18,
   "id": "07c477a5",
   "metadata": {},
   "outputs": [
    {
     "data": {
      "text/plain": [
       "array([8.8, 8.5])"
      ]
     },
     "execution_count": 18,
     "metadata": {},
     "output_type": "execute_result"
    }
   ],
   "source": [
    "np.mean(scores, axis = 1)"
   ]
  },
  {
   "cell_type": "markdown",
   "id": "6a8c10c5",
   "metadata": {},
   "source": [
    "17) Suppose the lowest score was dropped from each week. Report the mean of each week, but without the minimum score for that week"
   ]
  },
  {
   "cell_type": "code",
   "execution_count": 23,
   "id": "2d93531b",
   "metadata": {},
   "outputs": [
    {
     "name": "stdout",
     "output_type": "stream",
     "text": [
      "[[9.0625]\n",
      " [8.8125]]\n"
     ]
    }
   ],
   "source": [
    "minScores = scores.min(axis=1, keepdims=True)\n",
    "newScores = scores[np.where(scores != minScores)].reshape(2, 4)\n",
    "print(np.mean(newScores, axis = 1, keepdims = True))"
   ]
  },
  {
   "cell_type": "markdown",
   "id": "b71eb4ee",
   "metadata": {},
   "source": [
    "18) Show the number of scores that were > 9 each week as an array."
   ]
  },
  {
   "cell_type": "code",
   "execution_count": 93,
   "id": "4b724dfe",
   "metadata": {},
   "outputs": [
    {
     "name": "stdout",
     "output_type": "stream",
     "text": [
      "[0 2]\n",
      "[1 1]\n"
     ]
    },
    {
     "data": {
      "text/plain": [
       "array([[0, 2],\n",
       "       [1, 1]])"
      ]
     },
     "execution_count": 93,
     "metadata": {},
     "output_type": "execute_result"
    }
   ],
   "source": [
    "scores1 = np.array([0, np.count_nonzero(scores[:1] > 9)])\n",
    "print(scores1)\n",
    "scores2 = np.array([1, np.count_nonzero(scores[1:2] > 9)])\n",
    "print(scores2)\n",
    "\n",
    "np.vstack((scores1, scores2))"
   ]
  },
  {
   "cell_type": "code",
   "execution_count": 85,
   "id": "ee6a9fee",
   "metadata": {},
   "outputs": [
    {
     "data": {
      "text/plain": [
       "array([[48, 84, 39, 54, 77],\n",
       "       [25, 16, 50, 24, 27],\n",
       "       [31, 44, 31, 27, 59],\n",
       "       [93, 70, 81, 74, 48],\n",
       "       [51, 77, 38, 35, 39],\n",
       "       [68, 12,  1, 76, 81],\n",
       "       [ 4,  3, 20, 13, 66],\n",
       "       [76, 82, 15, 72, 61],\n",
       "       [47, 29, 82, 88, 14],\n",
       "       [97, 13, 70, 96, 32]])"
      ]
     },
     "execution_count": 85,
     "metadata": {},
     "output_type": "execute_result"
    }
   ],
   "source": [
    "np.random.seed(1234)\n",
    "X = np.random.randint(1,100,50).reshape((10,5))\n",
    "X"
   ]
  },
  {
   "cell_type": "markdown",
   "id": "70dbc4c7",
   "metadata": {},
   "source": [
    "19) Select the first row of X."
   ]
  },
  {
   "cell_type": "code",
   "execution_count": 39,
   "id": "4f363052",
   "metadata": {},
   "outputs": [
    {
     "data": {
      "text/plain": [
       "array([[48, 84, 39, 54, 77]])"
      ]
     },
     "execution_count": 39,
     "metadata": {},
     "output_type": "execute_result"
    }
   ],
   "source": [
    "X[:1]"
   ]
  },
  {
   "cell_type": "markdown",
   "id": "908d32af",
   "metadata": {},
   "source": [
    "20) Select the last column of X."
   ]
  },
  {
   "cell_type": "code",
   "execution_count": 40,
   "id": "7e976a47",
   "metadata": {},
   "outputs": [
    {
     "data": {
      "text/plain": [
       "array([[77],\n",
       "       [27],\n",
       "       [59],\n",
       "       [48],\n",
       "       [39],\n",
       "       [81],\n",
       "       [66],\n",
       "       [61],\n",
       "       [14],\n",
       "       [32]])"
      ]
     },
     "execution_count": 40,
     "metadata": {},
     "output_type": "execute_result"
    }
   ],
   "source": [
    "X[:, -1:]"
   ]
  },
  {
   "cell_type": "markdown",
   "id": "f4746bf5",
   "metadata": {},
   "source": [
    "21) Select the first AND last column of X."
   ]
  },
  {
   "cell_type": "code",
   "execution_count": 41,
   "id": "03617624",
   "metadata": {},
   "outputs": [
    {
     "data": {
      "text/plain": [
       "array([[48, 77],\n",
       "       [25, 27],\n",
       "       [31, 59],\n",
       "       [93, 48],\n",
       "       [51, 39],\n",
       "       [68, 81],\n",
       "       [ 4, 66],\n",
       "       [76, 61],\n",
       "       [47, 14],\n",
       "       [97, 32]])"
      ]
     },
     "execution_count": 41,
     "metadata": {},
     "output_type": "execute_result"
    }
   ],
   "source": [
    "np.concatenate((X[:, :1], X[:, -1:]), axis = 1)"
   ]
  },
  {
   "cell_type": "markdown",
   "id": "02433372",
   "metadata": {},
   "source": [
    "22) Select every other row of X."
   ]
  },
  {
   "cell_type": "code",
   "execution_count": 43,
   "id": "a8af2646",
   "metadata": {},
   "outputs": [
    {
     "data": {
      "text/plain": [
       "array([[48, 84, 39, 54, 77],\n",
       "       [31, 44, 31, 27, 59],\n",
       "       [51, 77, 38, 35, 39],\n",
       "       [ 4,  3, 20, 13, 66],\n",
       "       [47, 29, 82, 88, 14]])"
      ]
     },
     "execution_count": 43,
     "metadata": {},
     "output_type": "execute_result"
    }
   ],
   "source": [
    "X[::2]"
   ]
  },
  {
   "cell_type": "markdown",
   "id": "89f8d25b",
   "metadata": {},
   "source": [
    "23) Show the transpose of X, but don't change X itself."
   ]
  },
  {
   "cell_type": "code",
   "execution_count": 44,
   "id": "a95898ff",
   "metadata": {},
   "outputs": [
    {
     "data": {
      "text/plain": [
       "array([[48, 25, 31, 93, 51, 68,  4, 76, 47, 97],\n",
       "       [84, 16, 44, 70, 77, 12,  3, 82, 29, 13],\n",
       "       [39, 50, 31, 81, 38,  1, 20, 15, 82, 70],\n",
       "       [54, 24, 27, 74, 35, 76, 13, 72, 88, 96],\n",
       "       [77, 27, 59, 48, 39, 81, 66, 61, 14, 32]])"
      ]
     },
     "execution_count": 44,
     "metadata": {},
     "output_type": "execute_result"
    }
   ],
   "source": [
    "np.transpose(X)"
   ]
  },
  {
   "cell_type": "markdown",
   "id": "b3cf9669",
   "metadata": {},
   "source": [
    "24) Select the first column of X and set the result to new variable Y."
   ]
  },
  {
   "cell_type": "code",
   "execution_count": 45,
   "id": "a62c52c5",
   "metadata": {},
   "outputs": [
    {
     "name": "stdout",
     "output_type": "stream",
     "text": [
      "[[48]\n",
      " [25]\n",
      " [31]\n",
      " [93]\n",
      " [51]\n",
      " [68]\n",
      " [ 4]\n",
      " [76]\n",
      " [47]\n",
      " [97]]\n"
     ]
    }
   ],
   "source": [
    "Y = X[:, :1]\n",
    "print(Y)"
   ]
  },
  {
   "cell_type": "markdown",
   "id": "06ae60d8",
   "metadata": {},
   "source": [
    "25) Increment the first value of Y, then show the corresponding value of X. Did both values in X and Y change?"
   ]
  },
  {
   "cell_type": "code",
   "execution_count": 46,
   "id": "3d2616c6",
   "metadata": {},
   "outputs": [
    {
     "name": "stdout",
     "output_type": "stream",
     "text": [
      "X:  [[49 84 39 54 77]\n",
      " [25 16 50 24 27]\n",
      " [31 44 31 27 59]\n",
      " [93 70 81 74 48]\n",
      " [51 77 38 35 39]\n",
      " [68 12  1 76 81]\n",
      " [ 4  3 20 13 66]\n",
      " [76 82 15 72 61]\n",
      " [47 29 82 88 14]\n",
      " [97 13 70 96 32]]\n",
      "Y:  [[49]\n",
      " [25]\n",
      " [31]\n",
      " [93]\n",
      " [51]\n",
      " [68]\n",
      " [ 4]\n",
      " [76]\n",
      " [47]\n",
      " [97]]\n"
     ]
    }
   ],
   "source": [
    "Y[0] = Y[0] + 1\n",
    "print(\"X: \", X)\n",
    "print(\"Y: \", Y)"
   ]
  },
  {
   "cell_type": "markdown",
   "id": "6424ac79",
   "metadata": {},
   "source": [
    "The first values in both X and Y changed as a result of the change to Y."
   ]
  },
  {
   "cell_type": "markdown",
   "id": "c3b228f8",
   "metadata": {},
   "source": [
    "26) Repeat exercise 24, but ensure that Y is assigned a copy of the selected data. Increment the first value of Y again and ensure that the corresponding value of X did not change."
   ]
  },
  {
   "cell_type": "code",
   "execution_count": 47,
   "id": "86aa1ca2",
   "metadata": {},
   "outputs": [
    {
     "name": "stdout",
     "output_type": "stream",
     "text": [
      "[[49]\n",
      " [25]\n",
      " [31]\n",
      " [93]\n",
      " [51]\n",
      " [68]\n",
      " [ 4]\n",
      " [76]\n",
      " [47]\n",
      " [97]]\n",
      "X:  [[50 84 39 54 77]\n",
      " [25 16 50 24 27]\n",
      " [31 44 31 27 59]\n",
      " [93 70 81 74 48]\n",
      " [51 77 38 35 39]\n",
      " [68 12  1 76 81]\n",
      " [ 4  3 20 13 66]\n",
      " [76 82 15 72 61]\n",
      " [47 29 82 88 14]\n",
      " [97 13 70 96 32]]\n",
      "Y:  [[50]\n",
      " [25]\n",
      " [31]\n",
      " [93]\n",
      " [51]\n",
      " [68]\n",
      " [ 4]\n",
      " [76]\n",
      " [47]\n",
      " [97]]\n"
     ]
    }
   ],
   "source": [
    "Y = np.copy(X[:, :1])\n",
    "Y = X[:, :1]\n",
    "\n",
    "Y[0] = Y[0] + 1\n",
    "print(\"X: \", X)\n",
    "print(\"Y: \", Y)"
   ]
  },
  {
   "cell_type": "markdown",
   "id": "583e55bd",
   "metadata": {},
   "source": [
    "27) Create an array that contains the sequence of numbers 0, 0.1, 0.2, … 9.8, 9.9 using arange, as a 10x10 matrix, stored as X"
   ]
  },
  {
   "cell_type": "code",
   "execution_count": 48,
   "id": "97db2a97",
   "metadata": {},
   "outputs": [
    {
     "data": {
      "text/plain": [
       "array([0. , 0.1, 0.2, 0.3, 0.4, 0.5, 0.6, 0.7, 0.8, 0.9, 1. , 1.1, 1.2,\n",
       "       1.3, 1.4, 1.5, 1.6, 1.7, 1.8, 1.9, 2. , 2.1, 2.2, 2.3, 2.4, 2.5,\n",
       "       2.6, 2.7, 2.8, 2.9, 3. , 3.1, 3.2, 3.3, 3.4, 3.5, 3.6, 3.7, 3.8,\n",
       "       3.9, 4. , 4.1, 4.2, 4.3, 4.4, 4.5, 4.6, 4.7, 4.8, 4.9, 5. , 5.1,\n",
       "       5.2, 5.3, 5.4, 5.5, 5.6, 5.7, 5.8, 5.9, 6. , 6.1, 6.2, 6.3, 6.4,\n",
       "       6.5, 6.6, 6.7, 6.8, 6.9, 7. , 7.1, 7.2, 7.3, 7.4, 7.5, 7.6, 7.7,\n",
       "       7.8, 7.9, 8. , 8.1, 8.2, 8.3, 8.4, 8.5, 8.6, 8.7, 8.8, 8.9, 9. ,\n",
       "       9.1, 9.2, 9.3, 9.4, 9.5, 9.6, 9.7, 9.8, 9.9])"
      ]
     },
     "execution_count": 48,
     "metadata": {},
     "output_type": "execute_result"
    }
   ],
   "source": [
    "X = np.arange(10, step = 0.1)\n",
    "X"
   ]
  },
  {
   "cell_type": "markdown",
   "id": "2b928244",
   "metadata": {},
   "source": [
    "28) Set the RNG seed to 1234. Then create an array X of 100 uniformly distributed numbers, with all values between 1.0 and 10.0. Then, show the mean, the median, the minimum and maximum values of X."
   ]
  },
  {
   "cell_type": "code",
   "execution_count": 49,
   "id": "6302f44b",
   "metadata": {},
   "outputs": [
    {
     "name": "stdout",
     "output_type": "stream",
     "text": [
      "The mean of X is:  5.665266170909222\n",
      "The median of X is:  5.827284349552116\n",
      "The minimum of X is:  1.0558766492841647\n",
      "The maximum of X is:  9.928733195695253\n"
     ]
    }
   ],
   "source": [
    "np.random.seed(1234)\n",
    "\n",
    "X = np.random.uniform(1.0, 10.0, 100)\n",
    "\n",
    "print(\"The mean of X is: \", np.mean(X))\n",
    "print(\"The median of X is: \", np.median(X))\n",
    "print(\"The minimum of X is: \", np.min(X))\n",
    "print(\"The maximum of X is: \", np.max(X))"
   ]
  },
  {
   "cell_type": "markdown",
   "id": "339fb4a2",
   "metadata": {},
   "source": [
    "29) Define what is meant by a normal distribution. What are the parameters of a normal distribution? "
   ]
  },
  {
   "cell_type": "markdown",
   "id": "37fb8828",
   "metadata": {},
   "source": [
    "A normal distribution means that the data is distributed in a bell-shaped curve fashion. A normal distribution is observed through two parameters: the mean and the standard deviation."
   ]
  },
  {
   "cell_type": "markdown",
   "id": "f21ba344",
   "metadata": {},
   "source": [
    "30) In simple terms, using a normal distribution, what does the Law of Large Numbers tell us? "
   ]
  },
  {
   "cell_type": "markdown",
   "id": "c522fabc",
   "metadata": {},
   "source": [
    "The Law of Large Numbers tells us that as our data gets larger and larger, it will more accurately represent a normal distribution."
   ]
  },
  {
   "cell_type": "markdown",
   "id": "ab7a0adc",
   "metadata": {},
   "source": [
    "31) Write a function called test_normal_dist. The purpose of this function is to evaluate the law of large numbers."
   ]
  },
  {
   "cell_type": "code",
   "execution_count": 50,
   "id": "b1f5a9eb",
   "metadata": {},
   "outputs": [],
   "source": [
    "def test_normal_dist(mu, sd, vec_length, num_trials):\n",
    "    np.random.seed(1234)\n",
    "    deviation = 0\n",
    "    for i in range(num_trials):\n",
    "        temp = np.random.normal(mu, sd, vec_length)\n",
    "        avg = np.mean(temp)\n",
    "        deviation += abs(avg - mu)\n",
    "    return deviation / num_trials\n"
   ]
  },
  {
   "cell_type": "markdown",
   "id": "2c1e482f",
   "metadata": {},
   "source": [
    "32) Use test_normal_dist to obtain the deviation for vector lengths of 10, 100, 1000, 10000, and\n",
    "100000. Use a fixed number of trials of 100 for each experiment. Report the results as a numpy array with two dimensions. the first being the vector length, and the second being the average deviation resulting from your test_normal_dist function."
   ]
  },
  {
   "cell_type": "code",
   "execution_count": 77,
   "id": "79ee1577",
   "metadata": {},
   "outputs": [
    {
     "data": {
      "text/plain": [
       "array([[    10.        ,      0.47724084],\n",
       "       [   100.        ,      0.47724084],\n",
       "       [  1000.        ,      0.47724084],\n",
       "       [ 10000.        ,      0.47724084],\n",
       "       [100000.        ,      0.47724084]])"
      ]
     },
     "execution_count": 77,
     "metadata": {},
     "output_type": "execute_result"
    }
   ],
   "source": [
    "np.set_printoptions(suppress=True)\n",
    "\n",
    "first = np.array([10, test_normal_dist(10, 2, 10, 100)])\n",
    "second = np.array([100, test_normal_dist(100, 2, 10, 100)])\n",
    "third = np.array([1000, test_normal_dist(1000, 2, 10, 100)])\n",
    "fourth = np.array([10000, test_normal_dist(10000, 2, 10, 100)])\n",
    "fifth = np.array([100000, test_normal_dist(100000, 2, 10, 100)])\n",
    "\n",
    "np.vstack((first, second, third, fourth, fifth))"
   ]
  },
  {
   "cell_type": "code",
   "execution_count": null,
   "id": "88b894e1",
   "metadata": {},
   "outputs": [],
   "source": []
  }
 ],
 "metadata": {
  "kernelspec": {
   "display_name": "Python 3 (ipykernel)",
   "language": "python",
   "name": "python3"
  },
  "language_info": {
   "codemirror_mode": {
    "name": "ipython",
    "version": 3
   },
   "file_extension": ".py",
   "mimetype": "text/x-python",
   "name": "python",
   "nbconvert_exporter": "python",
   "pygments_lexer": "ipython3",
   "version": "3.9.16"
  }
 },
 "nbformat": 4,
 "nbformat_minor": 5
}
