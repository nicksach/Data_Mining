{
 "cells": [
  {
   "cell_type": "markdown",
   "id": "e39323db",
   "metadata": {},
   "source": [
    "# Lab 04 - pandas II\n",
    "\n",
    "Name: Nick Satriano\n",
    "Class: CSCI 349 - Intro to Data Mining\n",
    "Semester: Spring 2023\n",
    "Instructor: Brian King"
   ]
  },
  {
   "cell_type": "code",
   "execution_count": 151,
   "id": "9966f4e3",
   "metadata": {},
   "outputs": [
    {
     "name": "stdout",
     "output_type": "stream",
     "text": [
      "Python version:  3.9.16 (main, Jan 11 2023, 16:16:36) [MSC v.1916 64 bit (AMD64)]\n",
      "Numpy version:  1.23.5\n",
      "Pandas version:  1.4.4\n"
     ]
    }
   ],
   "source": [
    "import sys\n",
    "import numpy as np\n",
    "import pandas as pd\n",
    "\n",
    "print(\"Python version: \", sys.version)\n",
    "print(\"Numpy version: \", np.__version__)\n",
    "print(\"Pandas version: \", pd.__version__)"
   ]
  },
  {
   "cell_type": "code",
   "execution_count": 152,
   "id": "679228fa",
   "metadata": {},
   "outputs": [
    {
     "data": {
      "text/html": [
       "<div>\n",
       "<style scoped>\n",
       "    .dataframe tbody tr th:only-of-type {\n",
       "        vertical-align: middle;\n",
       "    }\n",
       "\n",
       "    .dataframe tbody tr th {\n",
       "        vertical-align: top;\n",
       "    }\n",
       "\n",
       "    .dataframe thead th {\n",
       "        text-align: right;\n",
       "    }\n",
       "</style>\n",
       "<table border=\"1\" class=\"dataframe\">\n",
       "  <thead>\n",
       "    <tr style=\"text-align: right;\">\n",
       "      <th></th>\n",
       "      <th>Mon</th>\n",
       "      <th>Tues</th>\n",
       "      <th>Wed</th>\n",
       "      <th>Thu</th>\n",
       "      <th>Fri</th>\n",
       "      <th>Student</th>\n",
       "    </tr>\n",
       "  </thead>\n",
       "  <tbody>\n",
       "    <tr>\n",
       "      <th>week_1</th>\n",
       "      <td>8.75</td>\n",
       "      <td>9.50</td>\n",
       "      <td>8.00</td>\n",
       "      <td>10.00</td>\n",
       "      <td>7.75</td>\n",
       "      <td>Bob</td>\n",
       "    </tr>\n",
       "    <tr>\n",
       "      <th>week_1</th>\n",
       "      <td>8.00</td>\n",
       "      <td>9.00</td>\n",
       "      <td>10.00</td>\n",
       "      <td>8.75</td>\n",
       "      <td>7.25</td>\n",
       "      <td>Jane</td>\n",
       "    </tr>\n",
       "    <tr>\n",
       "      <th>week_2</th>\n",
       "      <td>0.00</td>\n",
       "      <td>8.00</td>\n",
       "      <td>9.75</td>\n",
       "      <td>9.00</td>\n",
       "      <td>6.00</td>\n",
       "      <td>Bob</td>\n",
       "    </tr>\n",
       "    <tr>\n",
       "      <th>week_2</th>\n",
       "      <td>8.25</td>\n",
       "      <td>7.00</td>\n",
       "      <td>0.00</td>\n",
       "      <td>9.25</td>\n",
       "      <td>8.00</td>\n",
       "      <td>Jane</td>\n",
       "    </tr>\n",
       "    <tr>\n",
       "      <th>week_3</th>\n",
       "      <td>8.50</td>\n",
       "      <td>7.00</td>\n",
       "      <td>9.25</td>\n",
       "      <td>0.00</td>\n",
       "      <td>0.00</td>\n",
       "      <td>Bob</td>\n",
       "    </tr>\n",
       "    <tr>\n",
       "      <th>week_3</th>\n",
       "      <td>8.25</td>\n",
       "      <td>8.25</td>\n",
       "      <td>0.00</td>\n",
       "      <td>8.00</td>\n",
       "      <td>7.50</td>\n",
       "      <td>Jane</td>\n",
       "    </tr>\n",
       "    <tr>\n",
       "      <th>week_4</th>\n",
       "      <td>6.50</td>\n",
       "      <td>8.75</td>\n",
       "      <td>8.50</td>\n",
       "      <td>8.00</td>\n",
       "      <td>6.00</td>\n",
       "      <td>Bob</td>\n",
       "    </tr>\n",
       "    <tr>\n",
       "      <th>week_4</th>\n",
       "      <td>10.00</td>\n",
       "      <td>9.25</td>\n",
       "      <td>8.50</td>\n",
       "      <td>7.75</td>\n",
       "      <td>7.50</td>\n",
       "      <td>Jane</td>\n",
       "    </tr>\n",
       "  </tbody>\n",
       "</table>\n",
       "</div>"
      ],
      "text/plain": [
       "          Mon  Tues    Wed    Thu   Fri Student\n",
       "week_1   8.75  9.50   8.00  10.00  7.75     Bob\n",
       "week_1   8.00  9.00  10.00   8.75  7.25    Jane\n",
       "week_2   0.00  8.00   9.75   9.00  6.00     Bob\n",
       "week_2   8.25  7.00   0.00   9.25  8.00    Jane\n",
       "week_3   8.50  7.00   9.25   0.00  0.00     Bob\n",
       "week_3   8.25  8.25   0.00   8.00  7.50    Jane\n",
       "week_4   6.50  8.75   8.50   8.00  6.00     Bob\n",
       "week_4  10.00  9.25   8.50   7.75  7.50    Jane"
      ]
     },
     "execution_count": 152,
     "metadata": {},
     "output_type": "execute_result"
    }
   ],
   "source": [
    "days = [\"Mon\",\"Tues\",\"Wed\",\"Thu\",\"Fri\",\"Student\"]\n",
    "\n",
    "scores = pd.DataFrame([pd.Series([8.75, 9.5, 8, 10, 7.75, \"Bob\"], index=days, name=\"week_1\"), pd.Series([8, 9, 10, 8.75, 7.25, \"Jane\"], index=days, name=\"week_1\"), pd.Series([0, 8, 9.75, 9, 6, \"Bob\"], index=days, name=\"week_2\"), pd.Series([8.25, 7, 0, 9.25, 8, \"Jane\"], index=days, name=\"week_2\"), pd.Series([8.5, 7, 9.25, 0, 0, \"Bob\"], index=days, name=\"week_3\"), pd.Series([8.25, 8.25, 0, 8, 7.5, \"Jane\"], index=days, name=\"week_3\"), pd.Series([6.5, 8.75, 8.5, 8, 6, \"Bob\"], index=days, name=\"week_4\"), pd.Series([10, 9.25, 8.5, 7.75, 7.5, \"Jane\"], index=days, name=\"week_4\"),])\n",
    "scores"
   ]
  },
  {
   "cell_type": "markdown",
   "id": "1c2e749b",
   "metadata": {},
   "source": [
    "#### 1) Report the shape, the number of dimensions, the size of the data, and the data types of each column. Print each separately. Then create an additional code cell that shows the results of scores.info(). Comment on what the info() method does on data frames."
   ]
  },
  {
   "cell_type": "code",
   "execution_count": 153,
   "id": "28f866b9",
   "metadata": {},
   "outputs": [
    {
     "name": "stdout",
     "output_type": "stream",
     "text": [
      "Shape:  (8, 6)\n",
      "Number of Dimensions:  2\n",
      "Size:  48\n"
     ]
    }
   ],
   "source": [
    "print(\"Shape: \", scores.shape)\n",
    "print(\"Number of Dimensions: \", scores.ndim)\n",
    "print(\"Size: \", scores.size)"
   ]
  },
  {
   "cell_type": "code",
   "execution_count": 154,
   "id": "3e3c91d1",
   "metadata": {},
   "outputs": [
    {
     "name": "stdout",
     "output_type": "stream",
     "text": [
      "<class 'pandas.core.frame.DataFrame'>\n",
      "Index: 8 entries, week_1 to week_4\n",
      "Data columns (total 6 columns):\n",
      " #   Column   Non-Null Count  Dtype  \n",
      "---  ------   --------------  -----  \n",
      " 0   Mon      8 non-null      float64\n",
      " 1   Tues     8 non-null      float64\n",
      " 2   Wed      8 non-null      float64\n",
      " 3   Thu      8 non-null      float64\n",
      " 4   Fri      8 non-null      float64\n",
      " 5   Student  8 non-null      object \n",
      "dtypes: float64(5), object(1)\n",
      "memory usage: 448.0+ bytes\n"
     ]
    }
   ],
   "source": [
    "# The info() method prints a description of the dimensions as well as the types and labels for each index.\n",
    "scores.info()"
   ]
  },
  {
   "cell_type": "markdown",
   "id": "b4f0ec2f",
   "metadata": {},
   "source": [
    "#### 2) Show two different ways to report the number of observations in scores."
   ]
  },
  {
   "cell_type": "code",
   "execution_count": 155,
   "id": "b244efee",
   "metadata": {},
   "outputs": [
    {
     "name": "stdout",
     "output_type": "stream",
     "text": [
      "8\n",
      "8\n"
     ]
    }
   ],
   "source": [
    "print(len(scores))\n",
    "print(scores.shape[0])"
   ]
  },
  {
   "cell_type": "markdown",
   "id": "0e72f411",
   "metadata": {},
   "source": [
    "#### 3) Show the variables (i.e. columns) in scores."
   ]
  },
  {
   "cell_type": "code",
   "execution_count": 156,
   "id": "31195ea5",
   "metadata": {},
   "outputs": [
    {
     "data": {
      "text/html": [
       "<div>\n",
       "<style scoped>\n",
       "    .dataframe tbody tr th:only-of-type {\n",
       "        vertical-align: middle;\n",
       "    }\n",
       "\n",
       "    .dataframe tbody tr th {\n",
       "        vertical-align: top;\n",
       "    }\n",
       "\n",
       "    .dataframe thead th {\n",
       "        text-align: right;\n",
       "    }\n",
       "</style>\n",
       "<table border=\"1\" class=\"dataframe\">\n",
       "  <thead>\n",
       "    <tr style=\"text-align: right;\">\n",
       "      <th></th>\n",
       "      <th>Mon</th>\n",
       "      <th>Tues</th>\n",
       "      <th>Wed</th>\n",
       "      <th>Thu</th>\n",
       "      <th>Fri</th>\n",
       "      <th>Student</th>\n",
       "    </tr>\n",
       "  </thead>\n",
       "  <tbody>\n",
       "  </tbody>\n",
       "</table>\n",
       "</div>"
      ],
      "text/plain": [
       "Empty DataFrame\n",
       "Columns: [Mon, Tues, Wed, Thu, Fri, Student]\n",
       "Index: []"
      ]
     },
     "execution_count": 156,
     "metadata": {},
     "output_type": "execute_result"
    }
   ],
   "source": [
    "scores[:0]"
   ]
  },
  {
   "cell_type": "markdown",
   "id": "e9e809ec",
   "metadata": {},
   "source": [
    "#### 4) There are repetitive names in the index. This happens quite a bit, depending on how the data is organized. For now, print the unique index names in scores"
   ]
  },
  {
   "cell_type": "code",
   "execution_count": 157,
   "id": "3edc17d0",
   "metadata": {},
   "outputs": [
    {
     "data": {
      "text/plain": [
       "Index(['week_1', 'week_2', 'week_3', 'week_4'], dtype='object')"
      ]
     },
     "execution_count": 157,
     "metadata": {},
     "output_type": "execute_result"
    }
   ],
   "source": [
    "scores.index.unique()"
   ]
  },
  {
   "cell_type": "markdown",
   "id": "5e5d9320",
   "metadata": {},
   "source": [
    "#### 5) Rename the 'Tues' column header to be 'Tue'. Show the new scores data frame. This should be the same, except with Tues changed to Tue."
   ]
  },
  {
   "cell_type": "code",
   "execution_count": 158,
   "id": "cd71f28e",
   "metadata": {},
   "outputs": [
    {
     "data": {
      "text/html": [
       "<div>\n",
       "<style scoped>\n",
       "    .dataframe tbody tr th:only-of-type {\n",
       "        vertical-align: middle;\n",
       "    }\n",
       "\n",
       "    .dataframe tbody tr th {\n",
       "        vertical-align: top;\n",
       "    }\n",
       "\n",
       "    .dataframe thead th {\n",
       "        text-align: right;\n",
       "    }\n",
       "</style>\n",
       "<table border=\"1\" class=\"dataframe\">\n",
       "  <thead>\n",
       "    <tr style=\"text-align: right;\">\n",
       "      <th></th>\n",
       "      <th>Mon</th>\n",
       "      <th>Tue</th>\n",
       "      <th>Wed</th>\n",
       "      <th>Thu</th>\n",
       "      <th>Fri</th>\n",
       "      <th>Student</th>\n",
       "    </tr>\n",
       "  </thead>\n",
       "  <tbody>\n",
       "    <tr>\n",
       "      <th>week_1</th>\n",
       "      <td>8.75</td>\n",
       "      <td>9.50</td>\n",
       "      <td>8.00</td>\n",
       "      <td>10.00</td>\n",
       "      <td>7.75</td>\n",
       "      <td>Bob</td>\n",
       "    </tr>\n",
       "    <tr>\n",
       "      <th>week_1</th>\n",
       "      <td>8.00</td>\n",
       "      <td>9.00</td>\n",
       "      <td>10.00</td>\n",
       "      <td>8.75</td>\n",
       "      <td>7.25</td>\n",
       "      <td>Jane</td>\n",
       "    </tr>\n",
       "    <tr>\n",
       "      <th>week_2</th>\n",
       "      <td>0.00</td>\n",
       "      <td>8.00</td>\n",
       "      <td>9.75</td>\n",
       "      <td>9.00</td>\n",
       "      <td>6.00</td>\n",
       "      <td>Bob</td>\n",
       "    </tr>\n",
       "    <tr>\n",
       "      <th>week_2</th>\n",
       "      <td>8.25</td>\n",
       "      <td>7.00</td>\n",
       "      <td>0.00</td>\n",
       "      <td>9.25</td>\n",
       "      <td>8.00</td>\n",
       "      <td>Jane</td>\n",
       "    </tr>\n",
       "    <tr>\n",
       "      <th>week_3</th>\n",
       "      <td>8.50</td>\n",
       "      <td>7.00</td>\n",
       "      <td>9.25</td>\n",
       "      <td>0.00</td>\n",
       "      <td>0.00</td>\n",
       "      <td>Bob</td>\n",
       "    </tr>\n",
       "    <tr>\n",
       "      <th>week_3</th>\n",
       "      <td>8.25</td>\n",
       "      <td>8.25</td>\n",
       "      <td>0.00</td>\n",
       "      <td>8.00</td>\n",
       "      <td>7.50</td>\n",
       "      <td>Jane</td>\n",
       "    </tr>\n",
       "    <tr>\n",
       "      <th>week_4</th>\n",
       "      <td>6.50</td>\n",
       "      <td>8.75</td>\n",
       "      <td>8.50</td>\n",
       "      <td>8.00</td>\n",
       "      <td>6.00</td>\n",
       "      <td>Bob</td>\n",
       "    </tr>\n",
       "    <tr>\n",
       "      <th>week_4</th>\n",
       "      <td>10.00</td>\n",
       "      <td>9.25</td>\n",
       "      <td>8.50</td>\n",
       "      <td>7.75</td>\n",
       "      <td>7.50</td>\n",
       "      <td>Jane</td>\n",
       "    </tr>\n",
       "  </tbody>\n",
       "</table>\n",
       "</div>"
      ],
      "text/plain": [
       "          Mon   Tue    Wed    Thu   Fri Student\n",
       "week_1   8.75  9.50   8.00  10.00  7.75     Bob\n",
       "week_1   8.00  9.00  10.00   8.75  7.25    Jane\n",
       "week_2   0.00  8.00   9.75   9.00  6.00     Bob\n",
       "week_2   8.25  7.00   0.00   9.25  8.00    Jane\n",
       "week_3   8.50  7.00   9.25   0.00  0.00     Bob\n",
       "week_3   8.25  8.25   0.00   8.00  7.50    Jane\n",
       "week_4   6.50  8.75   8.50   8.00  6.00     Bob\n",
       "week_4  10.00  9.25   8.50   7.75  7.50    Jane"
      ]
     },
     "execution_count": 158,
     "metadata": {},
     "output_type": "execute_result"
    }
   ],
   "source": [
    "# Citation: chatGPT\n",
    "scores.rename(columns = {\"Tues\": \"Tue\"}, inplace=True)\n",
    "scores"
   ]
  },
  {
   "cell_type": "markdown",
   "id": "602d152c",
   "metadata": {},
   "source": [
    "#### 6) Now, make a bigger change. Let's rename 'week_1' to be 'w1', 'week_2' to be 'w2', and so on. Also, suppose you decide to use only 2 letter abbreviations for the days. Rename the days in the column names to be 'Mo', 'Tu', 'We', 'Th', 'Fr'. Show the updated scores dataframe."
   ]
  },
  {
   "cell_type": "code",
   "execution_count": 159,
   "id": "f06c128b",
   "metadata": {},
   "outputs": [
    {
     "data": {
      "text/html": [
       "<div>\n",
       "<style scoped>\n",
       "    .dataframe tbody tr th:only-of-type {\n",
       "        vertical-align: middle;\n",
       "    }\n",
       "\n",
       "    .dataframe tbody tr th {\n",
       "        vertical-align: top;\n",
       "    }\n",
       "\n",
       "    .dataframe thead th {\n",
       "        text-align: right;\n",
       "    }\n",
       "</style>\n",
       "<table border=\"1\" class=\"dataframe\">\n",
       "  <thead>\n",
       "    <tr style=\"text-align: right;\">\n",
       "      <th></th>\n",
       "      <th>Mo</th>\n",
       "      <th>Tu</th>\n",
       "      <th>We</th>\n",
       "      <th>Th</th>\n",
       "      <th>Fr</th>\n",
       "      <th>Student</th>\n",
       "    </tr>\n",
       "  </thead>\n",
       "  <tbody>\n",
       "    <tr>\n",
       "      <th>w1</th>\n",
       "      <td>8.75</td>\n",
       "      <td>9.50</td>\n",
       "      <td>8.00</td>\n",
       "      <td>10.00</td>\n",
       "      <td>7.75</td>\n",
       "      <td>Bob</td>\n",
       "    </tr>\n",
       "    <tr>\n",
       "      <th>w1</th>\n",
       "      <td>8.00</td>\n",
       "      <td>9.00</td>\n",
       "      <td>10.00</td>\n",
       "      <td>8.75</td>\n",
       "      <td>7.25</td>\n",
       "      <td>Jane</td>\n",
       "    </tr>\n",
       "    <tr>\n",
       "      <th>w2</th>\n",
       "      <td>0.00</td>\n",
       "      <td>8.00</td>\n",
       "      <td>9.75</td>\n",
       "      <td>9.00</td>\n",
       "      <td>6.00</td>\n",
       "      <td>Bob</td>\n",
       "    </tr>\n",
       "    <tr>\n",
       "      <th>w2</th>\n",
       "      <td>8.25</td>\n",
       "      <td>7.00</td>\n",
       "      <td>0.00</td>\n",
       "      <td>9.25</td>\n",
       "      <td>8.00</td>\n",
       "      <td>Jane</td>\n",
       "    </tr>\n",
       "    <tr>\n",
       "      <th>w3</th>\n",
       "      <td>8.50</td>\n",
       "      <td>7.00</td>\n",
       "      <td>9.25</td>\n",
       "      <td>0.00</td>\n",
       "      <td>0.00</td>\n",
       "      <td>Bob</td>\n",
       "    </tr>\n",
       "    <tr>\n",
       "      <th>w3</th>\n",
       "      <td>8.25</td>\n",
       "      <td>8.25</td>\n",
       "      <td>0.00</td>\n",
       "      <td>8.00</td>\n",
       "      <td>7.50</td>\n",
       "      <td>Jane</td>\n",
       "    </tr>\n",
       "    <tr>\n",
       "      <th>w4</th>\n",
       "      <td>6.50</td>\n",
       "      <td>8.75</td>\n",
       "      <td>8.50</td>\n",
       "      <td>8.00</td>\n",
       "      <td>6.00</td>\n",
       "      <td>Bob</td>\n",
       "    </tr>\n",
       "    <tr>\n",
       "      <th>w4</th>\n",
       "      <td>10.00</td>\n",
       "      <td>9.25</td>\n",
       "      <td>8.50</td>\n",
       "      <td>7.75</td>\n",
       "      <td>7.50</td>\n",
       "      <td>Jane</td>\n",
       "    </tr>\n",
       "  </tbody>\n",
       "</table>\n",
       "</div>"
      ],
      "text/plain": [
       "       Mo    Tu     We     Th    Fr Student\n",
       "w1   8.75  9.50   8.00  10.00  7.75     Bob\n",
       "w1   8.00  9.00  10.00   8.75  7.25    Jane\n",
       "w2   0.00  8.00   9.75   9.00  6.00     Bob\n",
       "w2   8.25  7.00   0.00   9.25  8.00    Jane\n",
       "w3   8.50  7.00   9.25   0.00  0.00     Bob\n",
       "w3   8.25  8.25   0.00   8.00  7.50    Jane\n",
       "w4   6.50  8.75   8.50   8.00  6.00     Bob\n",
       "w4  10.00  9.25   8.50   7.75  7.50    Jane"
      ]
     },
     "execution_count": 159,
     "metadata": {},
     "output_type": "execute_result"
    }
   ],
   "source": [
    "scores.rename(index = {\"week_1\": \"w1\", \"week_2\": \"w2\", \"week_3\": \"w3\", \"week_4\": \"w4\"}, inplace=True)\n",
    "\n",
    "scores.rename(columns = {\"Mon\": \"Mo\", \"Tue\": \"Tu\", \"Wed\": \"We\", \"Thu\": \"Th\", \"Fri\": \"Fr\"}, inplace=True)\\\n",
    "\n",
    "scores"
   ]
  },
  {
   "cell_type": "markdown",
   "id": "c32ed0c6",
   "metadata": {},
   "source": [
    "#### 7) Compare the type of the expression scores['Mo'] vs. scores[['Mo']]. What is the difference?"
   ]
  },
  {
   "cell_type": "code",
   "execution_count": 160,
   "id": "8e6f4133",
   "metadata": {},
   "outputs": [
    {
     "name": "stdout",
     "output_type": "stream",
     "text": [
      "<class 'pandas.core.series.Series'>\n",
      "<class 'pandas.core.frame.DataFrame'>\n"
     ]
    }
   ],
   "source": [
    "print(type(scores[\"Mo\"]))\n",
    "print(type(scores[[\"Mo\"]]))"
   ]
  },
  {
   "cell_type": "markdown",
   "id": "fcf337a7",
   "metadata": {},
   "source": [
    "For the first expression, a Series is returned whereas for the second, a DataFrame is returned."
   ]
  },
  {
   "cell_type": "markdown",
   "id": "8b672f31",
   "metadata": {},
   "source": [
    "#### 8) Demonstrate the describe() method on scores. What type does it return?"
   ]
  },
  {
   "cell_type": "code",
   "execution_count": 161,
   "id": "7b51f9fa",
   "metadata": {},
   "outputs": [
    {
     "name": "stdout",
     "output_type": "stream",
     "text": [
      "              Mo        Tu         We         Th        Fr\n",
      "count   8.000000  8.000000   8.000000   8.000000  8.000000\n",
      "mean    7.281250  8.343750   6.750000   7.593750  6.250000\n",
      "std     3.095035  0.963045   4.219428   3.159276  2.635608\n",
      "min     0.000000  7.000000   0.000000   0.000000  0.000000\n",
      "25%     7.625000  7.750000   6.000000   7.937500  6.000000\n",
      "50%     8.250000  8.500000   8.500000   8.375000  7.375000\n",
      "75%     8.562500  9.062500   9.375000   9.062500  7.562500\n",
      "max    10.000000  9.500000  10.000000  10.000000  8.000000\n",
      "<class 'pandas.core.frame.DataFrame'>\n"
     ]
    }
   ],
   "source": [
    "print(scores.describe())\n",
    "\n",
    "print(type(scores.describe()))"
   ]
  },
  {
   "cell_type": "markdown",
   "id": "9726b575",
   "metadata": {},
   "source": [
    "#### 9)  Store the output of describe() as a variable. Then, using this data frame, report the day that had the largest standard deviation in quiz scores and its value. Clean your temporary variables when complete (i.e. use del)"
   ]
  },
  {
   "cell_type": "code",
   "execution_count": 162,
   "id": "d371809d",
   "metadata": {},
   "outputs": [
    {
     "name": "stdout",
     "output_type": "stream",
     "text": [
      "We had the highest standard deviation:  4.219427855595049\n"
     ]
    }
   ],
   "source": [
    "x = scores.describe()\n",
    "\n",
    "print(x.loc[\"std\"].idxmax(), \"had the highest standard deviation: \", x.loc[\"std\"].max())\n",
    "del x"
   ]
  },
  {
   "cell_type": "markdown",
   "id": "4808a396",
   "metadata": {},
   "source": [
    "#### 10) Write the Python code to repeat the previous exercise without using describe()."
   ]
  },
  {
   "cell_type": "code",
   "execution_count": 163,
   "id": "abf5a8bd",
   "metadata": {},
   "outputs": [
    {
     "name": "stdout",
     "output_type": "stream",
     "text": [
      "We had the highest standard deviation:  4.219427855595049\n"
     ]
    }
   ],
   "source": [
    "x = scores.std(numeric_only = True).idxmax()\n",
    "print(x, \"had the highest standard deviation: \", scores.std(numeric_only = True).max())\n",
    "del x"
   ]
  },
  {
   "cell_type": "markdown",
   "id": "347e9ef6",
   "metadata": {},
   "source": [
    "#### 11) Write the code that changes all 0.0 entries to np.nan. (NOTE: You should be able to do this with just one line of code using pandas selection techniques!) Then, show scores. All 0.0 entries should be replaced with NaN in the output."
   ]
  },
  {
   "cell_type": "code",
   "execution_count": 164,
   "id": "7f6dcf09",
   "metadata": {},
   "outputs": [
    {
     "data": {
      "text/html": [
       "<div>\n",
       "<style scoped>\n",
       "    .dataframe tbody tr th:only-of-type {\n",
       "        vertical-align: middle;\n",
       "    }\n",
       "\n",
       "    .dataframe tbody tr th {\n",
       "        vertical-align: top;\n",
       "    }\n",
       "\n",
       "    .dataframe thead th {\n",
       "        text-align: right;\n",
       "    }\n",
       "</style>\n",
       "<table border=\"1\" class=\"dataframe\">\n",
       "  <thead>\n",
       "    <tr style=\"text-align: right;\">\n",
       "      <th></th>\n",
       "      <th>Mo</th>\n",
       "      <th>Tu</th>\n",
       "      <th>We</th>\n",
       "      <th>Th</th>\n",
       "      <th>Fr</th>\n",
       "      <th>Student</th>\n",
       "    </tr>\n",
       "  </thead>\n",
       "  <tbody>\n",
       "    <tr>\n",
       "      <th>w1</th>\n",
       "      <td>8.75</td>\n",
       "      <td>9.50</td>\n",
       "      <td>8.00</td>\n",
       "      <td>10.00</td>\n",
       "      <td>7.75</td>\n",
       "      <td>Bob</td>\n",
       "    </tr>\n",
       "    <tr>\n",
       "      <th>w1</th>\n",
       "      <td>8.00</td>\n",
       "      <td>9.00</td>\n",
       "      <td>10.00</td>\n",
       "      <td>8.75</td>\n",
       "      <td>7.25</td>\n",
       "      <td>Jane</td>\n",
       "    </tr>\n",
       "    <tr>\n",
       "      <th>w2</th>\n",
       "      <td>NaN</td>\n",
       "      <td>8.00</td>\n",
       "      <td>9.75</td>\n",
       "      <td>9.00</td>\n",
       "      <td>6.00</td>\n",
       "      <td>Bob</td>\n",
       "    </tr>\n",
       "    <tr>\n",
       "      <th>w2</th>\n",
       "      <td>8.25</td>\n",
       "      <td>7.00</td>\n",
       "      <td>NaN</td>\n",
       "      <td>9.25</td>\n",
       "      <td>8.00</td>\n",
       "      <td>Jane</td>\n",
       "    </tr>\n",
       "    <tr>\n",
       "      <th>w3</th>\n",
       "      <td>8.50</td>\n",
       "      <td>7.00</td>\n",
       "      <td>9.25</td>\n",
       "      <td>NaN</td>\n",
       "      <td>NaN</td>\n",
       "      <td>Bob</td>\n",
       "    </tr>\n",
       "    <tr>\n",
       "      <th>w3</th>\n",
       "      <td>8.25</td>\n",
       "      <td>8.25</td>\n",
       "      <td>NaN</td>\n",
       "      <td>8.00</td>\n",
       "      <td>7.50</td>\n",
       "      <td>Jane</td>\n",
       "    </tr>\n",
       "    <tr>\n",
       "      <th>w4</th>\n",
       "      <td>6.50</td>\n",
       "      <td>8.75</td>\n",
       "      <td>8.50</td>\n",
       "      <td>8.00</td>\n",
       "      <td>6.00</td>\n",
       "      <td>Bob</td>\n",
       "    </tr>\n",
       "    <tr>\n",
       "      <th>w4</th>\n",
       "      <td>10.00</td>\n",
       "      <td>9.25</td>\n",
       "      <td>8.50</td>\n",
       "      <td>7.75</td>\n",
       "      <td>7.50</td>\n",
       "      <td>Jane</td>\n",
       "    </tr>\n",
       "  </tbody>\n",
       "</table>\n",
       "</div>"
      ],
      "text/plain": [
       "       Mo    Tu     We     Th    Fr Student\n",
       "w1   8.75  9.50   8.00  10.00  7.75     Bob\n",
       "w1   8.00  9.00  10.00   8.75  7.25    Jane\n",
       "w2    NaN  8.00   9.75   9.00  6.00     Bob\n",
       "w2   8.25  7.00    NaN   9.25  8.00    Jane\n",
       "w3   8.50  7.00   9.25    NaN   NaN     Bob\n",
       "w3   8.25  8.25    NaN   8.00  7.50    Jane\n",
       "w4   6.50  8.75   8.50   8.00  6.00     Bob\n",
       "w4  10.00  9.25   8.50   7.75  7.50    Jane"
      ]
     },
     "execution_count": 164,
     "metadata": {},
     "output_type": "execute_result"
    }
   ],
   "source": [
    "scores.replace(0, np.nan, inplace=True)\n",
    "\n",
    "scores"
   ]
  },
  {
   "cell_type": "markdown",
   "id": "b8f931c6",
   "metadata": {},
   "source": [
    "#### 12) Show the output of describe() again."
   ]
  },
  {
   "cell_type": "code",
   "execution_count": 165,
   "id": "d3fd591e",
   "metadata": {},
   "outputs": [
    {
     "name": "stdout",
     "output_type": "stream",
     "text": [
      "              Mo        Tu         We         Th        Fr\n",
      "count   7.000000  8.000000   6.000000   7.000000  7.000000\n",
      "mean    8.321429  8.343750   9.000000   8.678571  7.142857\n",
      "std     1.037970  0.963045   0.790569   0.812843  0.814672\n",
      "min     6.500000  7.000000   8.000000   7.750000  6.000000\n",
      "25%     8.125000  7.750000   8.500000   8.000000  6.625000\n",
      "50%     8.250000  8.500000   8.875000   8.750000  7.500000\n",
      "75%     8.625000  9.062500   9.625000   9.125000  7.625000\n",
      "max    10.000000  9.500000  10.000000  10.000000  8.000000\n",
      "Mo had the highest standard deviation:  1.0379696297970151\n"
     ]
    }
   ],
   "source": [
    "print(scores.describe())\n",
    "\n",
    "print(scores.std(numeric_only = True).idxmax(), \"had the highest standard deviation: \", scores.std(numeric_only = True).max())"
   ]
  },
  {
   "cell_type": "markdown",
   "id": "89f42a14",
   "metadata": {},
   "source": [
    "#### 13)  Show the output of scores.values. What does the .values attribute do? "
   ]
  },
  {
   "cell_type": "code",
   "execution_count": 166,
   "id": "c5abd29e",
   "metadata": {},
   "outputs": [
    {
     "name": "stdout",
     "output_type": "stream",
     "text": [
      "[[8.75 9.5 8.0 10.0 7.75 'Bob']\n",
      " [8.0 9.0 10.0 8.75 7.25 'Jane']\n",
      " [nan 8.0 9.75 9.0 6.0 'Bob']\n",
      " [8.25 7.0 nan 9.25 8.0 'Jane']\n",
      " [8.5 7.0 9.25 nan nan 'Bob']\n",
      " [8.25 8.25 nan 8.0 7.5 'Jane']\n",
      " [6.5 8.75 8.5 8.0 6.0 'Bob']\n",
      " [10.0 9.25 8.5 7.75 7.5 'Jane']]\n"
     ]
    }
   ],
   "source": [
    "print(scores.values)"
   ]
  },
  {
   "cell_type": "markdown",
   "id": "4a9de270",
   "metadata": {},
   "source": [
    "The .values attribute returns each observation in the DataFrame."
   ]
  },
  {
   "cell_type": "markdown",
   "id": "d3c2d56b",
   "metadata": {},
   "source": [
    "#### 14) What is the mean quiz score for each day? Do not use describe()."
   ]
  },
  {
   "cell_type": "code",
   "execution_count": 167,
   "id": "efe4df15",
   "metadata": {},
   "outputs": [
    {
     "data": {
      "text/plain": [
       "Mo    8.321429\n",
       "Tu    8.343750\n",
       "We    9.000000\n",
       "Th    8.678571\n",
       "Fr    7.142857\n",
       "dtype: float64"
      ]
     },
     "execution_count": 167,
     "metadata": {},
     "output_type": "execute_result"
    }
   ],
   "source": [
    "scores.mean(axis=0, numeric_only = True)"
   ]
  },
  {
   "cell_type": "markdown",
   "id": "3c273db6",
   "metadata": {},
   "source": [
    "#### 15) What is the mean quiz score over the entire dataset, ignoring all missing values?"
   ]
  },
  {
   "cell_type": "code",
   "execution_count": 168,
   "id": "02c9c7ce",
   "metadata": {},
   "outputs": [
    {
     "data": {
      "text/plain": [
       "8.29732142857143"
      ]
     },
     "execution_count": 168,
     "metadata": {},
     "output_type": "execute_result"
    }
   ],
   "source": [
    "scores.mean(numeric_only = True).mean()"
   ]
  },
  {
   "cell_type": "markdown",
   "id": "df9bb339",
   "metadata": {},
   "source": [
    "#### 16)  Show the mean for each week over all students."
   ]
  },
  {
   "cell_type": "code",
   "execution_count": 169,
   "id": "9e89a136",
   "metadata": {},
   "outputs": [
    {
     "data": {
      "text/plain": [
       "w1    8.700\n",
       "w2    8.325\n",
       "w3    8.150\n",
       "w4    8.075\n",
       "dtype: float64"
      ]
     },
     "execution_count": 169,
     "metadata": {},
     "output_type": "execute_result"
    }
   ],
   "source": [
    "# Citation: chatGPT\n",
    "scores.groupby(by = scores.index).mean(numeric_only = True).mean(axis = 1)"
   ]
  },
  {
   "cell_type": "markdown",
   "id": "7262acdd",
   "metadata": {},
   "source": [
    "#### 17) Show the mean score for each student. Again, ignore all missing values."
   ]
  },
  {
   "cell_type": "code",
   "execution_count": 170,
   "id": "d783c676",
   "metadata": {},
   "outputs": [
    {
     "data": {
      "text/plain": [
       "Student\n",
       "Bob     8.1375\n",
       "Jane    8.4500\n",
       "dtype: float64"
      ]
     },
     "execution_count": 170,
     "metadata": {},
     "output_type": "execute_result"
    }
   ],
   "source": [
    "scores.groupby(by = scores.Student).mean(numeric_only = True).mean(axis = 1)"
   ]
  },
  {
   "cell_type": "markdown",
   "id": "54e95f5d",
   "metadata": {},
   "source": [
    "#### 18) Select the data that includes only data for Monday and the Student variables using .loc, and again using .iloc"
   ]
  },
  {
   "cell_type": "code",
   "execution_count": 171,
   "id": "9b6ab7ff",
   "metadata": {},
   "outputs": [
    {
     "data": {
      "text/html": [
       "<div>\n",
       "<style scoped>\n",
       "    .dataframe tbody tr th:only-of-type {\n",
       "        vertical-align: middle;\n",
       "    }\n",
       "\n",
       "    .dataframe tbody tr th {\n",
       "        vertical-align: top;\n",
       "    }\n",
       "\n",
       "    .dataframe thead th {\n",
       "        text-align: right;\n",
       "    }\n",
       "</style>\n",
       "<table border=\"1\" class=\"dataframe\">\n",
       "  <thead>\n",
       "    <tr style=\"text-align: right;\">\n",
       "      <th></th>\n",
       "      <th>Mo</th>\n",
       "      <th>Student</th>\n",
       "    </tr>\n",
       "  </thead>\n",
       "  <tbody>\n",
       "    <tr>\n",
       "      <th>w1</th>\n",
       "      <td>8.75</td>\n",
       "      <td>Bob</td>\n",
       "    </tr>\n",
       "    <tr>\n",
       "      <th>w1</th>\n",
       "      <td>8.00</td>\n",
       "      <td>Jane</td>\n",
       "    </tr>\n",
       "    <tr>\n",
       "      <th>w2</th>\n",
       "      <td>NaN</td>\n",
       "      <td>Bob</td>\n",
       "    </tr>\n",
       "    <tr>\n",
       "      <th>w2</th>\n",
       "      <td>8.25</td>\n",
       "      <td>Jane</td>\n",
       "    </tr>\n",
       "    <tr>\n",
       "      <th>w3</th>\n",
       "      <td>8.50</td>\n",
       "      <td>Bob</td>\n",
       "    </tr>\n",
       "    <tr>\n",
       "      <th>w3</th>\n",
       "      <td>8.25</td>\n",
       "      <td>Jane</td>\n",
       "    </tr>\n",
       "    <tr>\n",
       "      <th>w4</th>\n",
       "      <td>6.50</td>\n",
       "      <td>Bob</td>\n",
       "    </tr>\n",
       "    <tr>\n",
       "      <th>w4</th>\n",
       "      <td>10.00</td>\n",
       "      <td>Jane</td>\n",
       "    </tr>\n",
       "  </tbody>\n",
       "</table>\n",
       "</div>"
      ],
      "text/plain": [
       "       Mo Student\n",
       "w1   8.75     Bob\n",
       "w1   8.00    Jane\n",
       "w2    NaN     Bob\n",
       "w2   8.25    Jane\n",
       "w3   8.50     Bob\n",
       "w3   8.25    Jane\n",
       "w4   6.50     Bob\n",
       "w4  10.00    Jane"
      ]
     },
     "execution_count": 171,
     "metadata": {},
     "output_type": "execute_result"
    }
   ],
   "source": [
    "scores.loc[:, [\"Mo\", \"Student\"]]"
   ]
  },
  {
   "cell_type": "code",
   "execution_count": 172,
   "id": "c179e62a",
   "metadata": {},
   "outputs": [
    {
     "data": {
      "text/html": [
       "<div>\n",
       "<style scoped>\n",
       "    .dataframe tbody tr th:only-of-type {\n",
       "        vertical-align: middle;\n",
       "    }\n",
       "\n",
       "    .dataframe tbody tr th {\n",
       "        vertical-align: top;\n",
       "    }\n",
       "\n",
       "    .dataframe thead th {\n",
       "        text-align: right;\n",
       "    }\n",
       "</style>\n",
       "<table border=\"1\" class=\"dataframe\">\n",
       "  <thead>\n",
       "    <tr style=\"text-align: right;\">\n",
       "      <th></th>\n",
       "      <th>Mo</th>\n",
       "      <th>Student</th>\n",
       "    </tr>\n",
       "  </thead>\n",
       "  <tbody>\n",
       "    <tr>\n",
       "      <th>w1</th>\n",
       "      <td>8.75</td>\n",
       "      <td>Bob</td>\n",
       "    </tr>\n",
       "    <tr>\n",
       "      <th>w1</th>\n",
       "      <td>8.00</td>\n",
       "      <td>Jane</td>\n",
       "    </tr>\n",
       "    <tr>\n",
       "      <th>w2</th>\n",
       "      <td>NaN</td>\n",
       "      <td>Bob</td>\n",
       "    </tr>\n",
       "    <tr>\n",
       "      <th>w2</th>\n",
       "      <td>8.25</td>\n",
       "      <td>Jane</td>\n",
       "    </tr>\n",
       "    <tr>\n",
       "      <th>w3</th>\n",
       "      <td>8.50</td>\n",
       "      <td>Bob</td>\n",
       "    </tr>\n",
       "    <tr>\n",
       "      <th>w3</th>\n",
       "      <td>8.25</td>\n",
       "      <td>Jane</td>\n",
       "    </tr>\n",
       "    <tr>\n",
       "      <th>w4</th>\n",
       "      <td>6.50</td>\n",
       "      <td>Bob</td>\n",
       "    </tr>\n",
       "    <tr>\n",
       "      <th>w4</th>\n",
       "      <td>10.00</td>\n",
       "      <td>Jane</td>\n",
       "    </tr>\n",
       "  </tbody>\n",
       "</table>\n",
       "</div>"
      ],
      "text/plain": [
       "       Mo Student\n",
       "w1   8.75     Bob\n",
       "w1   8.00    Jane\n",
       "w2    NaN     Bob\n",
       "w2   8.25    Jane\n",
       "w3   8.50     Bob\n",
       "w3   8.25    Jane\n",
       "w4   6.50     Bob\n",
       "w4  10.00    Jane"
      ]
     },
     "execution_count": 172,
     "metadata": {},
     "output_type": "execute_result"
    }
   ],
   "source": [
    "scores.iloc[:, [0, 5]]"
   ]
  },
  {
   "cell_type": "markdown",
   "id": "fb352bd0",
   "metadata": {},
   "source": [
    "#### 19) Show a new DataFrame containing the week as an index (like the original), but contains only each student with the count of their quizzes and the mean of their scores."
   ]
  },
  {
   "cell_type": "code",
   "execution_count": 225,
   "id": "347c36ca",
   "metadata": {},
   "outputs": [
    {
     "data": {
      "text/html": [
       "<div>\n",
       "<style scoped>\n",
       "    .dataframe tbody tr th:only-of-type {\n",
       "        vertical-align: middle;\n",
       "    }\n",
       "\n",
       "    .dataframe tbody tr th {\n",
       "        vertical-align: top;\n",
       "    }\n",
       "\n",
       "    .dataframe thead th {\n",
       "        text-align: right;\n",
       "    }\n",
       "</style>\n",
       "<table border=\"1\" class=\"dataframe\">\n",
       "  <thead>\n",
       "    <tr style=\"text-align: right;\">\n",
       "      <th></th>\n",
       "      <th>Student</th>\n",
       "      <th>count</th>\n",
       "      <th>mean</th>\n",
       "    </tr>\n",
       "  </thead>\n",
       "  <tbody>\n",
       "    <tr>\n",
       "      <th>w1</th>\n",
       "      <td>Bob</td>\n",
       "      <td>5</td>\n",
       "      <td>8.8000</td>\n",
       "    </tr>\n",
       "    <tr>\n",
       "      <th>w1</th>\n",
       "      <td>Jane</td>\n",
       "      <td>5</td>\n",
       "      <td>8.6000</td>\n",
       "    </tr>\n",
       "    <tr>\n",
       "      <th>w2</th>\n",
       "      <td>Bob</td>\n",
       "      <td>4</td>\n",
       "      <td>8.1875</td>\n",
       "    </tr>\n",
       "    <tr>\n",
       "      <th>w2</th>\n",
       "      <td>Jane</td>\n",
       "      <td>4</td>\n",
       "      <td>8.1250</td>\n",
       "    </tr>\n",
       "    <tr>\n",
       "      <th>w3</th>\n",
       "      <td>Bob</td>\n",
       "      <td>3</td>\n",
       "      <td>8.2500</td>\n",
       "    </tr>\n",
       "    <tr>\n",
       "      <th>w3</th>\n",
       "      <td>Jane</td>\n",
       "      <td>4</td>\n",
       "      <td>8.0000</td>\n",
       "    </tr>\n",
       "    <tr>\n",
       "      <th>w4</th>\n",
       "      <td>Bob</td>\n",
       "      <td>5</td>\n",
       "      <td>7.5500</td>\n",
       "    </tr>\n",
       "    <tr>\n",
       "      <th>w4</th>\n",
       "      <td>Jane</td>\n",
       "      <td>5</td>\n",
       "      <td>8.6000</td>\n",
       "    </tr>\n",
       "  </tbody>\n",
       "</table>\n",
       "</div>"
      ],
      "text/plain": [
       "   Student  count    mean\n",
       "w1     Bob      5  8.8000\n",
       "w1    Jane      5  8.6000\n",
       "w2     Bob      4  8.1875\n",
       "w2    Jane      4  8.1250\n",
       "w3     Bob      3  8.2500\n",
       "w3    Jane      4  8.0000\n",
       "w4     Bob      5  7.5500\n",
       "w4    Jane      5  8.6000"
      ]
     },
     "execution_count": 225,
     "metadata": {},
     "output_type": "execute_result"
    }
   ],
   "source": [
    "new_scores = pd.DataFrame(scores.loc[:, [\"Student\"]])\n",
    "new_scores[\"count\"] = scores.count(axis = 1, numeric_only = True)\n",
    "new_scores[\"mean\"] = scores.mean(axis = 1, numeric_only = True)\n",
    "new_scores"
   ]
  },
  {
   "cell_type": "markdown",
   "id": "39a7d08d",
   "metadata": {},
   "source": [
    "#### 20) This time, show the total number of quizzes taken each week by all students."
   ]
  },
  {
   "cell_type": "code",
   "execution_count": 226,
   "id": "9aacc08c",
   "metadata": {},
   "outputs": [
    {
     "data": {
      "text/html": [
       "<div>\n",
       "<style scoped>\n",
       "    .dataframe tbody tr th:only-of-type {\n",
       "        vertical-align: middle;\n",
       "    }\n",
       "\n",
       "    .dataframe tbody tr th {\n",
       "        vertical-align: top;\n",
       "    }\n",
       "\n",
       "    .dataframe thead th {\n",
       "        text-align: right;\n",
       "    }\n",
       "</style>\n",
       "<table border=\"1\" class=\"dataframe\">\n",
       "  <thead>\n",
       "    <tr style=\"text-align: right;\">\n",
       "      <th></th>\n",
       "      <th>count</th>\n",
       "      <th>mean</th>\n",
       "    </tr>\n",
       "  </thead>\n",
       "  <tbody>\n",
       "    <tr>\n",
       "      <th>w1</th>\n",
       "      <td>10</td>\n",
       "      <td>17.4000</td>\n",
       "    </tr>\n",
       "    <tr>\n",
       "      <th>w2</th>\n",
       "      <td>8</td>\n",
       "      <td>16.3125</td>\n",
       "    </tr>\n",
       "    <tr>\n",
       "      <th>w3</th>\n",
       "      <td>7</td>\n",
       "      <td>16.2500</td>\n",
       "    </tr>\n",
       "    <tr>\n",
       "      <th>w4</th>\n",
       "      <td>10</td>\n",
       "      <td>16.1500</td>\n",
       "    </tr>\n",
       "  </tbody>\n",
       "</table>\n",
       "</div>"
      ],
      "text/plain": [
       "    count     mean\n",
       "w1     10  17.4000\n",
       "w2      8  16.3125\n",
       "w3      7  16.2500\n",
       "w4     10  16.1500"
      ]
     },
     "execution_count": 226,
     "metadata": {},
     "output_type": "execute_result"
    }
   ],
   "source": [
    "new_scores.groupby(by = new_scores.index).sum(numeric_only = True)\n"
   ]
  },
  {
   "cell_type": "markdown",
   "id": "752c0cdc",
   "metadata": {},
   "source": [
    "#### 21) Show the number of times Friday's score was <= 7.5 for each student. Start by selecting a subset of observations, then use value_counts() on the Student variable of the selected data."
   ]
  },
  {
   "cell_type": "code",
   "execution_count": 227,
   "id": "cbbcd711",
   "metadata": {},
   "outputs": [
    {
     "data": {
      "text/plain": [
       "Jane    3\n",
       "Bob     2\n",
       "Name: Student, dtype: int64"
      ]
     },
     "execution_count": 227,
     "metadata": {},
     "output_type": "execute_result"
    }
   ],
   "source": [
    "x = scores.loc[:, [\"Student\", \"Fr\"]]\n",
    "x[x[\"Fr\"] <= 7.5].Student.value_counts()\n"
   ]
  },
  {
   "cell_type": "markdown",
   "id": "5d062b15",
   "metadata": {},
   "source": [
    "#### 22) Repeat the previous exercise, but this time use the where() method on scores to select your data. You should have the same output."
   ]
  },
  {
   "cell_type": "code",
   "execution_count": 256,
   "id": "4d16a18e",
   "metadata": {},
   "outputs": [
    {
     "data": {
      "text/plain": [
       "Jane    3\n",
       "Bob     2\n",
       "Name: Student, dtype: int64"
      ]
     },
     "execution_count": 256,
     "metadata": {},
     "output_type": "execute_result"
    }
   ],
   "source": [
    "scores.where(scores[\"Fr\"] <= 7.5).Student.value_counts()"
   ]
  },
  {
   "cell_type": "markdown",
   "id": "b7975c56",
   "metadata": {},
   "source": [
    "#### 23) Select the scores that were greater than the mean score over the entire dataset (without the missing values). Then, report the number of scores for each day that exceeded that global mean. "
   ]
  },
  {
   "cell_type": "code",
   "execution_count": 306,
   "id": "c104f52a",
   "metadata": {},
   "outputs": [
    {
     "data": {
      "text/plain": [
       "Mo         3\n",
       "Tu         4\n",
       "We         5\n",
       "Th         4\n",
       "Fr         0\n",
       "Student    0\n",
       "dtype: int64"
      ]
     },
     "execution_count": 306,
     "metadata": {},
     "output_type": "execute_result"
    }
   ],
   "source": [
    "avg = (scores.mean(numeric_only = True).mean())\n",
    "\n",
    "scores.where(scores.iloc[:,0:5] > avg).count()\n"
   ]
  },
  {
   "cell_type": "markdown",
   "id": "76ed111e",
   "metadata": {},
   "source": [
    "#### 24) Sometimes when we deal with enormous datasets for modeling, we drop all observations (rows!) that have any missing data. Show a new data frame that has only complete observations."
   ]
  },
  {
   "cell_type": "code",
   "execution_count": 295,
   "id": "902576fa",
   "metadata": {},
   "outputs": [
    {
     "data": {
      "text/html": [
       "<div>\n",
       "<style scoped>\n",
       "    .dataframe tbody tr th:only-of-type {\n",
       "        vertical-align: middle;\n",
       "    }\n",
       "\n",
       "    .dataframe tbody tr th {\n",
       "        vertical-align: top;\n",
       "    }\n",
       "\n",
       "    .dataframe thead th {\n",
       "        text-align: right;\n",
       "    }\n",
       "</style>\n",
       "<table border=\"1\" class=\"dataframe\">\n",
       "  <thead>\n",
       "    <tr style=\"text-align: right;\">\n",
       "      <th></th>\n",
       "      <th>Mo</th>\n",
       "      <th>Tu</th>\n",
       "      <th>We</th>\n",
       "      <th>Th</th>\n",
       "      <th>Fr</th>\n",
       "      <th>Student</th>\n",
       "    </tr>\n",
       "  </thead>\n",
       "  <tbody>\n",
       "    <tr>\n",
       "      <th>w1</th>\n",
       "      <td>8.75</td>\n",
       "      <td>9.50</td>\n",
       "      <td>8.0</td>\n",
       "      <td>10.00</td>\n",
       "      <td>7.75</td>\n",
       "      <td>Bob</td>\n",
       "    </tr>\n",
       "    <tr>\n",
       "      <th>w1</th>\n",
       "      <td>8.00</td>\n",
       "      <td>9.00</td>\n",
       "      <td>10.0</td>\n",
       "      <td>8.75</td>\n",
       "      <td>7.25</td>\n",
       "      <td>Jane</td>\n",
       "    </tr>\n",
       "    <tr>\n",
       "      <th>w4</th>\n",
       "      <td>6.50</td>\n",
       "      <td>8.75</td>\n",
       "      <td>8.5</td>\n",
       "      <td>8.00</td>\n",
       "      <td>6.00</td>\n",
       "      <td>Bob</td>\n",
       "    </tr>\n",
       "    <tr>\n",
       "      <th>w4</th>\n",
       "      <td>10.00</td>\n",
       "      <td>9.25</td>\n",
       "      <td>8.5</td>\n",
       "      <td>7.75</td>\n",
       "      <td>7.50</td>\n",
       "      <td>Jane</td>\n",
       "    </tr>\n",
       "  </tbody>\n",
       "</table>\n",
       "</div>"
      ],
      "text/plain": [
       "       Mo    Tu    We     Th    Fr Student\n",
       "w1   8.75  9.50   8.0  10.00  7.75     Bob\n",
       "w1   8.00  9.00  10.0   8.75  7.25    Jane\n",
       "w4   6.50  8.75   8.5   8.00  6.00     Bob\n",
       "w4  10.00  9.25   8.5   7.75  7.50    Jane"
      ]
     },
     "execution_count": 295,
     "metadata": {},
     "output_type": "execute_result"
    }
   ],
   "source": [
    "new_df = scores.dropna()\n",
    "\n",
    "new_df"
   ]
  }
 ],
 "metadata": {
  "kernelspec": {
   "display_name": "Python 3 (ipykernel)",
   "language": "python",
   "name": "python3"
  },
  "language_info": {
   "codemirror_mode": {
    "name": "ipython",
    "version": 3
   },
   "file_extension": ".py",
   "mimetype": "text/x-python",
   "name": "python",
   "nbconvert_exporter": "python",
   "pygments_lexer": "ipython3",
   "version": "3.9.16"
  }
 },
 "nbformat": 4,
 "nbformat_minor": 5
}
